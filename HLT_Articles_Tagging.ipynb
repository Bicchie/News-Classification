{
  "nbformat": 4,
  "nbformat_minor": 0,
  "metadata": {
    "colab": {
      "name": "HLT - Articles Tagging.ipynb",
      "provenance": [],
      "collapsed_sections": [
        "0sKkMkaXbLsz",
        "S7N7KfgMq4Qm",
        "ykTOamOf1D57",
        "NBvS8uUmpmMG",
        "fZpp0PdDprs2",
        "a7zp4fX0zD61",
        "VZrRD9Cw3tx9",
        "Fm_thj68F6Vh",
        "RRGpwMspirhc",
        "aFNw8L6c-JRW",
        "GJ1UVqhgYZRE"
      ],
      "include_colab_link": true
    },
    "kernelspec": {
      "name": "python3",
      "display_name": "Python 3"
    },
    "language_info": {
      "name": "python"
    },
    "gpuClass": "standard",
    "accelerator": "GPU"
  },
  "cells": [
    {
      "cell_type": "markdown",
      "metadata": {
        "id": "view-in-github",
        "colab_type": "text"
      },
      "source": [
        "<a href=\"https://colab.research.google.com/github/Bicchie/News-Classification/blob/main/HLT_Articles_Tagging.ipynb\" target=\"_parent\"><img src=\"https://colab.research.google.com/assets/colab-badge.svg\" alt=\"Open In Colab\"/></a>"
      ]
    },
    {
      "cell_type": "markdown",
      "source": [
        "# Initialization"
      ],
      "metadata": {
        "id": "0sKkMkaXbLsz"
      }
    },
    {
      "cell_type": "code",
      "execution_count": null,
      "metadata": {
        "id": "KQIQw2k6xOa6",
        "colab": {
          "base_uri": "https://localhost:8080/"
        },
        "outputId": "9621063f-f01c-4efc-c09d-b04d890fa0a5"
      },
      "outputs": [
        {
          "output_type": "stream",
          "name": "stdout",
          "text": [
            "Mounted at /content/gdrive\n"
          ]
        }
      ],
      "source": [
        "from google.colab import drive\n",
        "drive.mount('/content/gdrive', force_remount=True)"
      ]
    },
    {
      "cell_type": "code",
      "source": [
        "! pip install -q kaggle\n",
        "\n",
        "#from google.colab import files\n",
        "#_ = files.upload()\n",
        "\n",
        "! mkdir -p ~/.kaggle\n",
        "! cp \"/content/gdrive/Shareddrives/HLT-ArticlesTagging/kaggle.json\" ~/.kaggle/\n",
        "! chmod 600 ~/.kaggle/kaggle.json"
      ],
      "metadata": {
        "id": "Ps4OtPFM4xeL"
      },
      "execution_count": null,
      "outputs": []
    },
    {
      "cell_type": "code",
      "source": [
        "! kaggle datasets download -d fabiochiusano/medium-articles --unzip"
      ],
      "metadata": {
        "id": "5DNK4f9R48SY",
        "colab": {
          "base_uri": "https://localhost:8080/"
        },
        "outputId": "96628b23-040a-481e-88a6-edc4dcf77da7"
      },
      "execution_count": null,
      "outputs": [
        {
          "output_type": "stream",
          "name": "stdout",
          "text": [
            "Downloading medium-articles.zip to /content\n",
            " 98% 361M/369M [00:13<00:00, 28.6MB/s]\n",
            "100% 369M/369M [00:14<00:00, 27.6MB/s]\n"
          ]
        }
      ]
    },
    {
      "cell_type": "code",
      "source": [
        "!pip install tensorflow==2.4.1 > null\n",
        "!pip install tensorflow-text==2.4.1 > null\n",
        "!pip install contractions > null\n",
        "!pip install keras==2.3.1 > null\n",
        "!pip install yake > null"
      ],
      "metadata": {
        "id": "U1Spy6V2m96i",
        "colab": {
          "base_uri": "https://localhost:8080/"
        },
        "outputId": "22de664f-01ee-4f72-f7de-9f3c824b1898"
      },
      "execution_count": null,
      "outputs": [
        {
          "output_type": "stream",
          "name": "stdout",
          "text": [
            "\u001b[31mERROR: pip's dependency resolver does not currently take into account all the packages that are installed. This behaviour is the source of the following dependency conflicts.\n",
            "xarray-einstats 0.2.2 requires numpy>=1.21, but you have numpy 1.19.5 which is incompatible.\n",
            "datascience 0.10.6 requires folium==0.2.1, but you have folium 0.8.3 which is incompatible.\n",
            "albumentations 0.1.12 requires imgaug<0.2.7,>=0.2.5, but you have imgaug 0.2.9 which is incompatible.\u001b[0m\n"
          ]
        }
      ]
    },
    {
      "cell_type": "code",
      "source": [
        "import ast\n",
        "import contractions\n",
        "from collections import Counter\n",
        "from gensim.scripts.glove2word2vec import glove2word2vec\n",
        "from gensim.models import KeyedVectors\n",
        "import matplotlib.pyplot as plt\n",
        "from keras.preprocessing.text import Tokenizer\n",
        "from keras.utils import to_categorical\n",
        "from keras.preprocessing.sequence import pad_sequences\n",
        "from tensorflow.keras.layers import Activation, Conv2D, Input, Embedding, Reshape, MaxPool2D, Concatenate, Flatten, Dropout, Dense, Conv1D\n",
        "from keras.layers import MaxPool1D\n",
        "from keras.models import Model\n",
        "from keras.callbacks import ModelCheckpoint\n",
        "from keras.optimizers import Adam\n",
        "import nltk\n",
        "nltk.download('punkt')\n",
        "from nltk.tokenize import word_tokenize\n",
        "from nltk import RegexpTokenizer\n",
        "import numpy as np\n",
        "import os\n",
        "import pandas as pd\n",
        "from pathlib import Path\n",
        "import re\n",
        "from sklearn.feature_extraction.text import TfidfVectorizer, TfidfTransformer, CountVectorizer\n",
        "from sklearn.naive_bayes import MultinomialNB\n",
        "from sklearn.pipeline import make_pipeline\n",
        "from sklearn.model_selection import train_test_split\n",
        "from sklearn.metrics import f1_score, ConfusionMatrixDisplay, accuracy_score\n",
        "from sklearn.metrics.pairwise import cosine_similarity,cosine_distances\n",
        "import sys\n",
        "import tensorflow_hub as hub\n",
        "import tensorflow_text as text\n",
        "import tensorflow as tf\n",
        "from tensorflow import keras\n",
        "from tensorflow.keras import Sequential\n",
        "from tensorflow.keras.layers import Embedding\n",
        "from tensorflow.keras.callbacks import EarlyStopping\n",
        "import time\n",
        "from tqdm import tqdm\n",
        "import yake\n"
      ],
      "metadata": {
        "id": "896iamaN5Wc9",
        "colab": {
          "base_uri": "https://localhost:8080/"
        },
        "outputId": "8f7b8de7-e81b-418d-a5ca-42581d382b36"
      },
      "execution_count": null,
      "outputs": [
        {
          "output_type": "stream",
          "name": "stderr",
          "text": [
            "Using TensorFlow backend.\n",
            "[nltk_data] Downloading package punkt to /root/nltk_data...\n",
            "[nltk_data]   Unzipping tokenizers/punkt.zip.\n"
          ]
        }
      ]
    },
    {
      "cell_type": "markdown",
      "source": [
        "#Data Collection and Preprocessing"
      ],
      "metadata": {
        "id": "S7N7KfgMq4Qm"
      }
    },
    {
      "cell_type": "code",
      "source": [
        "kaggle_df = pd.read_csv(\"/content/medium_articles.csv\")\n",
        "kaggle_df"
      ],
      "metadata": {
        "colab": {
          "base_uri": "https://localhost:8080/",
          "height": 424
        },
        "id": "mJ5mZTXE5cFG",
        "outputId": "38022fa4-b66b-4bc2-a0d0-05918549798e"
      },
      "execution_count": null,
      "outputs": [
        {
          "output_type": "execute_result",
          "data": {
            "text/plain": [
              "                                            title  \\\n",
              "0                             Mental Note Vol. 24   \n",
              "1                       Your Brain On Coronavirus   \n",
              "2                                  Mind Your Nose   \n",
              "3                        The 4 Purposes of Dreams   \n",
              "4                Surviving a Rod Through the Head   \n",
              "...                                           ...   \n",
              "192363        Why do you need a cleaning service?   \n",
              "192364  Daily cleaning and maintenance of bedding   \n",
              "192365        Beneficial Advice on Bond Cleaning!   \n",
              "192366    How I Learned Romanian in 37 Easy Steps   \n",
              "192367     Trying Pimsleur Cantonese in Hong Kong   \n",
              "\n",
              "                                                     text  \\\n",
              "0       Photo by Josh Riemer on Unsplash\\n\\nMerry Chri...   \n",
              "1       Your Brain On Coronavirus\\n\\nA guide to the cu...   \n",
              "2       Mind Your Nose\\n\\nHow smell training can chang...   \n",
              "3       Passionate about the synergy between science a...   \n",
              "4       You’ve heard of him, haven’t you? Phineas Gage...   \n",
              "...                                                   ...   \n",
              "192363  What could be more important than having a tid...   \n",
              "192364  Daily cleaning and maintenance of bedding\\n\\nW...   \n",
              "192365  The most important chore at the end is bond cl...   \n",
              "192366  How I Learned Romanian in 37 Easy Steps\\n\\nHey...   \n",
              "192367  Over the past few years, I’ve heard a number o...   \n",
              "\n",
              "                                                      url  \\\n",
              "0       https://medium.com/invisible-illness/mental-no...   \n",
              "1       https://medium.com/age-of-awareness/how-the-pa...   \n",
              "2       https://medium.com/neodotlife/mind-your-nose-f...   \n",
              "3       https://medium.com/science-for-real/the-4-purp...   \n",
              "4       https://medium.com/live-your-life-on-purpose/s...   \n",
              "...                                                   ...   \n",
              "192363  https://medium.com/@ozneedcleaningau/why-do-yo...   \n",
              "192364  https://medium.com/@a198blwt/daily-cleaning-an...   \n",
              "192365  https://medium.com/@princegohil/beneficial-adv...   \n",
              "192366  https://medium.com/@lifeinromania/how-i-learne...   \n",
              "192367  https://medium.com/toshuo/trying-pimsleur-cant...   \n",
              "\n",
              "                       authors                         timestamp  \\\n",
              "0                 ['Ryan Fan']  2020-12-26 03:38:10.479000+00:00   \n",
              "1            ['Simon Spichak']  2020-09-23 22:10:17.126000+00:00   \n",
              "2                           []  2020-10-10 20:17:37.132000+00:00   \n",
              "3       ['Eshan Samaranayake']  2020-12-21 16:05:19.524000+00:00   \n",
              "4             ['Rishav Sinha']  2020-02-26 00:01:01.576000+00:00   \n",
              "...                        ...                               ...   \n",
              "192363                      []  2021-11-16 08:17:08.950000+00:00   \n",
              "192364                      []  2021-11-16 05:27:05.359000+00:00   \n",
              "192365      ['Prince Shrawan']  2021-11-26 08:20:27.660000+00:00   \n",
              "192366            ['Sam Ursu']  2017-11-27 08:09:19.025000+00:00   \n",
              "192367                      []  2017-06-15 02:24:35.659000+00:00   \n",
              "\n",
              "                                                     tags  \n",
              "0       ['Mental Health', 'Health', 'Psychology', 'Sci...  \n",
              "1       ['Mental Health', 'Coronavirus', 'Science', 'P...  \n",
              "2       ['Biotechnology', 'Neuroscience', 'Brain', 'We...  \n",
              "3       ['Health', 'Neuroscience', 'Mental Health', 'P...  \n",
              "4       ['Brain', 'Health', 'Development', 'Psychology...  \n",
              "...                                                   ...  \n",
              "192363  ['Cleaning', 'Cleaning Services', 'Cleaning Co...  \n",
              "192364                ['Bedding', 'Cleaning', 'Maintain']  \n",
              "192365  ['Cleaning', 'End Of Lease Cleaning', 'Cleaners']  \n",
              "192366  ['Romania', 'Language Learning', 'Storyofmylife']  \n",
              "192367  ['Hong Kong', 'Cantonese', 'Language Learning'...  \n",
              "\n",
              "[192368 rows x 6 columns]"
            ],
            "text/html": [
              "\n",
              "  <div id=\"df-b6483cc2-96d8-465f-a402-61a2c194b338\">\n",
              "    <div class=\"colab-df-container\">\n",
              "      <div>\n",
              "<style scoped>\n",
              "    .dataframe tbody tr th:only-of-type {\n",
              "        vertical-align: middle;\n",
              "    }\n",
              "\n",
              "    .dataframe tbody tr th {\n",
              "        vertical-align: top;\n",
              "    }\n",
              "\n",
              "    .dataframe thead th {\n",
              "        text-align: right;\n",
              "    }\n",
              "</style>\n",
              "<table border=\"1\" class=\"dataframe\">\n",
              "  <thead>\n",
              "    <tr style=\"text-align: right;\">\n",
              "      <th></th>\n",
              "      <th>title</th>\n",
              "      <th>text</th>\n",
              "      <th>url</th>\n",
              "      <th>authors</th>\n",
              "      <th>timestamp</th>\n",
              "      <th>tags</th>\n",
              "    </tr>\n",
              "  </thead>\n",
              "  <tbody>\n",
              "    <tr>\n",
              "      <th>0</th>\n",
              "      <td>Mental Note Vol. 24</td>\n",
              "      <td>Photo by Josh Riemer on Unsplash\\n\\nMerry Chri...</td>\n",
              "      <td>https://medium.com/invisible-illness/mental-no...</td>\n",
              "      <td>['Ryan Fan']</td>\n",
              "      <td>2020-12-26 03:38:10.479000+00:00</td>\n",
              "      <td>['Mental Health', 'Health', 'Psychology', 'Sci...</td>\n",
              "    </tr>\n",
              "    <tr>\n",
              "      <th>1</th>\n",
              "      <td>Your Brain On Coronavirus</td>\n",
              "      <td>Your Brain On Coronavirus\\n\\nA guide to the cu...</td>\n",
              "      <td>https://medium.com/age-of-awareness/how-the-pa...</td>\n",
              "      <td>['Simon Spichak']</td>\n",
              "      <td>2020-09-23 22:10:17.126000+00:00</td>\n",
              "      <td>['Mental Health', 'Coronavirus', 'Science', 'P...</td>\n",
              "    </tr>\n",
              "    <tr>\n",
              "      <th>2</th>\n",
              "      <td>Mind Your Nose</td>\n",
              "      <td>Mind Your Nose\\n\\nHow smell training can chang...</td>\n",
              "      <td>https://medium.com/neodotlife/mind-your-nose-f...</td>\n",
              "      <td>[]</td>\n",
              "      <td>2020-10-10 20:17:37.132000+00:00</td>\n",
              "      <td>['Biotechnology', 'Neuroscience', 'Brain', 'We...</td>\n",
              "    </tr>\n",
              "    <tr>\n",
              "      <th>3</th>\n",
              "      <td>The 4 Purposes of Dreams</td>\n",
              "      <td>Passionate about the synergy between science a...</td>\n",
              "      <td>https://medium.com/science-for-real/the-4-purp...</td>\n",
              "      <td>['Eshan Samaranayake']</td>\n",
              "      <td>2020-12-21 16:05:19.524000+00:00</td>\n",
              "      <td>['Health', 'Neuroscience', 'Mental Health', 'P...</td>\n",
              "    </tr>\n",
              "    <tr>\n",
              "      <th>4</th>\n",
              "      <td>Surviving a Rod Through the Head</td>\n",
              "      <td>You’ve heard of him, haven’t you? Phineas Gage...</td>\n",
              "      <td>https://medium.com/live-your-life-on-purpose/s...</td>\n",
              "      <td>['Rishav Sinha']</td>\n",
              "      <td>2020-02-26 00:01:01.576000+00:00</td>\n",
              "      <td>['Brain', 'Health', 'Development', 'Psychology...</td>\n",
              "    </tr>\n",
              "    <tr>\n",
              "      <th>...</th>\n",
              "      <td>...</td>\n",
              "      <td>...</td>\n",
              "      <td>...</td>\n",
              "      <td>...</td>\n",
              "      <td>...</td>\n",
              "      <td>...</td>\n",
              "    </tr>\n",
              "    <tr>\n",
              "      <th>192363</th>\n",
              "      <td>Why do you need a cleaning service?</td>\n",
              "      <td>What could be more important than having a tid...</td>\n",
              "      <td>https://medium.com/@ozneedcleaningau/why-do-yo...</td>\n",
              "      <td>[]</td>\n",
              "      <td>2021-11-16 08:17:08.950000+00:00</td>\n",
              "      <td>['Cleaning', 'Cleaning Services', 'Cleaning Co...</td>\n",
              "    </tr>\n",
              "    <tr>\n",
              "      <th>192364</th>\n",
              "      <td>Daily cleaning and maintenance of bedding</td>\n",
              "      <td>Daily cleaning and maintenance of bedding\\n\\nW...</td>\n",
              "      <td>https://medium.com/@a198blwt/daily-cleaning-an...</td>\n",
              "      <td>[]</td>\n",
              "      <td>2021-11-16 05:27:05.359000+00:00</td>\n",
              "      <td>['Bedding', 'Cleaning', 'Maintain']</td>\n",
              "    </tr>\n",
              "    <tr>\n",
              "      <th>192365</th>\n",
              "      <td>Beneficial Advice on Bond Cleaning!</td>\n",
              "      <td>The most important chore at the end is bond cl...</td>\n",
              "      <td>https://medium.com/@princegohil/beneficial-adv...</td>\n",
              "      <td>['Prince Shrawan']</td>\n",
              "      <td>2021-11-26 08:20:27.660000+00:00</td>\n",
              "      <td>['Cleaning', 'End Of Lease Cleaning', 'Cleaners']</td>\n",
              "    </tr>\n",
              "    <tr>\n",
              "      <th>192366</th>\n",
              "      <td>How I Learned Romanian in 37 Easy Steps</td>\n",
              "      <td>How I Learned Romanian in 37 Easy Steps\\n\\nHey...</td>\n",
              "      <td>https://medium.com/@lifeinromania/how-i-learne...</td>\n",
              "      <td>['Sam Ursu']</td>\n",
              "      <td>2017-11-27 08:09:19.025000+00:00</td>\n",
              "      <td>['Romania', 'Language Learning', 'Storyofmylife']</td>\n",
              "    </tr>\n",
              "    <tr>\n",
              "      <th>192367</th>\n",
              "      <td>Trying Pimsleur Cantonese in Hong Kong</td>\n",
              "      <td>Over the past few years, I’ve heard a number o...</td>\n",
              "      <td>https://medium.com/toshuo/trying-pimsleur-cant...</td>\n",
              "      <td>[]</td>\n",
              "      <td>2017-06-15 02:24:35.659000+00:00</td>\n",
              "      <td>['Hong Kong', 'Cantonese', 'Language Learning'...</td>\n",
              "    </tr>\n",
              "  </tbody>\n",
              "</table>\n",
              "<p>192368 rows × 6 columns</p>\n",
              "</div>\n",
              "      <button class=\"colab-df-convert\" onclick=\"convertToInteractive('df-b6483cc2-96d8-465f-a402-61a2c194b338')\"\n",
              "              title=\"Convert this dataframe to an interactive table.\"\n",
              "              style=\"display:none;\">\n",
              "        \n",
              "  <svg xmlns=\"http://www.w3.org/2000/svg\" height=\"24px\"viewBox=\"0 0 24 24\"\n",
              "       width=\"24px\">\n",
              "    <path d=\"M0 0h24v24H0V0z\" fill=\"none\"/>\n",
              "    <path d=\"M18.56 5.44l.94 2.06.94-2.06 2.06-.94-2.06-.94-.94-2.06-.94 2.06-2.06.94zm-11 1L8.5 8.5l.94-2.06 2.06-.94-2.06-.94L8.5 2.5l-.94 2.06-2.06.94zm10 10l.94 2.06.94-2.06 2.06-.94-2.06-.94-.94-2.06-.94 2.06-2.06.94z\"/><path d=\"M17.41 7.96l-1.37-1.37c-.4-.4-.92-.59-1.43-.59-.52 0-1.04.2-1.43.59L10.3 9.45l-7.72 7.72c-.78.78-.78 2.05 0 2.83L4 21.41c.39.39.9.59 1.41.59.51 0 1.02-.2 1.41-.59l7.78-7.78 2.81-2.81c.8-.78.8-2.07 0-2.86zM5.41 20L4 18.59l7.72-7.72 1.47 1.35L5.41 20z\"/>\n",
              "  </svg>\n",
              "      </button>\n",
              "      \n",
              "  <style>\n",
              "    .colab-df-container {\n",
              "      display:flex;\n",
              "      flex-wrap:wrap;\n",
              "      gap: 12px;\n",
              "    }\n",
              "\n",
              "    .colab-df-convert {\n",
              "      background-color: #E8F0FE;\n",
              "      border: none;\n",
              "      border-radius: 50%;\n",
              "      cursor: pointer;\n",
              "      display: none;\n",
              "      fill: #1967D2;\n",
              "      height: 32px;\n",
              "      padding: 0 0 0 0;\n",
              "      width: 32px;\n",
              "    }\n",
              "\n",
              "    .colab-df-convert:hover {\n",
              "      background-color: #E2EBFA;\n",
              "      box-shadow: 0px 1px 2px rgba(60, 64, 67, 0.3), 0px 1px 3px 1px rgba(60, 64, 67, 0.15);\n",
              "      fill: #174EA6;\n",
              "    }\n",
              "\n",
              "    [theme=dark] .colab-df-convert {\n",
              "      background-color: #3B4455;\n",
              "      fill: #D2E3FC;\n",
              "    }\n",
              "\n",
              "    [theme=dark] .colab-df-convert:hover {\n",
              "      background-color: #434B5C;\n",
              "      box-shadow: 0px 1px 3px 1px rgba(0, 0, 0, 0.15);\n",
              "      filter: drop-shadow(0px 1px 2px rgba(0, 0, 0, 0.3));\n",
              "      fill: #FFFFFF;\n",
              "    }\n",
              "  </style>\n",
              "\n",
              "      <script>\n",
              "        const buttonEl =\n",
              "          document.querySelector('#df-b6483cc2-96d8-465f-a402-61a2c194b338 button.colab-df-convert');\n",
              "        buttonEl.style.display =\n",
              "          google.colab.kernel.accessAllowed ? 'block' : 'none';\n",
              "\n",
              "        async function convertToInteractive(key) {\n",
              "          const element = document.querySelector('#df-b6483cc2-96d8-465f-a402-61a2c194b338');\n",
              "          const dataTable =\n",
              "            await google.colab.kernel.invokeFunction('convertToInteractive',\n",
              "                                                     [key], {});\n",
              "          if (!dataTable) return;\n",
              "\n",
              "          const docLinkHtml = 'Like what you see? Visit the ' +\n",
              "            '<a target=\"_blank\" href=https://colab.research.google.com/notebooks/data_table.ipynb>data table notebook</a>'\n",
              "            + ' to learn more about interactive tables.';\n",
              "          element.innerHTML = '';\n",
              "          dataTable['output_type'] = 'display_data';\n",
              "          await google.colab.output.renderOutput(dataTable, element);\n",
              "          const docLink = document.createElement('div');\n",
              "          docLink.innerHTML = docLinkHtml;\n",
              "          element.appendChild(docLink);\n",
              "        }\n",
              "      </script>\n",
              "    </div>\n",
              "  </div>\n",
              "  "
            ]
          },
          "metadata": {},
          "execution_count": 7
        }
      ]
    },
    {
      "cell_type": "code",
      "source": [
        "xss = kaggle_df.tags.tolist()\n",
        "flat_list = [x for xs in xss for x in ast.literal_eval(xs)]\n",
        "counter = Counter(flat_list)\n",
        "list({k: v for k, v in sorted(counter.items(), key=lambda item: -item[1])})[0:30]"
      ],
      "metadata": {
        "colab": {
          "base_uri": "https://localhost:8080/"
        },
        "id": "NTkwNcer54Ha",
        "outputId": "2fca6e33-4a31-4c88-dfbb-9661527981f2"
      },
      "execution_count": null,
      "outputs": [
        {
          "output_type": "execute_result",
          "data": {
            "text/plain": [
              "['Blockchain',\n",
              " 'Data Science',\n",
              " 'Technology',\n",
              " 'Programming',\n",
              " 'Poetry',\n",
              " 'Cryptocurrency',\n",
              " 'Machine Learning',\n",
              " 'Life',\n",
              " 'Bitcoin',\n",
              " 'Writing',\n",
              " 'Politics',\n",
              " 'Startup',\n",
              " 'Life Lessons',\n",
              " 'Self Improvement',\n",
              " 'Covid 19',\n",
              " 'Software Development',\n",
              " 'Love',\n",
              " 'Python',\n",
              " 'Business',\n",
              " 'Health',\n",
              " 'Mental Health',\n",
              " 'JavaScript',\n",
              " 'Relationships',\n",
              " 'Education',\n",
              " 'Artificial Intelligence',\n",
              " 'Culture',\n",
              " 'Design',\n",
              " 'Self',\n",
              " 'Marketing',\n",
              " 'Entrepreneurship']"
            ]
          },
          "metadata": {},
          "execution_count": 8
        }
      ]
    },
    {
      "cell_type": "markdown",
      "source": [
        "These are the tags that we have by giving value to the number of articles that contain them and to have semantically different topics."
      ],
      "metadata": {
        "id": "ZmUVTnLLcntO"
      }
    },
    {
      "cell_type": "code",
      "source": [
        "Tags = {\n",
        "    'Technology',\n",
        "    'Politics',\n",
        "    'Health',\n",
        "    'Education',\n",
        "    'Music',\n",
        "    'Travel',\n",
        "    'Finance',\n",
        "    'History'\n",
        "}"
      ],
      "metadata": {
        "id": "nGzh1VqM7Jzx"
      },
      "execution_count": null,
      "outputs": []
    },
    {
      "cell_type": "code",
      "source": [
        "column_tag = []\n",
        "count = 0\n",
        "\n",
        "# select the articles with the tag choosen\n",
        "tags = kaggle_df.tags.tolist()\n",
        "for tag_list in tags:\n",
        "  for tag in ast.literal_eval(tag_list):\n",
        "    if tag in Tags:\n",
        "      temp = tag\n",
        "      count = count + 1\n",
        "  if count == 1:\n",
        "    column_tag.append(temp)\n",
        "  else:\n",
        "    column_tag.append('NoTag')\n",
        "  count = 0\n",
        "\n",
        "\n",
        "kaggle_df['Tag'] = column_tag\n",
        "kaggle_df"
      ],
      "metadata": {
        "colab": {
          "base_uri": "https://localhost:8080/",
          "height": 624
        },
        "id": "3oAXOUY97wxh",
        "outputId": "91196ea5-8db3-498d-b87f-5480e13afb7f"
      },
      "execution_count": null,
      "outputs": [
        {
          "output_type": "execute_result",
          "data": {
            "text/plain": [
              "                                            title  \\\n",
              "0                             Mental Note Vol. 24   \n",
              "1                       Your Brain On Coronavirus   \n",
              "2                                  Mind Your Nose   \n",
              "3                        The 4 Purposes of Dreams   \n",
              "4                Surviving a Rod Through the Head   \n",
              "...                                           ...   \n",
              "192363        Why do you need a cleaning service?   \n",
              "192364  Daily cleaning and maintenance of bedding   \n",
              "192365        Beneficial Advice on Bond Cleaning!   \n",
              "192366    How I Learned Romanian in 37 Easy Steps   \n",
              "192367     Trying Pimsleur Cantonese in Hong Kong   \n",
              "\n",
              "                                                     text  \\\n",
              "0       Photo by Josh Riemer on Unsplash\\n\\nMerry Chri...   \n",
              "1       Your Brain On Coronavirus\\n\\nA guide to the cu...   \n",
              "2       Mind Your Nose\\n\\nHow smell training can chang...   \n",
              "3       Passionate about the synergy between science a...   \n",
              "4       You’ve heard of him, haven’t you? Phineas Gage...   \n",
              "...                                                   ...   \n",
              "192363  What could be more important than having a tid...   \n",
              "192364  Daily cleaning and maintenance of bedding\\n\\nW...   \n",
              "192365  The most important chore at the end is bond cl...   \n",
              "192366  How I Learned Romanian in 37 Easy Steps\\n\\nHey...   \n",
              "192367  Over the past few years, I’ve heard a number o...   \n",
              "\n",
              "                                                      url  \\\n",
              "0       https://medium.com/invisible-illness/mental-no...   \n",
              "1       https://medium.com/age-of-awareness/how-the-pa...   \n",
              "2       https://medium.com/neodotlife/mind-your-nose-f...   \n",
              "3       https://medium.com/science-for-real/the-4-purp...   \n",
              "4       https://medium.com/live-your-life-on-purpose/s...   \n",
              "...                                                   ...   \n",
              "192363  https://medium.com/@ozneedcleaningau/why-do-yo...   \n",
              "192364  https://medium.com/@a198blwt/daily-cleaning-an...   \n",
              "192365  https://medium.com/@princegohil/beneficial-adv...   \n",
              "192366  https://medium.com/@lifeinromania/how-i-learne...   \n",
              "192367  https://medium.com/toshuo/trying-pimsleur-cant...   \n",
              "\n",
              "                       authors                         timestamp  \\\n",
              "0                 ['Ryan Fan']  2020-12-26 03:38:10.479000+00:00   \n",
              "1            ['Simon Spichak']  2020-09-23 22:10:17.126000+00:00   \n",
              "2                           []  2020-10-10 20:17:37.132000+00:00   \n",
              "3       ['Eshan Samaranayake']  2020-12-21 16:05:19.524000+00:00   \n",
              "4             ['Rishav Sinha']  2020-02-26 00:01:01.576000+00:00   \n",
              "...                        ...                               ...   \n",
              "192363                      []  2021-11-16 08:17:08.950000+00:00   \n",
              "192364                      []  2021-11-16 05:27:05.359000+00:00   \n",
              "192365      ['Prince Shrawan']  2021-11-26 08:20:27.660000+00:00   \n",
              "192366            ['Sam Ursu']  2017-11-27 08:09:19.025000+00:00   \n",
              "192367                      []  2017-06-15 02:24:35.659000+00:00   \n",
              "\n",
              "                                                     tags     Tag  \n",
              "0       ['Mental Health', 'Health', 'Psychology', 'Sci...  Health  \n",
              "1       ['Mental Health', 'Coronavirus', 'Science', 'P...   NoTag  \n",
              "2       ['Biotechnology', 'Neuroscience', 'Brain', 'We...   NoTag  \n",
              "3       ['Health', 'Neuroscience', 'Mental Health', 'P...  Health  \n",
              "4       ['Brain', 'Health', 'Development', 'Psychology...  Health  \n",
              "...                                                   ...     ...  \n",
              "192363  ['Cleaning', 'Cleaning Services', 'Cleaning Co...   NoTag  \n",
              "192364                ['Bedding', 'Cleaning', 'Maintain']   NoTag  \n",
              "192365  ['Cleaning', 'End Of Lease Cleaning', 'Cleaners']   NoTag  \n",
              "192366  ['Romania', 'Language Learning', 'Storyofmylife']   NoTag  \n",
              "192367  ['Hong Kong', 'Cantonese', 'Language Learning'...   NoTag  \n",
              "\n",
              "[192368 rows x 7 columns]"
            ],
            "text/html": [
              "\n",
              "  <div id=\"df-fad1b0fa-c5df-48c1-b001-0c0909c99088\">\n",
              "    <div class=\"colab-df-container\">\n",
              "      <div>\n",
              "<style scoped>\n",
              "    .dataframe tbody tr th:only-of-type {\n",
              "        vertical-align: middle;\n",
              "    }\n",
              "\n",
              "    .dataframe tbody tr th {\n",
              "        vertical-align: top;\n",
              "    }\n",
              "\n",
              "    .dataframe thead th {\n",
              "        text-align: right;\n",
              "    }\n",
              "</style>\n",
              "<table border=\"1\" class=\"dataframe\">\n",
              "  <thead>\n",
              "    <tr style=\"text-align: right;\">\n",
              "      <th></th>\n",
              "      <th>title</th>\n",
              "      <th>text</th>\n",
              "      <th>url</th>\n",
              "      <th>authors</th>\n",
              "      <th>timestamp</th>\n",
              "      <th>tags</th>\n",
              "      <th>Tag</th>\n",
              "    </tr>\n",
              "  </thead>\n",
              "  <tbody>\n",
              "    <tr>\n",
              "      <th>0</th>\n",
              "      <td>Mental Note Vol. 24</td>\n",
              "      <td>Photo by Josh Riemer on Unsplash\\n\\nMerry Chri...</td>\n",
              "      <td>https://medium.com/invisible-illness/mental-no...</td>\n",
              "      <td>['Ryan Fan']</td>\n",
              "      <td>2020-12-26 03:38:10.479000+00:00</td>\n",
              "      <td>['Mental Health', 'Health', 'Psychology', 'Sci...</td>\n",
              "      <td>Health</td>\n",
              "    </tr>\n",
              "    <tr>\n",
              "      <th>1</th>\n",
              "      <td>Your Brain On Coronavirus</td>\n",
              "      <td>Your Brain On Coronavirus\\n\\nA guide to the cu...</td>\n",
              "      <td>https://medium.com/age-of-awareness/how-the-pa...</td>\n",
              "      <td>['Simon Spichak']</td>\n",
              "      <td>2020-09-23 22:10:17.126000+00:00</td>\n",
              "      <td>['Mental Health', 'Coronavirus', 'Science', 'P...</td>\n",
              "      <td>NoTag</td>\n",
              "    </tr>\n",
              "    <tr>\n",
              "      <th>2</th>\n",
              "      <td>Mind Your Nose</td>\n",
              "      <td>Mind Your Nose\\n\\nHow smell training can chang...</td>\n",
              "      <td>https://medium.com/neodotlife/mind-your-nose-f...</td>\n",
              "      <td>[]</td>\n",
              "      <td>2020-10-10 20:17:37.132000+00:00</td>\n",
              "      <td>['Biotechnology', 'Neuroscience', 'Brain', 'We...</td>\n",
              "      <td>NoTag</td>\n",
              "    </tr>\n",
              "    <tr>\n",
              "      <th>3</th>\n",
              "      <td>The 4 Purposes of Dreams</td>\n",
              "      <td>Passionate about the synergy between science a...</td>\n",
              "      <td>https://medium.com/science-for-real/the-4-purp...</td>\n",
              "      <td>['Eshan Samaranayake']</td>\n",
              "      <td>2020-12-21 16:05:19.524000+00:00</td>\n",
              "      <td>['Health', 'Neuroscience', 'Mental Health', 'P...</td>\n",
              "      <td>Health</td>\n",
              "    </tr>\n",
              "    <tr>\n",
              "      <th>4</th>\n",
              "      <td>Surviving a Rod Through the Head</td>\n",
              "      <td>You’ve heard of him, haven’t you? Phineas Gage...</td>\n",
              "      <td>https://medium.com/live-your-life-on-purpose/s...</td>\n",
              "      <td>['Rishav Sinha']</td>\n",
              "      <td>2020-02-26 00:01:01.576000+00:00</td>\n",
              "      <td>['Brain', 'Health', 'Development', 'Psychology...</td>\n",
              "      <td>Health</td>\n",
              "    </tr>\n",
              "    <tr>\n",
              "      <th>...</th>\n",
              "      <td>...</td>\n",
              "      <td>...</td>\n",
              "      <td>...</td>\n",
              "      <td>...</td>\n",
              "      <td>...</td>\n",
              "      <td>...</td>\n",
              "      <td>...</td>\n",
              "    </tr>\n",
              "    <tr>\n",
              "      <th>192363</th>\n",
              "      <td>Why do you need a cleaning service?</td>\n",
              "      <td>What could be more important than having a tid...</td>\n",
              "      <td>https://medium.com/@ozneedcleaningau/why-do-yo...</td>\n",
              "      <td>[]</td>\n",
              "      <td>2021-11-16 08:17:08.950000+00:00</td>\n",
              "      <td>['Cleaning', 'Cleaning Services', 'Cleaning Co...</td>\n",
              "      <td>NoTag</td>\n",
              "    </tr>\n",
              "    <tr>\n",
              "      <th>192364</th>\n",
              "      <td>Daily cleaning and maintenance of bedding</td>\n",
              "      <td>Daily cleaning and maintenance of bedding\\n\\nW...</td>\n",
              "      <td>https://medium.com/@a198blwt/daily-cleaning-an...</td>\n",
              "      <td>[]</td>\n",
              "      <td>2021-11-16 05:27:05.359000+00:00</td>\n",
              "      <td>['Bedding', 'Cleaning', 'Maintain']</td>\n",
              "      <td>NoTag</td>\n",
              "    </tr>\n",
              "    <tr>\n",
              "      <th>192365</th>\n",
              "      <td>Beneficial Advice on Bond Cleaning!</td>\n",
              "      <td>The most important chore at the end is bond cl...</td>\n",
              "      <td>https://medium.com/@princegohil/beneficial-adv...</td>\n",
              "      <td>['Prince Shrawan']</td>\n",
              "      <td>2021-11-26 08:20:27.660000+00:00</td>\n",
              "      <td>['Cleaning', 'End Of Lease Cleaning', 'Cleaners']</td>\n",
              "      <td>NoTag</td>\n",
              "    </tr>\n",
              "    <tr>\n",
              "      <th>192366</th>\n",
              "      <td>How I Learned Romanian in 37 Easy Steps</td>\n",
              "      <td>How I Learned Romanian in 37 Easy Steps\\n\\nHey...</td>\n",
              "      <td>https://medium.com/@lifeinromania/how-i-learne...</td>\n",
              "      <td>['Sam Ursu']</td>\n",
              "      <td>2017-11-27 08:09:19.025000+00:00</td>\n",
              "      <td>['Romania', 'Language Learning', 'Storyofmylife']</td>\n",
              "      <td>NoTag</td>\n",
              "    </tr>\n",
              "    <tr>\n",
              "      <th>192367</th>\n",
              "      <td>Trying Pimsleur Cantonese in Hong Kong</td>\n",
              "      <td>Over the past few years, I’ve heard a number o...</td>\n",
              "      <td>https://medium.com/toshuo/trying-pimsleur-cant...</td>\n",
              "      <td>[]</td>\n",
              "      <td>2017-06-15 02:24:35.659000+00:00</td>\n",
              "      <td>['Hong Kong', 'Cantonese', 'Language Learning'...</td>\n",
              "      <td>NoTag</td>\n",
              "    </tr>\n",
              "  </tbody>\n",
              "</table>\n",
              "<p>192368 rows × 7 columns</p>\n",
              "</div>\n",
              "      <button class=\"colab-df-convert\" onclick=\"convertToInteractive('df-fad1b0fa-c5df-48c1-b001-0c0909c99088')\"\n",
              "              title=\"Convert this dataframe to an interactive table.\"\n",
              "              style=\"display:none;\">\n",
              "        \n",
              "  <svg xmlns=\"http://www.w3.org/2000/svg\" height=\"24px\"viewBox=\"0 0 24 24\"\n",
              "       width=\"24px\">\n",
              "    <path d=\"M0 0h24v24H0V0z\" fill=\"none\"/>\n",
              "    <path d=\"M18.56 5.44l.94 2.06.94-2.06 2.06-.94-2.06-.94-.94-2.06-.94 2.06-2.06.94zm-11 1L8.5 8.5l.94-2.06 2.06-.94-2.06-.94L8.5 2.5l-.94 2.06-2.06.94zm10 10l.94 2.06.94-2.06 2.06-.94-2.06-.94-.94-2.06-.94 2.06-2.06.94z\"/><path d=\"M17.41 7.96l-1.37-1.37c-.4-.4-.92-.59-1.43-.59-.52 0-1.04.2-1.43.59L10.3 9.45l-7.72 7.72c-.78.78-.78 2.05 0 2.83L4 21.41c.39.39.9.59 1.41.59.51 0 1.02-.2 1.41-.59l7.78-7.78 2.81-2.81c.8-.78.8-2.07 0-2.86zM5.41 20L4 18.59l7.72-7.72 1.47 1.35L5.41 20z\"/>\n",
              "  </svg>\n",
              "      </button>\n",
              "      \n",
              "  <style>\n",
              "    .colab-df-container {\n",
              "      display:flex;\n",
              "      flex-wrap:wrap;\n",
              "      gap: 12px;\n",
              "    }\n",
              "\n",
              "    .colab-df-convert {\n",
              "      background-color: #E8F0FE;\n",
              "      border: none;\n",
              "      border-radius: 50%;\n",
              "      cursor: pointer;\n",
              "      display: none;\n",
              "      fill: #1967D2;\n",
              "      height: 32px;\n",
              "      padding: 0 0 0 0;\n",
              "      width: 32px;\n",
              "    }\n",
              "\n",
              "    .colab-df-convert:hover {\n",
              "      background-color: #E2EBFA;\n",
              "      box-shadow: 0px 1px 2px rgba(60, 64, 67, 0.3), 0px 1px 3px 1px rgba(60, 64, 67, 0.15);\n",
              "      fill: #174EA6;\n",
              "    }\n",
              "\n",
              "    [theme=dark] .colab-df-convert {\n",
              "      background-color: #3B4455;\n",
              "      fill: #D2E3FC;\n",
              "    }\n",
              "\n",
              "    [theme=dark] .colab-df-convert:hover {\n",
              "      background-color: #434B5C;\n",
              "      box-shadow: 0px 1px 3px 1px rgba(0, 0, 0, 0.15);\n",
              "      filter: drop-shadow(0px 1px 2px rgba(0, 0, 0, 0.3));\n",
              "      fill: #FFFFFF;\n",
              "    }\n",
              "  </style>\n",
              "\n",
              "      <script>\n",
              "        const buttonEl =\n",
              "          document.querySelector('#df-fad1b0fa-c5df-48c1-b001-0c0909c99088 button.colab-df-convert');\n",
              "        buttonEl.style.display =\n",
              "          google.colab.kernel.accessAllowed ? 'block' : 'none';\n",
              "\n",
              "        async function convertToInteractive(key) {\n",
              "          const element = document.querySelector('#df-fad1b0fa-c5df-48c1-b001-0c0909c99088');\n",
              "          const dataTable =\n",
              "            await google.colab.kernel.invokeFunction('convertToInteractive',\n",
              "                                                     [key], {});\n",
              "          if (!dataTable) return;\n",
              "\n",
              "          const docLinkHtml = 'Like what you see? Visit the ' +\n",
              "            '<a target=\"_blank\" href=https://colab.research.google.com/notebooks/data_table.ipynb>data table notebook</a>'\n",
              "            + ' to learn more about interactive tables.';\n",
              "          element.innerHTML = '';\n",
              "          dataTable['output_type'] = 'display_data';\n",
              "          await google.colab.output.renderOutput(dataTable, element);\n",
              "          const docLink = document.createElement('div');\n",
              "          docLink.innerHTML = docLinkHtml;\n",
              "          element.appendChild(docLink);\n",
              "        }\n",
              "      </script>\n",
              "    </div>\n",
              "  </div>\n",
              "  "
            ]
          },
          "metadata": {},
          "execution_count": 9
        }
      ]
    },
    {
      "cell_type": "code",
      "source": [
        "filtered_df = kaggle_df[kaggle_df[\"Tag\"] != 'NoTag']\n",
        "filtered_df = filtered_df.drop(\"url\", axis = 1)\n",
        "filtered_df = filtered_df.drop(\"authors\", axis = 1)\n",
        "filtered_df = filtered_df.drop(\"timestamp\", axis = 1)\n",
        "filtered_df = filtered_df.drop(\"tags\", axis = 1)\n",
        "filtered_df = filtered_df.reset_index()\n",
        "filtered_df = filtered_df.drop(\"title\", axis = 1)\n",
        "filtered_df = filtered_df.drop(\"index\", axis = 1)\n",
        "\n",
        "filtered_df = filtered_df.dropna()\n",
        "filtered_df"
      ],
      "metadata": {
        "id": "LXTTddRv_6Zr",
        "colab": {
          "base_uri": "https://localhost:8080/",
          "height": 424
        },
        "outputId": "fefd3c4d-9a15-4340-d5ee-5970a09c6109"
      },
      "execution_count": null,
      "outputs": [
        {
          "output_type": "execute_result",
          "data": {
            "text/plain": [
              "                                                    text     Tag\n",
              "0      Photo by Josh Riemer on Unsplash\\n\\nMerry Chri...  Health\n",
              "1      Passionate about the synergy between science a...  Health\n",
              "2      You’ve heard of him, haven’t you? Phineas Gage...  Health\n",
              "3      Mentally, Young Adults Are Suffering Most From...  Health\n",
              "4      Dr Faisal Dar — Pioneer of Liver Transplantati...  Health\n",
              "...                                                  ...     ...\n",
              "24015  The Andaman Islands, a conglomerate of pristin...  Travel\n",
              "24016  Whether people are traveling for pleasure or b...  Travel\n",
              "24017  Photo credit: Jenna Foxton\\n\\nShambala is a fo...   Music\n",
              "24018  Type 2 diabetes is on the rise globally, and h...  Health\n",
              "24019  The Concept of Stem Cells\\n\\nEmbryonic stem ce...  Health\n",
              "\n",
              "[24020 rows x 2 columns]"
            ],
            "text/html": [
              "\n",
              "  <div id=\"df-fcbf8cc8-90f5-4046-aa5f-6d937c92b65f\">\n",
              "    <div class=\"colab-df-container\">\n",
              "      <div>\n",
              "<style scoped>\n",
              "    .dataframe tbody tr th:only-of-type {\n",
              "        vertical-align: middle;\n",
              "    }\n",
              "\n",
              "    .dataframe tbody tr th {\n",
              "        vertical-align: top;\n",
              "    }\n",
              "\n",
              "    .dataframe thead th {\n",
              "        text-align: right;\n",
              "    }\n",
              "</style>\n",
              "<table border=\"1\" class=\"dataframe\">\n",
              "  <thead>\n",
              "    <tr style=\"text-align: right;\">\n",
              "      <th></th>\n",
              "      <th>text</th>\n",
              "      <th>Tag</th>\n",
              "    </tr>\n",
              "  </thead>\n",
              "  <tbody>\n",
              "    <tr>\n",
              "      <th>0</th>\n",
              "      <td>Photo by Josh Riemer on Unsplash\\n\\nMerry Chri...</td>\n",
              "      <td>Health</td>\n",
              "    </tr>\n",
              "    <tr>\n",
              "      <th>1</th>\n",
              "      <td>Passionate about the synergy between science a...</td>\n",
              "      <td>Health</td>\n",
              "    </tr>\n",
              "    <tr>\n",
              "      <th>2</th>\n",
              "      <td>You’ve heard of him, haven’t you? Phineas Gage...</td>\n",
              "      <td>Health</td>\n",
              "    </tr>\n",
              "    <tr>\n",
              "      <th>3</th>\n",
              "      <td>Mentally, Young Adults Are Suffering Most From...</td>\n",
              "      <td>Health</td>\n",
              "    </tr>\n",
              "    <tr>\n",
              "      <th>4</th>\n",
              "      <td>Dr Faisal Dar — Pioneer of Liver Transplantati...</td>\n",
              "      <td>Health</td>\n",
              "    </tr>\n",
              "    <tr>\n",
              "      <th>...</th>\n",
              "      <td>...</td>\n",
              "      <td>...</td>\n",
              "    </tr>\n",
              "    <tr>\n",
              "      <th>24015</th>\n",
              "      <td>The Andaman Islands, a conglomerate of pristin...</td>\n",
              "      <td>Travel</td>\n",
              "    </tr>\n",
              "    <tr>\n",
              "      <th>24016</th>\n",
              "      <td>Whether people are traveling for pleasure or b...</td>\n",
              "      <td>Travel</td>\n",
              "    </tr>\n",
              "    <tr>\n",
              "      <th>24017</th>\n",
              "      <td>Photo credit: Jenna Foxton\\n\\nShambala is a fo...</td>\n",
              "      <td>Music</td>\n",
              "    </tr>\n",
              "    <tr>\n",
              "      <th>24018</th>\n",
              "      <td>Type 2 diabetes is on the rise globally, and h...</td>\n",
              "      <td>Health</td>\n",
              "    </tr>\n",
              "    <tr>\n",
              "      <th>24019</th>\n",
              "      <td>The Concept of Stem Cells\\n\\nEmbryonic stem ce...</td>\n",
              "      <td>Health</td>\n",
              "    </tr>\n",
              "  </tbody>\n",
              "</table>\n",
              "<p>24020 rows × 2 columns</p>\n",
              "</div>\n",
              "      <button class=\"colab-df-convert\" onclick=\"convertToInteractive('df-fcbf8cc8-90f5-4046-aa5f-6d937c92b65f')\"\n",
              "              title=\"Convert this dataframe to an interactive table.\"\n",
              "              style=\"display:none;\">\n",
              "        \n",
              "  <svg xmlns=\"http://www.w3.org/2000/svg\" height=\"24px\"viewBox=\"0 0 24 24\"\n",
              "       width=\"24px\">\n",
              "    <path d=\"M0 0h24v24H0V0z\" fill=\"none\"/>\n",
              "    <path d=\"M18.56 5.44l.94 2.06.94-2.06 2.06-.94-2.06-.94-.94-2.06-.94 2.06-2.06.94zm-11 1L8.5 8.5l.94-2.06 2.06-.94-2.06-.94L8.5 2.5l-.94 2.06-2.06.94zm10 10l.94 2.06.94-2.06 2.06-.94-2.06-.94-.94-2.06-.94 2.06-2.06.94z\"/><path d=\"M17.41 7.96l-1.37-1.37c-.4-.4-.92-.59-1.43-.59-.52 0-1.04.2-1.43.59L10.3 9.45l-7.72 7.72c-.78.78-.78 2.05 0 2.83L4 21.41c.39.39.9.59 1.41.59.51 0 1.02-.2 1.41-.59l7.78-7.78 2.81-2.81c.8-.78.8-2.07 0-2.86zM5.41 20L4 18.59l7.72-7.72 1.47 1.35L5.41 20z\"/>\n",
              "  </svg>\n",
              "      </button>\n",
              "      \n",
              "  <style>\n",
              "    .colab-df-container {\n",
              "      display:flex;\n",
              "      flex-wrap:wrap;\n",
              "      gap: 12px;\n",
              "    }\n",
              "\n",
              "    .colab-df-convert {\n",
              "      background-color: #E8F0FE;\n",
              "      border: none;\n",
              "      border-radius: 50%;\n",
              "      cursor: pointer;\n",
              "      display: none;\n",
              "      fill: #1967D2;\n",
              "      height: 32px;\n",
              "      padding: 0 0 0 0;\n",
              "      width: 32px;\n",
              "    }\n",
              "\n",
              "    .colab-df-convert:hover {\n",
              "      background-color: #E2EBFA;\n",
              "      box-shadow: 0px 1px 2px rgba(60, 64, 67, 0.3), 0px 1px 3px 1px rgba(60, 64, 67, 0.15);\n",
              "      fill: #174EA6;\n",
              "    }\n",
              "\n",
              "    [theme=dark] .colab-df-convert {\n",
              "      background-color: #3B4455;\n",
              "      fill: #D2E3FC;\n",
              "    }\n",
              "\n",
              "    [theme=dark] .colab-df-convert:hover {\n",
              "      background-color: #434B5C;\n",
              "      box-shadow: 0px 1px 3px 1px rgba(0, 0, 0, 0.15);\n",
              "      filter: drop-shadow(0px 1px 2px rgba(0, 0, 0, 0.3));\n",
              "      fill: #FFFFFF;\n",
              "    }\n",
              "  </style>\n",
              "\n",
              "      <script>\n",
              "        const buttonEl =\n",
              "          document.querySelector('#df-fcbf8cc8-90f5-4046-aa5f-6d937c92b65f button.colab-df-convert');\n",
              "        buttonEl.style.display =\n",
              "          google.colab.kernel.accessAllowed ? 'block' : 'none';\n",
              "\n",
              "        async function convertToInteractive(key) {\n",
              "          const element = document.querySelector('#df-fcbf8cc8-90f5-4046-aa5f-6d937c92b65f');\n",
              "          const dataTable =\n",
              "            await google.colab.kernel.invokeFunction('convertToInteractive',\n",
              "                                                     [key], {});\n",
              "          if (!dataTable) return;\n",
              "\n",
              "          const docLinkHtml = 'Like what you see? Visit the ' +\n",
              "            '<a target=\"_blank\" href=https://colab.research.google.com/notebooks/data_table.ipynb>data table notebook</a>'\n",
              "            + ' to learn more about interactive tables.';\n",
              "          element.innerHTML = '';\n",
              "          dataTable['output_type'] = 'display_data';\n",
              "          await google.colab.output.renderOutput(dataTable, element);\n",
              "          const docLink = document.createElement('div');\n",
              "          docLink.innerHTML = docLinkHtml;\n",
              "          element.appendChild(docLink);\n",
              "        }\n",
              "      </script>\n",
              "    </div>\n",
              "  </div>\n",
              "  "
            ]
          },
          "metadata": {},
          "execution_count": 10
        }
      ]
    },
    {
      "cell_type": "code",
      "source": [
        "def category_histogram(df,text):\n",
        "  article_tags = df.Tag\n",
        "  unique_tag = Counter(article_tags)\n",
        "  dictionary = dict(unique_tag)\n",
        "  tag = {\n",
        "    'Technology':0,\n",
        "    'Politics':0,\n",
        "    'Health':0,\n",
        "    'Education':0,\n",
        "    'Music':0,\n",
        "    'Travel':0,\n",
        "    'Finance':0,\n",
        "    'History':0\n",
        "  } \n",
        "\n",
        "  for key, value in dictionary.items():\n",
        "    tag[key] = value\n",
        "\n",
        "  plt.figure(figsize=(12,5))\n",
        "  plt.bar(range(len(tag)), list(tag.values()), align='center', color=['tab:blue', 'tab:red', 'tab:green', 'tab:purple', 'tab:orange', 'tab:cyan', 'tab:pink', 'tab:brown'])\n",
        "  plt.xticks(range(len(tag)), list(tag.keys()))\n",
        "  plt.title(text)\n",
        "  plt.show()"
      ],
      "metadata": {
        "id": "pRzWcSbLwD_7"
      },
      "execution_count": null,
      "outputs": []
    },
    {
      "cell_type": "code",
      "source": [
        "category_histogram(filtered_df,\"Number of articles per category\")"
      ],
      "metadata": {
        "colab": {
          "base_uri": "https://localhost:8080/",
          "height": 336
        },
        "id": "o4bC3AElCYhN",
        "outputId": "f5c07f90-3da5-481d-ef90-4cf6df679fce"
      },
      "execution_count": null,
      "outputs": [
        {
          "output_type": "display_data",
          "data": {
            "text/plain": [
              "<Figure size 864x360 with 1 Axes>"
            ],
            "image/png": "[encoded data removed]"
          },
          "metadata": {
            "needs_background": "light"
          }
        }
      ]
    },
    {
      "cell_type": "code",
      "source": [
        "\n",
        "Tags_Text = {\n",
        "    'Technology':0,\n",
        "    'Politics':0,\n",
        "    'Health':0,\n",
        "    'Education':0,\n",
        "    'Music':0,\n",
        "    'Travel':0,\n",
        "    'Finance':0,\n",
        "    'History':0\n",
        "}"
      ],
      "metadata": {
        "id": "FCPSVV_ggetZ"
      },
      "execution_count": null,
      "outputs": []
    },
    {
      "cell_type": "code",
      "source": [
        "tokenizer = RegexpTokenizer(r'\\w+')\n",
        "for tag in Tags:\n",
        "  df_filtered_per_tag = filtered_df[filtered_df['Tag'] == tag]\n",
        "  list_text = df_filtered_per_tag.text\n",
        "  for text in list_text:\n",
        "    Tags_Text[tag] = Tags_Text[tag] + len(tokenizer.tokenize(text))\n",
        "  \n",
        "  Tags_Text[tag] = Tags_Text[tag]/len(df_filtered_per_tag)"
      ],
      "metadata": {
        "id": "QoPukwPMelSP"
      },
      "execution_count": null,
      "outputs": []
    },
    {
      "cell_type": "code",
      "source": [
        "plt.figure(figsize=(10,5))\n",
        "plt.bar(range(len(Tags_Text)), list(Tags_Text.values()), align='center', color=['tab:blue', 'tab:red', 'tab:green', 'tab:purple', 'tab:orange', 'tab:cyan', 'tab:pink', 'tab:brown'])\n",
        "plt.xticks(range(len(Tags_Text)), list(Tags_Text.keys()))\n",
        "plt.title(\"Average length in word of Text per category\")\n",
        "plt.show()"
      ],
      "metadata": {
        "colab": {
          "base_uri": "https://localhost:8080/",
          "height": 336
        },
        "id": "KiR29lf7oy2l",
        "outputId": "0b01be2f-440e-423a-e43d-453716390ad2"
      },
      "execution_count": null,
      "outputs": [
        {
          "output_type": "display_data",
          "data": {
            "text/plain": [
              "<Figure size 720x360 with 1 Axes>"
            ],
            "image/png": "[encoded data removed]"
          },
          "metadata": {
            "needs_background": "light"
          }
        }
      ]
    },
    {
      "cell_type": "code",
      "source": [
        "! pip install lexical-diversity\n",
        "from lexical_diversity import lex_div as ld"
      ],
      "metadata": {
        "colab": {
          "base_uri": "https://localhost:8080/"
        },
        "id": "ItSciyW46mVg",
        "outputId": "cfdb6bd6-c0b0-4210-956d-eb25939b0af2"
      },
      "execution_count": null,
      "outputs": [
        {
          "output_type": "stream",
          "name": "stdout",
          "text": [
            "Looking in indexes: https://pypi.org/simple, https://us-python.pkg.dev/colab-wheels/public/simple/\n",
            "Collecting lexical-diversity\n",
            "  Downloading lexical_diversity-0.1.1-py3-none-any.whl (117 kB)\n",
            "\u001b[K     |████████████████████████████████| 117 kB 15.3 MB/s \n",
            "\u001b[?25hInstalling collected packages: lexical-diversity\n",
            "Successfully installed lexical-diversity-0.1.1\n"
          ]
        }
      ]
    },
    {
      "cell_type": "code",
      "source": [
        "test = {\n",
        "    'Technology':0,\n",
        "    'Politics':0,\n",
        "    'Health':0,\n",
        "    'Education':0,\n",
        "    'Music':0,\n",
        "    'Travel':0,\n",
        "    'Finance':0,\n",
        "    'History':0\n",
        "}"
      ],
      "metadata": {
        "id": "SHPiN7aL71As"
      },
      "execution_count": null,
      "outputs": []
    },
    {
      "cell_type": "code",
      "source": [
        "tokenizer = RegexpTokenizer(r'\\w+')\n",
        "for tag in Tags:\n",
        "  df_filtered_per_tag = filtered_df[filtered_df['Tag'] == tag]\n",
        "  list_text = df_filtered_per_tag.text\n",
        "  sum = 0\n",
        "  for text in tqdm(list_text):\n",
        "    flt = ld.flemmatize(text)\n",
        "    sum = sum + ld.ttr(flt)\n",
        "  \n",
        "  test[tag] = sum/len(df_filtered_per_tag)"
      ],
      "metadata": {
        "colab": {
          "base_uri": "https://localhost:8080/"
        },
        "id": "9nQmI3hQ7kss",
        "outputId": "de9d4624-ee5c-477d-9275-b1d6e6b5c22c"
      },
      "execution_count": null,
      "outputs": [
        {
          "output_type": "stream",
          "name": "stderr",
          "text": [
            "100%|██████████| 5781/5781 [00:07<00:00, 791.31it/s]\n",
            "100%|██████████| 2818/2818 [00:04<00:00, 684.07it/s]\n",
            "100%|██████████| 3349/3349 [00:02<00:00, 1415.58it/s]\n",
            "100%|██████████| 4425/4425 [00:03<00:00, 1283.76it/s]\n",
            "100%|██████████| 1958/1958 [00:01<00:00, 1627.66it/s]\n",
            "100%|██████████| 1865/1865 [00:01<00:00, 1220.41it/s]\n",
            "100%|██████████| 1478/1478 [00:01<00:00, 1463.29it/s]\n",
            "100%|██████████| 2346/2346 [00:01<00:00, 1518.86it/s]\n"
          ]
        }
      ]
    },
    {
      "cell_type": "code",
      "source": [
        "plt.figure(figsize=(10,5))\n",
        "plt.bar(range(len(test)), list(test.values()), align='center', color=['tab:blue', 'tab:red', 'tab:green', 'tab:purple', 'tab:orange', 'tab:cyan', 'tab:pink', 'tab:brown'])\n",
        "plt.xticks(range(len(test)), list(test.keys()))\n",
        "plt.title(\"Average lexical diversity per category\")\n",
        "plt.show()"
      ],
      "metadata": {
        "colab": {
          "base_uri": "https://localhost:8080/",
          "height": 336
        },
        "id": "gG-jrbYu_YCM",
        "outputId": "0436a2b5-daf9-4d5f-d9e9-63e14188f544"
      },
      "execution_count": null,
      "outputs": [
        {
          "output_type": "display_data",
          "data": {
            "text/plain": [
              "<Figure size 720x360 with 1 Axes>"
            ],
            "image/png": "[encoded data removed]"
          },
          "metadata": {
            "needs_background": "light"
          }
        }
      ]
    },
    {
      "cell_type": "code",
      "source": [
        "articles = filtered_df.text\n",
        "articles"
      ],
      "metadata": {
        "id": "K66gXD9yyE04",
        "colab": {
          "base_uri": "https://localhost:8080/"
        },
        "outputId": "a197c905-3faf-429b-d95e-a2bac233eda8"
      },
      "execution_count": null,
      "outputs": [
        {
          "output_type": "execute_result",
          "data": {
            "text/plain": [
              "0        Photo by Josh Riemer on Unsplash\\n\\nMerry Chri...\n",
              "1        Passionate about the synergy between science a...\n",
              "2        You’ve heard of him, haven’t you? Phineas Gage...\n",
              "3        Mentally, Young Adults Are Suffering Most From...\n",
              "4        Dr Faisal Dar — Pioneer of Liver Transplantati...\n",
              "                               ...                        \n",
              "24015    The Andaman Islands, a conglomerate of pristin...\n",
              "24016    Whether people are traveling for pleasure or b...\n",
              "24017    Photo credit: Jenna Foxton\\n\\nShambala is a fo...\n",
              "24018    Type 2 diabetes is on the rise globally, and h...\n",
              "24019    The Concept of Stem Cells\\n\\nEmbryonic stem ce...\n",
              "Name: text, Length: 24020, dtype: object"
            ]
          },
          "metadata": {},
          "execution_count": 16
        }
      ]
    },
    {
      "cell_type": "code",
      "source": [
        "expanded_articles = []\n",
        "\n",
        "for article in tqdm(articles):\n",
        "  # creating an empty list\n",
        "  expanded_words = []   \n",
        "  for word in article.split():\n",
        "    # using contractions.fix to expand the shortened words\n",
        "    expanded_words.append(contractions.fix(word.lower()))  \n",
        "  new_article = ' '.join(expanded_words)\n",
        "  new_article = re.sub(r'[^\\w\\s]', '', new_article)\n",
        "  expanded_articles.append(new_article)"
      ],
      "metadata": {
        "colab": {
          "base_uri": "https://localhost:8080/"
        },
        "id": "Zk2pSvEczF1Y",
        "outputId": "71c159d7-82fc-4875-a889-5aac2c3c500c"
      },
      "execution_count": null,
      "outputs": [
        {
          "output_type": "stream",
          "name": "stderr",
          "text": [
            "100%|██████████| 24020/24020 [01:08<00:00, 352.05it/s]\n"
          ]
        }
      ]
    },
    {
      "cell_type": "code",
      "source": [
        "filtered_df['TextPreprocessed'] = expanded_articles\n",
        "filtered_df = filtered_df.drop(\"text\", axis = 1)\n",
        "filtered_df"
      ],
      "metadata": {
        "id": "G_yCzGba3oNc",
        "colab": {
          "base_uri": "https://localhost:8080/",
          "height": 424
        },
        "outputId": "44afa0df-5876-4f86-a947-c3bf792ef155"
      },
      "execution_count": null,
      "outputs": [
        {
          "output_type": "execute_result",
          "data": {
            "text/plain": [
              "          Tag                                   TextPreprocessed\n",
              "0      Health  photo by josh riemer on unsplash merry christm...\n",
              "1      Health  passionate about the synergy between science a...\n",
              "2      Health  you have heard of him have not you phineas gag...\n",
              "3      Health  mentally young adults are suffering most from ...\n",
              "4      Health  dr faisal dar  pioneer of liver transplantatio...\n",
              "...       ...                                                ...\n",
              "24015  Travel  the andaman islands a conglomerate of pristine...\n",
              "24016  Travel  whether people are traveling for pleasure or b...\n",
              "24017   Music  photo credit jenna foxton shambala is a fourda...\n",
              "24018  Health  type 2 diabetes is on the rise globally and he...\n",
              "24019  Health  the concept of stem cells embryonic stem cells...\n",
              "\n",
              "[24020 rows x 2 columns]"
            ],
            "text/html": [
              "\n",
              "  <div id=\"df-c3d493ac-7f63-4ab7-8133-0d0337e75b00\">\n",
              "    <div class=\"colab-df-container\">\n",
              "      <div>\n",
              "<style scoped>\n",
              "    .dataframe tbody tr th:only-of-type {\n",
              "        vertical-align: middle;\n",
              "    }\n",
              "\n",
              "    .dataframe tbody tr th {\n",
              "        vertical-align: top;\n",
              "    }\n",
              "\n",
              "    .dataframe thead th {\n",
              "        text-align: right;\n",
              "    }\n",
              "</style>\n",
              "<table border=\"1\" class=\"dataframe\">\n",
              "  <thead>\n",
              "    <tr style=\"text-align: right;\">\n",
              "      <th></th>\n",
              "      <th>Tag</th>\n",
              "      <th>TextPreprocessed</th>\n",
              "    </tr>\n",
              "  </thead>\n",
              "  <tbody>\n",
              "    <tr>\n",
              "      <th>0</th>\n",
              "      <td>Health</td>\n",
              "      <td>photo by josh riemer on unsplash merry christm...</td>\n",
              "    </tr>\n",
              "    <tr>\n",
              "      <th>1</th>\n",
              "      <td>Health</td>\n",
              "      <td>passionate about the synergy between science a...</td>\n",
              "    </tr>\n",
              "    <tr>\n",
              "      <th>2</th>\n",
              "      <td>Health</td>\n",
              "      <td>you have heard of him have not you phineas gag...</td>\n",
              "    </tr>\n",
              "    <tr>\n",
              "      <th>3</th>\n",
              "      <td>Health</td>\n",
              "      <td>mentally young adults are suffering most from ...</td>\n",
              "    </tr>\n",
              "    <tr>\n",
              "      <th>4</th>\n",
              "      <td>Health</td>\n",
              "      <td>dr faisal dar  pioneer of liver transplantatio...</td>\n",
              "    </tr>\n",
              "    <tr>\n",
              "      <th>...</th>\n",
              "      <td>...</td>\n",
              "      <td>...</td>\n",
              "    </tr>\n",
              "    <tr>\n",
              "      <th>24015</th>\n",
              "      <td>Travel</td>\n",
              "      <td>the andaman islands a conglomerate of pristine...</td>\n",
              "    </tr>\n",
              "    <tr>\n",
              "      <th>24016</th>\n",
              "      <td>Travel</td>\n",
              "      <td>whether people are traveling for pleasure or b...</td>\n",
              "    </tr>\n",
              "    <tr>\n",
              "      <th>24017</th>\n",
              "      <td>Music</td>\n",
              "      <td>photo credit jenna foxton shambala is a fourda...</td>\n",
              "    </tr>\n",
              "    <tr>\n",
              "      <th>24018</th>\n",
              "      <td>Health</td>\n",
              "      <td>type 2 diabetes is on the rise globally and he...</td>\n",
              "    </tr>\n",
              "    <tr>\n",
              "      <th>24019</th>\n",
              "      <td>Health</td>\n",
              "      <td>the concept of stem cells embryonic stem cells...</td>\n",
              "    </tr>\n",
              "  </tbody>\n",
              "</table>\n",
              "<p>24020 rows × 2 columns</p>\n",
              "</div>\n",
              "      <button class=\"colab-df-convert\" onclick=\"convertToInteractive('df-c3d493ac-7f63-4ab7-8133-0d0337e75b00')\"\n",
              "              title=\"Convert this dataframe to an interactive table.\"\n",
              "              style=\"display:none;\">\n",
              "        \n",
              "  <svg xmlns=\"http://www.w3.org/2000/svg\" height=\"24px\"viewBox=\"0 0 24 24\"\n",
              "       width=\"24px\">\n",
              "    <path d=\"M0 0h24v24H0V0z\" fill=\"none\"/>\n",
              "    <path d=\"M18.56 5.44l.94 2.06.94-2.06 2.06-.94-2.06-.94-.94-2.06-.94 2.06-2.06.94zm-11 1L8.5 8.5l.94-2.06 2.06-.94-2.06-.94L8.5 2.5l-.94 2.06-2.06.94zm10 10l.94 2.06.94-2.06 2.06-.94-2.06-.94-.94-2.06-.94 2.06-2.06.94z\"/><path d=\"M17.41 7.96l-1.37-1.37c-.4-.4-.92-.59-1.43-.59-.52 0-1.04.2-1.43.59L10.3 9.45l-7.72 7.72c-.78.78-.78 2.05 0 2.83L4 21.41c.39.39.9.59 1.41.59.51 0 1.02-.2 1.41-.59l7.78-7.78 2.81-2.81c.8-.78.8-2.07 0-2.86zM5.41 20L4 18.59l7.72-7.72 1.47 1.35L5.41 20z\"/>\n",
              "  </svg>\n",
              "      </button>\n",
              "      \n",
              "  <style>\n",
              "    .colab-df-container {\n",
              "      display:flex;\n",
              "      flex-wrap:wrap;\n",
              "      gap: 12px;\n",
              "    }\n",
              "\n",
              "    .colab-df-convert {\n",
              "      background-color: #E8F0FE;\n",
              "      border: none;\n",
              "      border-radius: 50%;\n",
              "      cursor: pointer;\n",
              "      display: none;\n",
              "      fill: #1967D2;\n",
              "      height: 32px;\n",
              "      padding: 0 0 0 0;\n",
              "      width: 32px;\n",
              "    }\n",
              "\n",
              "    .colab-df-convert:hover {\n",
              "      background-color: #E2EBFA;\n",
              "      box-shadow: 0px 1px 2px rgba(60, 64, 67, 0.3), 0px 1px 3px 1px rgba(60, 64, 67, 0.15);\n",
              "      fill: #174EA6;\n",
              "    }\n",
              "\n",
              "    [theme=dark] .colab-df-convert {\n",
              "      background-color: #3B4455;\n",
              "      fill: #D2E3FC;\n",
              "    }\n",
              "\n",
              "    [theme=dark] .colab-df-convert:hover {\n",
              "      background-color: #434B5C;\n",
              "      box-shadow: 0px 1px 3px 1px rgba(0, 0, 0, 0.15);\n",
              "      filter: drop-shadow(0px 1px 2px rgba(0, 0, 0, 0.3));\n",
              "      fill: #FFFFFF;\n",
              "    }\n",
              "  </style>\n",
              "\n",
              "      <script>\n",
              "        const buttonEl =\n",
              "          document.querySelector('#df-c3d493ac-7f63-4ab7-8133-0d0337e75b00 button.colab-df-convert');\n",
              "        buttonEl.style.display =\n",
              "          google.colab.kernel.accessAllowed ? 'block' : 'none';\n",
              "\n",
              "        async function convertToInteractive(key) {\n",
              "          const element = document.querySelector('#df-c3d493ac-7f63-4ab7-8133-0d0337e75b00');\n",
              "          const dataTable =\n",
              "            await google.colab.kernel.invokeFunction('convertToInteractive',\n",
              "                                                     [key], {});\n",
              "          if (!dataTable) return;\n",
              "\n",
              "          const docLinkHtml = 'Like what you see? Visit the ' +\n",
              "            '<a target=\"_blank\" href=https://colab.research.google.com/notebooks/data_table.ipynb>data table notebook</a>'\n",
              "            + ' to learn more about interactive tables.';\n",
              "          element.innerHTML = '';\n",
              "          dataTable['output_type'] = 'display_data';\n",
              "          await google.colab.output.renderOutput(dataTable, element);\n",
              "          const docLink = document.createElement('div');\n",
              "          docLink.innerHTML = docLinkHtml;\n",
              "          element.appendChild(docLink);\n",
              "        }\n",
              "      </script>\n",
              "    </div>\n",
              "  </div>\n",
              "  "
            ]
          },
          "metadata": {},
          "execution_count": 19
        }
      ]
    },
    {
      "cell_type": "code",
      "source": [
        "filtered_df.to_csv(\"/content/gdrive/Shareddrives/HLT-ArticlesTagging/dataframeForKeywords.csv\", index = False)"
      ],
      "metadata": {
        "id": "HfRoqiHYCTSd"
      },
      "execution_count": null,
      "outputs": []
    },
    {
      "cell_type": "code",
      "source": [
        "Num_Tags = {\n",
        "    'Technology':0,\n",
        "    'Politics':1,\n",
        "    'Health':2,\n",
        "    'Education':3,\n",
        "    'Music':4,\n",
        "    'Travel':5,\n",
        "    'Finance':6,\n",
        "    'History':7\n",
        "}"
      ],
      "metadata": {
        "id": "HmL90SGXW8-1"
      },
      "execution_count": null,
      "outputs": []
    },
    {
      "cell_type": "markdown",
      "source": [
        "Downsampling"
      ],
      "metadata": {
        "id": "p3zxb75LmMG5"
      }
    },
    {
      "cell_type": "code",
      "source": [
        "filtered_df['Num_Tag']=filtered_df['Tag'].apply(lambda x: Num_Tags[x] )\n",
        "\n",
        "class_0, class_1, class_2, class_3, class_4, class_5, class_6, class_7 = filtered_df.Num_Tag.value_counts()\n",
        "c0 = filtered_df[filtered_df['Num_Tag'] == 0]\n",
        "c1 = filtered_df[filtered_df['Num_Tag'] == 1]\n",
        "c2 = filtered_df[filtered_df['Num_Tag'] == 2]\n",
        "c3 = filtered_df[filtered_df['Num_Tag'] == 3]\n",
        "c4 = filtered_df[filtered_df['Num_Tag'] == 4]\n",
        "c5 = filtered_df[filtered_df['Num_Tag'] == 5]\n",
        "c6 = filtered_df[filtered_df['Num_Tag'] == 6]\n",
        "c7 = filtered_df[filtered_df['Num_Tag'] == 7]\n",
        "df_0 = c0.sample(class_7)\n",
        "df_1 = c1.sample(class_7)\n",
        "df_2 = c2.sample(class_7)\n",
        "df_3 = c3.sample(class_7)\n",
        "df_4 = c4.sample(class_7)\n",
        "df_5 = c5.sample(class_7)\n",
        "df_7 = c7.sample(class_7)\n",
        "filtered_df = pd.concat([df_0,df_1,df_2,df_3,df_4,df_5,c6,df_7],axis=0)\n",
        "filtered_df"
      ],
      "metadata": {
        "colab": {
          "base_uri": "https://localhost:8080/",
          "height": 424
        },
        "id": "myGbKSBJiJ_2",
        "outputId": "d614b3d2-625f-4db9-aa03-08dded42e4c3"
      },
      "execution_count": null,
      "outputs": [
        {
          "output_type": "execute_result",
          "data": {
            "text/plain": [
              "              Tag                                   TextPreprocessed  Num_Tag\n",
              "14676  Technology  when life closes a door you open many zoom win...        0\n",
              "2924   Technology  for some 5g is a miracle network that will bri...        0\n",
              "4962   Technology  the firstever published website came to the in...        0\n",
              "15838  Technology  my reluctant iphone 12 purchase story time whe...        0\n",
              "5253   Technology  baseline image on the left and incorrect backg...        0\n",
              "...           ...                                                ...      ...\n",
              "797       History  steve jobs dark past the time steve jobs cheat...        7\n",
              "11409     History  the san francisco oakland bay bridge had been ...        7\n",
              "21947     History  the skydiver saved by fire ants after plunging...        7\n",
              "15668     History  a collection of open letters to my family and ...        7\n",
              "8527      History  feeling currents wash over me soothing current...        7\n",
              "\n",
              "[11824 rows x 3 columns]"
            ],
            "text/html": [
              "\n",
              "  <div id=\"df-8b494c4d-fa40-488b-beac-5457efa1d137\">\n",
              "    <div class=\"colab-df-container\">\n",
              "      <div>\n",
              "<style scoped>\n",
              "    .dataframe tbody tr th:only-of-type {\n",
              "        vertical-align: middle;\n",
              "    }\n",
              "\n",
              "    .dataframe tbody tr th {\n",
              "        vertical-align: top;\n",
              "    }\n",
              "\n",
              "    .dataframe thead th {\n",
              "        text-align: right;\n",
              "    }\n",
              "</style>\n",
              "<table border=\"1\" class=\"dataframe\">\n",
              "  <thead>\n",
              "    <tr style=\"text-align: right;\">\n",
              "      <th></th>\n",
              "      <th>Tag</th>\n",
              "      <th>TextPreprocessed</th>\n",
              "      <th>Num_Tag</th>\n",
              "    </tr>\n",
              "  </thead>\n",
              "  <tbody>\n",
              "    <tr>\n",
              "      <th>14676</th>\n",
              "      <td>Technology</td>\n",
              "      <td>when life closes a door you open many zoom win...</td>\n",
              "      <td>0</td>\n",
              "    </tr>\n",
              "    <tr>\n",
              "      <th>2924</th>\n",
              "      <td>Technology</td>\n",
              "      <td>for some 5g is a miracle network that will bri...</td>\n",
              "      <td>0</td>\n",
              "    </tr>\n",
              "    <tr>\n",
              "      <th>4962</th>\n",
              "      <td>Technology</td>\n",
              "      <td>the firstever published website came to the in...</td>\n",
              "      <td>0</td>\n",
              "    </tr>\n",
              "    <tr>\n",
              "      <th>15838</th>\n",
              "      <td>Technology</td>\n",
              "      <td>my reluctant iphone 12 purchase story time whe...</td>\n",
              "      <td>0</td>\n",
              "    </tr>\n",
              "    <tr>\n",
              "      <th>5253</th>\n",
              "      <td>Technology</td>\n",
              "      <td>baseline image on the left and incorrect backg...</td>\n",
              "      <td>0</td>\n",
              "    </tr>\n",
              "    <tr>\n",
              "      <th>...</th>\n",
              "      <td>...</td>\n",
              "      <td>...</td>\n",
              "      <td>...</td>\n",
              "    </tr>\n",
              "    <tr>\n",
              "      <th>797</th>\n",
              "      <td>History</td>\n",
              "      <td>steve jobs dark past the time steve jobs cheat...</td>\n",
              "      <td>7</td>\n",
              "    </tr>\n",
              "    <tr>\n",
              "      <th>11409</th>\n",
              "      <td>History</td>\n",
              "      <td>the san francisco oakland bay bridge had been ...</td>\n",
              "      <td>7</td>\n",
              "    </tr>\n",
              "    <tr>\n",
              "      <th>21947</th>\n",
              "      <td>History</td>\n",
              "      <td>the skydiver saved by fire ants after plunging...</td>\n",
              "      <td>7</td>\n",
              "    </tr>\n",
              "    <tr>\n",
              "      <th>15668</th>\n",
              "      <td>History</td>\n",
              "      <td>a collection of open letters to my family and ...</td>\n",
              "      <td>7</td>\n",
              "    </tr>\n",
              "    <tr>\n",
              "      <th>8527</th>\n",
              "      <td>History</td>\n",
              "      <td>feeling currents wash over me soothing current...</td>\n",
              "      <td>7</td>\n",
              "    </tr>\n",
              "  </tbody>\n",
              "</table>\n",
              "<p>11824 rows × 3 columns</p>\n",
              "</div>\n",
              "      <button class=\"colab-df-convert\" onclick=\"convertToInteractive('df-8b494c4d-fa40-488b-beac-5457efa1d137')\"\n",
              "              title=\"Convert this dataframe to an interactive table.\"\n",
              "              style=\"display:none;\">\n",
              "        \n",
              "  <svg xmlns=\"http://www.w3.org/2000/svg\" height=\"24px\"viewBox=\"0 0 24 24\"\n",
              "       width=\"24px\">\n",
              "    <path d=\"M0 0h24v24H0V0z\" fill=\"none\"/>\n",
              "    <path d=\"M18.56 5.44l.94 2.06.94-2.06 2.06-.94-2.06-.94-.94-2.06-.94 2.06-2.06.94zm-11 1L8.5 8.5l.94-2.06 2.06-.94-2.06-.94L8.5 2.5l-.94 2.06-2.06.94zm10 10l.94 2.06.94-2.06 2.06-.94-2.06-.94-.94-2.06-.94 2.06-2.06.94z\"/><path d=\"M17.41 7.96l-1.37-1.37c-.4-.4-.92-.59-1.43-.59-.52 0-1.04.2-1.43.59L10.3 9.45l-7.72 7.72c-.78.78-.78 2.05 0 2.83L4 21.41c.39.39.9.59 1.41.59.51 0 1.02-.2 1.41-.59l7.78-7.78 2.81-2.81c.8-.78.8-2.07 0-2.86zM5.41 20L4 18.59l7.72-7.72 1.47 1.35L5.41 20z\"/>\n",
              "  </svg>\n",
              "      </button>\n",
              "      \n",
              "  <style>\n",
              "    .colab-df-container {\n",
              "      display:flex;\n",
              "      flex-wrap:wrap;\n",
              "      gap: 12px;\n",
              "    }\n",
              "\n",
              "    .colab-df-convert {\n",
              "      background-color: #E8F0FE;\n",
              "      border: none;\n",
              "      border-radius: 50%;\n",
              "      cursor: pointer;\n",
              "      display: none;\n",
              "      fill: #1967D2;\n",
              "      height: 32px;\n",
              "      padding: 0 0 0 0;\n",
              "      width: 32px;\n",
              "    }\n",
              "\n",
              "    .colab-df-convert:hover {\n",
              "      background-color: #E2EBFA;\n",
              "      box-shadow: 0px 1px 2px rgba(60, 64, 67, 0.3), 0px 1px 3px 1px rgba(60, 64, 67, 0.15);\n",
              "      fill: #174EA6;\n",
              "    }\n",
              "\n",
              "    [theme=dark] .colab-df-convert {\n",
              "      background-color: #3B4455;\n",
              "      fill: #D2E3FC;\n",
              "    }\n",
              "\n",
              "    [theme=dark] .colab-df-convert:hover {\n",
              "      background-color: #434B5C;\n",
              "      box-shadow: 0px 1px 3px 1px rgba(0, 0, 0, 0.15);\n",
              "      filter: drop-shadow(0px 1px 2px rgba(0, 0, 0, 0.3));\n",
              "      fill: #FFFFFF;\n",
              "    }\n",
              "  </style>\n",
              "\n",
              "      <script>\n",
              "        const buttonEl =\n",
              "          document.querySelector('#df-8b494c4d-fa40-488b-beac-5457efa1d137 button.colab-df-convert');\n",
              "        buttonEl.style.display =\n",
              "          google.colab.kernel.accessAllowed ? 'block' : 'none';\n",
              "\n",
              "        async function convertToInteractive(key) {\n",
              "          const element = document.querySelector('#df-8b494c4d-fa40-488b-beac-5457efa1d137');\n",
              "          const dataTable =\n",
              "            await google.colab.kernel.invokeFunction('convertToInteractive',\n",
              "                                                     [key], {});\n",
              "          if (!dataTable) return;\n",
              "\n",
              "          const docLinkHtml = 'Like what you see? Visit the ' +\n",
              "            '<a target=\"_blank\" href=https://colab.research.google.com/notebooks/data_table.ipynb>data table notebook</a>'\n",
              "            + ' to learn more about interactive tables.';\n",
              "          element.innerHTML = '';\n",
              "          dataTable['output_type'] = 'display_data';\n",
              "          await google.colab.output.renderOutput(dataTable, element);\n",
              "          const docLink = document.createElement('div');\n",
              "          docLink.innerHTML = docLinkHtml;\n",
              "          element.appendChild(docLink);\n",
              "        }\n",
              "      </script>\n",
              "    </div>\n",
              "  </div>\n",
              "  "
            ]
          },
          "metadata": {},
          "execution_count": 22
        }
      ]
    },
    {
      "cell_type": "code",
      "source": [
        "category_histogram(filtered_df,\"Number of articles per category\")"
      ],
      "metadata": {
        "colab": {
          "base_uri": "https://localhost:8080/",
          "height": 336
        },
        "id": "ekWglDWPlFdX",
        "outputId": "72226b60-b9e7-4d57-c580-d7cb59c11368"
      },
      "execution_count": null,
      "outputs": [
        {
          "output_type": "display_data",
          "data": {
            "text/plain": [
              "<Figure size 864x360 with 1 Axes>"
            ],
            "image/png": "[encoded data removed]"
          },
          "metadata": {
            "needs_background": "light"
          }
        }
      ]
    },
    {
      "cell_type": "code",
      "source": [
        "filtered_df.to_csv(\"/content/gdrive/Shareddrives/HLT-ArticlesTagging/DataframeSampled.csv\", index = False)"
      ],
      "metadata": {
        "id": "QwZuU0QMup2Y"
      },
      "execution_count": null,
      "outputs": []
    },
    {
      "cell_type": "markdown",
      "source": [
        "# Transformer Classification"
      ],
      "metadata": {
        "id": "ykTOamOf1D57"
      }
    },
    {
      "cell_type": "code",
      "source": [
        "filtered_df = pd.read_csv(\"/content/gdrive/Shareddrives/HLT-ArticlesTagging/DataframeSampled.csv\").dropna()"
      ],
      "metadata": {
        "id": "ufTBPpOUnpLC"
      },
      "execution_count": null,
      "outputs": []
    },
    {
      "cell_type": "code",
      "source": [
        "NUM_CLASSES=8\n",
        "\n",
        "MODEL_DIR=\"/content/gdrive/Shareddrives/HLT-ArticlesTagging/model/\"\n",
        "\n",
        "BATCH_SIZE=32\n",
        "EPOCHS=20\n",
        "\n",
        "LABELS=['Technology','Politics','Health','Education','Music','Travel', 'Finance','History']"
      ],
      "metadata": {
        "id": "_hE_se091ZwM"
      },
      "execution_count": null,
      "outputs": []
    },
    {
      "cell_type": "code",
      "source": [
        "filtered_df_real = filtered_df.copy()"
      ],
      "metadata": {
        "id": "K1-Vha70rGOR"
      },
      "execution_count": null,
      "outputs": []
    },
    {
      "cell_type": "code",
      "source": [
        "# y contains the Category of the article\n",
        "y = filtered_df_real.pop('Num_Tag').to_frame()\n",
        "# x contains the Title and Text of the article\n",
        "x = filtered_df_real"
      ],
      "metadata": {
        "id": "wBJv8euxs1ks"
      },
      "execution_count": null,
      "outputs": []
    },
    {
      "cell_type": "markdown",
      "source": [
        "*   Train: 70%\n",
        "*   Validation: 15% \n",
        "*   Test: 15%"
      ],
      "metadata": {
        "id": "h8MNIAuNuvUh"
      }
    },
    {
      "cell_type": "code",
      "source": [
        "X_train, X_test, y_train, y_test = train_test_split(\n",
        "        x, y,stratify=y, test_size=0.3, random_state=3827)\n",
        "\n",
        "X_test, X_val, y_test, y_val = train_test_split(\n",
        "        X_test, y_test, stratify=y_test, test_size=0.5, random_state=3827)"
      ],
      "metadata": {
        "id": "UJTVtGDIr4yi"
      },
      "execution_count": null,
      "outputs": []
    },
    {
      "cell_type": "code",
      "source": [
        "def get_predictions(X_test, y_test, model, include_softMax=False):\n",
        "  '''Given a model and a dataset returns the gold and predicted labels'''\n",
        "  gold_labels = y_test['Num_Tag'].to_numpy()\n",
        "  \n",
        "  start_time = time.time()\n",
        "\n",
        "  prediction = model.predict(X_test)\n",
        "\n",
        "  inference_time = time.time() - start_time\n",
        "\n",
        "  if include_softMax:\n",
        "    prediction = tf.nn.softmax(prediction).numpy()\n",
        "\n",
        "  pred_labels = prediction.argmax(axis=1)\n",
        "  pred_labels = np.array([LABELS[i] for i in pred_labels])\n",
        "  gold_labels = np.array([LABELS[i] for i in gold_labels])\n",
        "\n",
        "  return pred_labels, gold_labels, inference_time"
      ],
      "metadata": {
        "id": "8fM4nCgCqOpN"
      },
      "execution_count": null,
      "outputs": []
    },
    {
      "cell_type": "code",
      "source": [
        "def get_model(MODEL, PREPROCESS, save, model_name):\n",
        "  # Bert layers\n",
        "  text_input = tf.keras.layers.Input(shape=(), dtype=tf.string, name='text')\n",
        "  preprocessed_text = PREPROCESS(text_input)\n",
        "  outputs = MODEL(preprocessed_text)\n",
        "  # Neural network layers\n",
        "  l = tf.keras.layers.Dropout(0.3, name=\"dropout\")(outputs['pooled_output'])\n",
        "  l = tf.keras.layers.Dense(NUM_CLASSES, activation='softmax', name=\"output\")(l)\n",
        "  # Use inputs and outputs to construct a final model\n",
        "  model = tf.keras.Model(inputs=[text_input], outputs = [l])\n",
        "  callback = EarlyStopping(monitor='val_loss', min_delta=0, patience=2, verbose=0, mode='auto', baseline=None, restore_best_weights=True)\n",
        "  loss = tf.keras.losses.SparseCategoricalCrossentropy(from_logits=False)\n",
        "  optimizer = tf.keras.optimizers.RMSprop()\n",
        "  #optimizer = tf.keras.optimizers.SGD()\n",
        "  model.compile(optimizer=optimizer, loss=loss, metrics=['accuracy'])\n",
        "  model.fit(X_train.TextPreprocessed, y_train.Num_Tag, epochs=EPOCHS, batch_size=BATCH_SIZE,validation_data=(X_val.TextPreprocessed, y_val.Num_Tag),verbose=1, callbacks = callback)\n",
        "  if save:\n",
        "    model.save(MODEL_DIR + model_name, include_optimizer=False)\n",
        "  return model"
      ],
      "metadata": {
        "id": "A60JNhDMDpSk"
      },
      "execution_count": null,
      "outputs": []
    },
    {
      "cell_type": "markdown",
      "source": [
        "## Small Bert Model"
      ],
      "metadata": {
        "id": "NBvS8uUmpmMG"
      }
    },
    {
      "cell_type": "code",
      "source": [
        "BERT_MODEL=hub.KerasLayer(\"https://tfhub.dev/tensorflow/small_bert/bert_en_uncased_L-4_H-512_A-8/1\")\n",
        "BERT_PREPROCESS_MODEL=hub.KerasLayer(\"https://tfhub.dev/tensorflow/bert_en_uncased_preprocess/3\")"
      ],
      "metadata": {
        "id": "pzv6aN74_fGb"
      },
      "execution_count": null,
      "outputs": []
    },
    {
      "cell_type": "code",
      "source": [
        "model = get_model(BERT_MODEL, BERT_PREPROCESS_MODEL, True, \"smallBert.h5\")"
      ],
      "metadata": {
        "colab": {
          "base_uri": "https://localhost:8080/"
        },
        "id": "j719PLHYD9tL",
        "outputId": "e8c7830b-b07d-41bb-9504-10360bd5638b"
      },
      "execution_count": null,
      "outputs": [
        {
          "output_type": "stream",
          "name": "stdout",
          "text": [
            "Epoch 1/20\n",
            "259/259 [==============================] - 50s 190ms/step - loss: 1.9117 - accuracy: 0.2966 - val_loss: 1.2277 - val_accuracy: 0.5981\n",
            "Epoch 2/20\n",
            "259/259 [==============================] - 50s 192ms/step - loss: 1.2966 - accuracy: 0.5572 - val_loss: 1.1007 - val_accuracy: 0.6421\n",
            "Epoch 3/20\n",
            "259/259 [==============================] - 51s 197ms/step - loss: 1.2020 - accuracy: 0.5913 - val_loss: 1.0791 - val_accuracy: 0.6415\n",
            "Epoch 4/20\n",
            "259/259 [==============================] - 49s 190ms/step - loss: 1.1537 - accuracy: 0.6107 - val_loss: 1.0382 - val_accuracy: 0.6561\n",
            "Epoch 5/20\n",
            "259/259 [==============================] - 50s 193ms/step - loss: 1.1260 - accuracy: 0.6242 - val_loss: 1.0125 - val_accuracy: 0.6674\n",
            "Epoch 6/20\n",
            "259/259 [==============================] - 53s 204ms/step - loss: 1.0618 - accuracy: 0.6412 - val_loss: 1.0078 - val_accuracy: 0.6764\n",
            "Epoch 7/20\n",
            "259/259 [==============================] - 50s 195ms/step - loss: 1.0801 - accuracy: 0.6434 - val_loss: 1.0210 - val_accuracy: 0.6753\n",
            "Epoch 8/20\n",
            "259/259 [==============================] - 50s 192ms/step - loss: 1.0555 - accuracy: 0.6507 - val_loss: 0.9937 - val_accuracy: 0.6674\n",
            "Epoch 9/20\n",
            "259/259 [==============================] - 51s 198ms/step - loss: 1.0924 - accuracy: 0.6337 - val_loss: 0.9837 - val_accuracy: 0.6849\n",
            "Epoch 10/20\n",
            "259/259 [==============================] - 49s 191ms/step - loss: 1.0388 - accuracy: 0.6576 - val_loss: 1.0131 - val_accuracy: 0.6697\n",
            "Epoch 11/20\n",
            "259/259 [==============================] - 50s 192ms/step - loss: 1.0387 - accuracy: 0.6554 - val_loss: 0.9765 - val_accuracy: 0.6838\n",
            "Epoch 12/20\n",
            "259/259 [==============================] - 51s 196ms/step - loss: 1.0500 - accuracy: 0.6501 - val_loss: 0.9858 - val_accuracy: 0.6843\n",
            "Epoch 13/20\n",
            "259/259 [==============================] - 49s 189ms/step - loss: 1.0383 - accuracy: 0.6577 - val_loss: 0.9898 - val_accuracy: 0.6787\n"
          ]
        }
      ]
    },
    {
      "cell_type": "code",
      "source": [
        "model.evaluate(X_test.TextPreprocessed,y_test)"
      ],
      "metadata": {
        "colab": {
          "base_uri": "https://localhost:8080/"
        },
        "id": "nNF7pfJy6yra",
        "outputId": "ef5e2189-1f01-4796-db34-57eb65b301fc"
      },
      "execution_count": null,
      "outputs": [
        {
          "output_type": "stream",
          "name": "stdout",
          "text": [
            "56/56 [==============================] - 9s 151ms/step - loss: 0.9387 - accuracy: 0.6883\n"
          ]
        },
        {
          "output_type": "execute_result",
          "data": {
            "text/plain": [
              "[0.9386809468269348, 0.6882750988006592]"
            ]
          },
          "metadata": {},
          "execution_count": 46
        }
      ]
    },
    {
      "cell_type": "code",
      "source": [
        "pred_lab, gold_lab, inference_time = get_predictions(X_test.TextPreprocessed,y_test,model,True)\n",
        "\n",
        "print(inference_time)\n",
        "\n",
        "fig, ax = plt.subplots(figsize=(6, 6))\n",
        "ConfusionMatrixDisplay.from_predictions(gold_lab, pred_lab, xticks_rotation='vertical', ax=ax)"
      ],
      "metadata": {
        "colab": {
          "base_uri": "https://localhost:8080/",
          "height": 440
        },
        "id": "0jZj0LCeFPsq",
        "outputId": "7b7b44b4-470e-44c5-a47c-7a5d8f50a8e2"
      },
      "execution_count": null,
      "outputs": [
        {
          "output_type": "stream",
          "name": "stdout",
          "text": [
            "7.354382038116455\n"
          ]
        },
        {
          "output_type": "execute_result",
          "data": {
            "text/plain": [
              "<sklearn.metrics._plot.confusion_matrix.ConfusionMatrixDisplay at 0x7f409c5909d0>"
            ]
          },
          "metadata": {},
          "execution_count": 47
        },
        {
          "output_type": "display_data",
          "data": {
            "text/plain": [
              "<Figure size 432x432 with 2 Axes>"
            ],
            "image/png": "[encoded data removed]"
          },
          "metadata": {
            "needs_background": "light"
          }
        }
      ]
    },
    {
      "cell_type": "code",
      "source": [
        "f1_summary = f1_score(gold_lab, pred_lab, average=None)\n",
        "f1_micro = f1_score(gold_lab, pred_lab, average=\"micro\")\n",
        "f1_macro = f1_score(gold_lab, pred_lab, average=\"macro\")\n",
        "print(f1_summary)\n",
        "print(f1_micro)\n",
        "print(f1_macro)"
      ],
      "metadata": {
        "colab": {
          "base_uri": "https://localhost:8080/"
        },
        "id": "IQjbVzJQwkMx",
        "outputId": "b13f731b-2410-493c-8a0c-a2a9d05c836a"
      },
      "execution_count": null,
      "outputs": [
        {
          "output_type": "stream",
          "name": "stdout",
          "text": [
            "[0.58130081 0.71428571 0.69565217 0.71331828 0.79006772 0.73303167\n",
            " 0.54111406 0.72392638]\n",
            "0.6882750845546787\n",
            "0.6865871023316551\n"
          ]
        }
      ]
    },
    {
      "cell_type": "markdown",
      "source": [
        "## Albert Model"
      ],
      "metadata": {
        "id": "fZpp0PdDprs2"
      }
    },
    {
      "cell_type": "code",
      "source": [
        "ALBERT_MODEL=hub.KerasLayer('https://tfhub.dev/tensorflow/albert_en_base/2')\n",
        "ALBERT_PREPROCESS_MODEL=hub.KerasLayer(\"https://tfhub.dev/tensorflow/albert_en_preprocess/3\")"
      ],
      "metadata": {
        "id": "oURJ36RyqOpE"
      },
      "execution_count": null,
      "outputs": []
    },
    {
      "cell_type": "code",
      "source": [
        "model = get_model(ALBERT_MODEL, ALBERT_PREPROCESS_MODEL, True, \"Albert.h5\")"
      ],
      "metadata": {
        "colab": {
          "base_uri": "https://localhost:8080/"
        },
        "id": "UKEEamXTH30r",
        "outputId": "6f566e90-e129-4c4a-a534-85eb24d6fed9"
      },
      "execution_count": null,
      "outputs": [
        {
          "output_type": "stream",
          "name": "stdout",
          "text": [
            "Epoch 1/20\n",
            "259/259 [==============================] - 129s 472ms/step - loss: 2.3576 - accuracy: 0.1455 - val_loss: 1.9607 - val_accuracy: 0.2582\n",
            "Epoch 2/20\n",
            "259/259 [==============================] - 122s 470ms/step - loss: 2.1264 - accuracy: 0.2129 - val_loss: 1.8664 - val_accuracy: 0.3213\n",
            "Epoch 3/20\n",
            "259/259 [==============================] - 122s 472ms/step - loss: 1.9932 - accuracy: 0.2621 - val_loss: 1.8510 - val_accuracy: 0.3224\n",
            "Epoch 4/20\n",
            "259/259 [==============================] - 125s 484ms/step - loss: 1.9212 - accuracy: 0.2954 - val_loss: 1.7095 - val_accuracy: 0.3884\n",
            "Epoch 5/20\n",
            "259/259 [==============================] - 125s 483ms/step - loss: 1.8818 - accuracy: 0.3034 - val_loss: 1.6589 - val_accuracy: 0.4098\n",
            "Epoch 6/20\n",
            "259/259 [==============================] - 125s 484ms/step - loss: 1.8490 - accuracy: 0.3250 - val_loss: 1.6947 - val_accuracy: 0.3839\n",
            "Epoch 7/20\n",
            "259/259 [==============================] - 124s 479ms/step - loss: 1.8144 - accuracy: 0.3391 - val_loss: 1.7143 - val_accuracy: 0.3608\n"
          ]
        }
      ]
    },
    {
      "cell_type": "code",
      "source": [
        "model.evaluate(X_test.TextPreprocessed,y_test)"
      ],
      "metadata": {
        "colab": {
          "base_uri": "https://localhost:8080/"
        },
        "outputId": "495877a1-d555-46ce-892b-3c16a4936636",
        "id": "cwk_U-dlqOpM"
      },
      "execution_count": null,
      "outputs": [
        {
          "output_type": "stream",
          "name": "stdout",
          "text": [
            "56/56 [==============================] - 22s 391ms/step - loss: 1.6835 - accuracy: 0.3952\n"
          ]
        },
        {
          "output_type": "execute_result",
          "data": {
            "text/plain": [
              "[1.683483600616455, 0.39515221118927]"
            ]
          },
          "metadata": {},
          "execution_count": 54
        }
      ]
    },
    {
      "cell_type": "code",
      "source": [
        "pred_lab, gold_lab, inference_time = get_predictions(X_test.TextPreprocessed,y_test,model,True)\n",
        "\n",
        "print(inference_time)\n",
        "\n",
        "fig, ax = plt.subplots(figsize=(6, 6))\n",
        "ConfusionMatrixDisplay.from_predictions(gold_lab, pred_lab, xticks_rotation='vertical', ax=ax)"
      ],
      "metadata": {
        "colab": {
          "base_uri": "https://localhost:8080/",
          "height": 440
        },
        "outputId": "a6fbf96d-2930-4108-86f7-c2f6bfe85cff",
        "id": "G_T_nJNkqOpN"
      },
      "execution_count": null,
      "outputs": [
        {
          "output_type": "stream",
          "name": "stdout",
          "text": [
            "18.580580472946167\n"
          ]
        },
        {
          "output_type": "execute_result",
          "data": {
            "text/plain": [
              "<sklearn.metrics._plot.confusion_matrix.ConfusionMatrixDisplay at 0x7f40863e5d50>"
            ]
          },
          "metadata": {},
          "execution_count": 55
        },
        {
          "output_type": "display_data",
          "data": {
            "text/plain": [
              "<Figure size 432x432 with 2 Axes>"
            ],
            "image/png": "[encoded data removed]"
          },
          "metadata": {
            "needs_background": "light"
          }
        }
      ]
    },
    {
      "cell_type": "code",
      "source": [
        "f1_summary = f1_score(gold_lab, pred_lab, average=None)\n",
        "f1_micro = f1_score(gold_lab, pred_lab, average=\"micro\")\n",
        "f1_macro = f1_score(gold_lab, pred_lab, average=\"macro\")\n",
        "print(f1_summary)\n",
        "print(f1_micro)\n",
        "print(f1_macro)"
      ],
      "metadata": {
        "colab": {
          "base_uri": "https://localhost:8080/"
        },
        "outputId": "84b3a3b9-4d0f-468f-d6cb-fa65901883ba",
        "id": "sgTYEkRaqOpO"
      },
      "execution_count": null,
      "outputs": [
        {
          "output_type": "stream",
          "name": "stdout",
          "text": [
            "[0.23978202 0.35897436 0.40083507 0.55531453 0.38538206 0.37542662\n",
            " 0.33414044 0.44476744]\n",
            "0.395152198421646\n",
            "0.3868278175839345\n"
          ]
        }
      ]
    },
    {
      "cell_type": "markdown",
      "source": [
        "## Electra Model"
      ],
      "metadata": {
        "id": "a7zp4fX0zD61"
      }
    },
    {
      "cell_type": "code",
      "source": [
        "ELECTRA_MODEL=hub.KerasLayer('https://tfhub.dev/google/electra_small/2')\n",
        "ELECTRA_PREPROCESS_MODEL=hub.KerasLayer(\"https://tfhub.dev/tensorflow/bert_en_uncased_preprocess/3\")"
      ],
      "metadata": {
        "id": "nMt8cZFDzHEi",
        "colab": {
          "base_uri": "https://localhost:8080/"
        },
        "outputId": "cce283df-ef9f-4754-aee8-15102bd81d93"
      },
      "execution_count": null,
      "outputs": [
        {
          "output_type": "stream",
          "name": "stdout",
          "text": [
            "WARNING:tensorflow:5 out of the last 5 calls to <function recreate_function.<locals>.restored_function_body at 0x7f40726dc9e0> triggered tf.function retracing. Tracing is expensive and the excessive number of tracings could be due to (1) creating @tf.function repeatedly in a loop, (2) passing tensors with different shapes, (3) passing Python objects instead of tensors. For (1), please define your @tf.function outside of the loop. For (2), @tf.function has experimental_relax_shapes=True option that relaxes argument shapes that can avoid unnecessary retracing. For (3), please refer to https://www.tensorflow.org/guide/function#controlling_retracing and https://www.tensorflow.org/api_docs/python/tf/function for  more details.\n"
          ]
        },
        {
          "output_type": "stream",
          "name": "stderr",
          "text": [
            "WARNING:tensorflow:5 out of the last 5 calls to <function recreate_function.<locals>.restored_function_body at 0x7f40726dc9e0> triggered tf.function retracing. Tracing is expensive and the excessive number of tracings could be due to (1) creating @tf.function repeatedly in a loop, (2) passing tensors with different shapes, (3) passing Python objects instead of tensors. For (1), please define your @tf.function outside of the loop. For (2), @tf.function has experimental_relax_shapes=True option that relaxes argument shapes that can avoid unnecessary retracing. For (3), please refer to https://www.tensorflow.org/guide/function#controlling_retracing and https://www.tensorflow.org/api_docs/python/tf/function for  more details.\n"
          ]
        },
        {
          "output_type": "stream",
          "name": "stdout",
          "text": [
            "WARNING:tensorflow:6 out of the last 6 calls to <function recreate_function.<locals>.restored_function_body at 0x7f40726e30e0> triggered tf.function retracing. Tracing is expensive and the excessive number of tracings could be due to (1) creating @tf.function repeatedly in a loop, (2) passing tensors with different shapes, (3) passing Python objects instead of tensors. For (1), please define your @tf.function outside of the loop. For (2), @tf.function has experimental_relax_shapes=True option that relaxes argument shapes that can avoid unnecessary retracing. For (3), please refer to https://www.tensorflow.org/guide/function#controlling_retracing and https://www.tensorflow.org/api_docs/python/tf/function for  more details.\n"
          ]
        },
        {
          "output_type": "stream",
          "name": "stderr",
          "text": [
            "WARNING:tensorflow:6 out of the last 6 calls to <function recreate_function.<locals>.restored_function_body at 0x7f40726e30e0> triggered tf.function retracing. Tracing is expensive and the excessive number of tracings could be due to (1) creating @tf.function repeatedly in a loop, (2) passing tensors with different shapes, (3) passing Python objects instead of tensors. For (1), please define your @tf.function outside of the loop. For (2), @tf.function has experimental_relax_shapes=True option that relaxes argument shapes that can avoid unnecessary retracing. For (3), please refer to https://www.tensorflow.org/guide/function#controlling_retracing and https://www.tensorflow.org/api_docs/python/tf/function for  more details.\n"
          ]
        }
      ]
    },
    {
      "cell_type": "code",
      "source": [
        "model = get_model(ELECTRA_MODEL, ELECTRA_PREPROCESS_MODEL, True, \"Electra.h5\")"
      ],
      "metadata": {
        "colab": {
          "base_uri": "https://localhost:8080/"
        },
        "id": "o9Mv6w9mII57",
        "outputId": "4e25653c-8151-4172-84e1-126920f798e9"
      },
      "execution_count": null,
      "outputs": [
        {
          "output_type": "stream",
          "name": "stdout",
          "text": [
            "Epoch 1/20\n",
            "259/259 [==============================] - 62s 212ms/step - loss: 2.1793 - accuracy: 0.1441 - val_loss: 1.9432 - val_accuracy: 0.2373\n",
            "Epoch 2/20\n",
            "259/259 [==============================] - 52s 200ms/step - loss: 1.9967 - accuracy: 0.2192 - val_loss: 1.8510 - val_accuracy: 0.3117\n",
            "Epoch 3/20\n",
            "259/259 [==============================] - 53s 206ms/step - loss: 1.9070 - accuracy: 0.2689 - val_loss: 1.7787 - val_accuracy: 0.3501\n",
            "Epoch 4/20\n",
            "259/259 [==============================] - 52s 200ms/step - loss: 1.8511 - accuracy: 0.3012 - val_loss: 1.7480 - val_accuracy: 0.3737\n",
            "Epoch 5/20\n",
            "259/259 [==============================] - 51s 199ms/step - loss: 1.8161 - accuracy: 0.3079 - val_loss: 1.7199 - val_accuracy: 0.3839\n",
            "Epoch 6/20\n",
            "259/259 [==============================] - 53s 205ms/step - loss: 1.8095 - accuracy: 0.3140 - val_loss: 1.6968 - val_accuracy: 0.3963\n",
            "Epoch 7/20\n",
            "259/259 [==============================] - 51s 198ms/step - loss: 1.7965 - accuracy: 0.3290 - val_loss: 1.6878 - val_accuracy: 0.3957\n",
            "Epoch 8/20\n",
            "259/259 [==============================] - 52s 202ms/step - loss: 1.7790 - accuracy: 0.3431 - val_loss: 1.6919 - val_accuracy: 0.3675\n",
            "Epoch 9/20\n",
            "259/259 [==============================] - 52s 200ms/step - loss: 1.7662 - accuracy: 0.3464 - val_loss: 1.6863 - val_accuracy: 0.3754\n",
            "Epoch 10/20\n",
            "259/259 [==============================] - 52s 202ms/step - loss: 1.7489 - accuracy: 0.3496 - val_loss: 1.6600 - val_accuracy: 0.4109\n",
            "Epoch 11/20\n",
            "259/259 [==============================] - 53s 206ms/step - loss: 1.7530 - accuracy: 0.3473 - val_loss: 1.6589 - val_accuracy: 0.4171\n",
            "Epoch 12/20\n",
            "259/259 [==============================] - 51s 199ms/step - loss: 1.7455 - accuracy: 0.3536 - val_loss: 1.6493 - val_accuracy: 0.4081\n",
            "Epoch 13/20\n",
            "259/259 [==============================] - 52s 199ms/step - loss: 1.7255 - accuracy: 0.3681 - val_loss: 1.6568 - val_accuracy: 0.4002\n",
            "Epoch 14/20\n",
            "259/259 [==============================] - 53s 205ms/step - loss: 1.7430 - accuracy: 0.3578 - val_loss: 1.6385 - val_accuracy: 0.4092\n",
            "Epoch 15/20\n",
            "259/259 [==============================] - 52s 200ms/step - loss: 1.7346 - accuracy: 0.3568 - val_loss: 1.6420 - val_accuracy: 0.4081\n",
            "Epoch 16/20\n",
            "259/259 [==============================] - 51s 198ms/step - loss: 1.7359 - accuracy: 0.3630 - val_loss: 1.6361 - val_accuracy: 0.4250\n",
            "Epoch 17/20\n",
            "259/259 [==============================] - 51s 198ms/step - loss: 1.7078 - accuracy: 0.3713 - val_loss: 1.6374 - val_accuracy: 0.4177\n",
            "Epoch 18/20\n",
            "259/259 [==============================] - 51s 198ms/step - loss: 1.7373 - accuracy: 0.3482 - val_loss: 1.6312 - val_accuracy: 0.4171\n",
            "Epoch 19/20\n",
            "259/259 [==============================] - 51s 198ms/step - loss: 1.7425 - accuracy: 0.3597 - val_loss: 1.6298 - val_accuracy: 0.4318\n",
            "Epoch 20/20\n",
            "259/259 [==============================] - 53s 205ms/step - loss: 1.7197 - accuracy: 0.3674 - val_loss: 1.6260 - val_accuracy: 0.4239\n"
          ]
        }
      ]
    },
    {
      "cell_type": "code",
      "source": [
        "model.evaluate(X_test.TextPreprocessed,y_test)"
      ],
      "metadata": {
        "colab": {
          "base_uri": "https://localhost:8080/"
        },
        "outputId": "6de2b915-50ee-4df0-afec-904a06c92351",
        "id": "3PqM3P8NzHEj"
      },
      "execution_count": null,
      "outputs": [
        {
          "output_type": "stream",
          "name": "stdout",
          "text": [
            "56/56 [==============================] - 10s 159ms/step - loss: 1.6649 - accuracy: 0.4177\n"
          ]
        },
        {
          "output_type": "execute_result",
          "data": {
            "text/plain": [
              "[1.6649426221847534, 0.4177001118659973]"
            ]
          },
          "metadata": {},
          "execution_count": 59
        }
      ]
    },
    {
      "cell_type": "code",
      "source": [
        "pred_lab, gold_lab, inference_time = get_predictions(X_test.TextPreprocessed,y_test,model,True)\n",
        "\n",
        "print(inference_time)\n",
        "\n",
        "fig, ax = plt.subplots(figsize=(6, 6))\n",
        "ConfusionMatrixDisplay.from_predictions(gold_lab, pred_lab, xticks_rotation='vertical', ax=ax)"
      ],
      "metadata": {
        "colab": {
          "base_uri": "https://localhost:8080/"
        },
        "outputId": "d550661c-0cd1-4079-82ae-b05311bac2dc",
        "id": "Kzt61_-KzHEk"
      },
      "execution_count": null,
      "outputs": [
        {
          "output_type": "stream",
          "name": "stdout",
          "text": [
            "7.705808639526367\n"
          ]
        },
        {
          "output_type": "execute_result",
          "data": {
            "text/plain": [
              "<sklearn.metrics._plot.confusion_matrix.ConfusionMatrixDisplay at 0x7f406e699910>"
            ]
          },
          "metadata": {},
          "execution_count": 60
        },
        {
          "output_type": "display_data",
          "data": {
            "text/plain": [
              "<Figure size 432x432 with 2 Axes>"
            ],
            "image/png": "[encoded data removed]"
          },
          "metadata": {
            "needs_background": "light"
          }
        }
      ]
    },
    {
      "cell_type": "code",
      "source": [
        "f1_summary = f1_score(gold_lab, pred_lab, average=None)\n",
        "f1_micro = f1_score(gold_lab, pred_lab, average=\"micro\")\n",
        "f1_macro = f1_score(gold_lab, pred_lab, average=\"macro\")\n",
        "print(f1_summary)\n",
        "print(f1_micro)\n",
        "print(f1_macro)"
      ],
      "metadata": {
        "colab": {
          "base_uri": "https://localhost:8080/"
        },
        "outputId": "c1f86d09-70fc-4e15-c49f-96de8babe9c3",
        "id": "7a7IyvQSzHEl"
      },
      "execution_count": null,
      "outputs": [
        {
          "output_type": "stream",
          "name": "stdout",
          "text": [
            "[0.26558266 0.34517766 0.34026465 0.58299595 0.45086705 0.53365385\n",
            " 0.32369942 0.44074844]\n",
            "0.4177001127395716\n",
            "0.4103737104240577\n"
          ]
        }
      ]
    },
    {
      "cell_type": "markdown",
      "source": [
        "## Bert Base Model"
      ],
      "metadata": {
        "id": "VZrRD9Cw3tx9"
      }
    },
    {
      "cell_type": "code",
      "source": [
        "BERT_BASE_MODEL=hub.KerasLayer('https://tfhub.dev/tensorflow/bert_en_uncased_L-12_H-768_A-12/4')\n",
        "BERT_BASE_PREPROCESS_MODEL=hub.KerasLayer(\"https://tfhub.dev/tensorflow/bert_en_uncased_preprocess/3\")"
      ],
      "metadata": {
        "id": "onI5WuOj3zlz"
      },
      "execution_count": null,
      "outputs": []
    },
    {
      "cell_type": "code",
      "source": [
        "model = get_model(BERT_BASE_MODEL, BERT_BASE_PREPROCESS_MODEL, True, \"BertBase.h5\")"
      ],
      "metadata": {
        "id": "oLCaSCFNIZ9H",
        "colab": {
          "base_uri": "https://localhost:8080/"
        },
        "outputId": "1dbf7965-8e12-4073-caa7-c589235171af"
      },
      "execution_count": null,
      "outputs": [
        {
          "output_type": "stream",
          "name": "stdout",
          "text": [
            "Epoch 1/20\n",
            "259/259 [==============================] - 127s 456ms/step - loss: 2.1409 - accuracy: 0.1803 - val_loss: 1.7348 - val_accuracy: 0.4572\n",
            "Epoch 2/20\n",
            "259/259 [==============================] - 120s 465ms/step - loss: 1.8293 - accuracy: 0.3247 - val_loss: 1.5938 - val_accuracy: 0.4707\n",
            "Epoch 3/20\n",
            "259/259 [==============================] - 119s 461ms/step - loss: 1.6545 - accuracy: 0.4136 - val_loss: 1.5366 - val_accuracy: 0.4391\n",
            "Epoch 4/20\n",
            "259/259 [==============================] - 119s 460ms/step - loss: 1.5721 - accuracy: 0.4448 - val_loss: 1.4141 - val_accuracy: 0.5293\n",
            "Epoch 5/20\n",
            "259/259 [==============================] - 119s 459ms/step - loss: 1.5062 - accuracy: 0.4608 - val_loss: 1.3530 - val_accuracy: 0.5411\n",
            "Epoch 6/20\n",
            "259/259 [==============================] - 119s 460ms/step - loss: 1.4660 - accuracy: 0.4879 - val_loss: 1.2698 - val_accuracy: 0.6257\n",
            "Epoch 7/20\n",
            "259/259 [==============================] - 119s 458ms/step - loss: 1.4407 - accuracy: 0.5027 - val_loss: 1.2461 - val_accuracy: 0.6161\n",
            "Epoch 8/20\n",
            "259/259 [==============================] - 119s 458ms/step - loss: 1.3853 - accuracy: 0.5197 - val_loss: 1.2223 - val_accuracy: 0.6285\n",
            "Epoch 9/20\n",
            "259/259 [==============================] - 122s 471ms/step - loss: 1.3704 - accuracy: 0.5343 - val_loss: 1.2415 - val_accuracy: 0.5908\n",
            "Epoch 10/20\n",
            "259/259 [==============================] - 120s 463ms/step - loss: 1.3845 - accuracy: 0.5160 - val_loss: 1.2744 - val_accuracy: 0.5722\n"
          ]
        }
      ]
    },
    {
      "cell_type": "code",
      "source": [
        "model.evaluate(X_test.TextPreprocessed,y_test)"
      ],
      "metadata": {
        "id": "SM6A_fwq3zl0",
        "colab": {
          "base_uri": "https://localhost:8080/"
        },
        "outputId": "1ebc5e30-1f73-4467-c17e-e547faf56d4f"
      },
      "execution_count": null,
      "outputs": [
        {
          "output_type": "stream",
          "name": "stdout",
          "text": [
            "56/56 [==============================] - 22s 377ms/step - loss: 1.2194 - accuracy: 0.6246\n"
          ]
        },
        {
          "output_type": "execute_result",
          "data": {
            "text/plain": [
              "[1.219404935836792, 0.6245772242546082]"
            ]
          },
          "metadata": {},
          "execution_count": 13
        }
      ]
    },
    {
      "cell_type": "code",
      "source": [
        "pred_lab, gold_lab, inference_time = get_predictions(X_test.TextPreprocessed,y_test,model,True)\n",
        "\n",
        "print(inference_time)\n",
        "\n",
        "fig, ax = plt.subplots(figsize=(6, 6))\n",
        "ConfusionMatrixDisplay.from_predictions(gold_lab, pred_lab, xticks_rotation='vertical', ax=ax)"
      ],
      "metadata": {
        "id": "FPjGLKjK3zl1",
        "colab": {
          "base_uri": "https://localhost:8080/",
          "height": 442
        },
        "outputId": "6a0b443d-94e2-4cb2-b657-a95b2137ed57"
      },
      "execution_count": null,
      "outputs": [
        {
          "output_type": "stream",
          "name": "stdout",
          "text": [
            "17.948065519332886\n"
          ]
        },
        {
          "output_type": "execute_result",
          "data": {
            "text/plain": [
              "<sklearn.metrics._plot.confusion_matrix.ConfusionMatrixDisplay at 0x7f87785149d0>"
            ]
          },
          "metadata": {},
          "execution_count": 14
        },
        {
          "output_type": "display_data",
          "data": {
            "text/plain": [
              "<Figure size 432x432 with 2 Axes>"
            ],
            "image/png": "[encoded data removed]"
          },
          "metadata": {
            "needs_background": "light"
          }
        }
      ]
    },
    {
      "cell_type": "code",
      "source": [
        "f1_summary = f1_score(gold_lab, pred_lab, average=None)\n",
        "f1_micro = f1_score(gold_lab, pred_lab, average=\"micro\")\n",
        "f1_macro = f1_score(gold_lab, pred_lab, average=\"macro\")\n",
        "print(f1_summary)\n",
        "print(f1_micro)\n",
        "print(f1_macro)"
      ],
      "metadata": {
        "id": "X66jZqx63zl1",
        "colab": {
          "base_uri": "https://localhost:8080/"
        },
        "outputId": "cd2c3cb9-aa5f-4a75-bd81-9dedb26e1eae"
      },
      "execution_count": null,
      "outputs": [
        {
          "output_type": "stream",
          "name": "stdout",
          "text": [
            "[0.53383459 0.65393795 0.61751152 0.66075388 0.71495327 0.71046229\n",
            " 0.47536232 0.625     ]\n",
            "0.6245772266065389\n",
            "0.623976976492105\n"
          ]
        }
      ]
    },
    {
      "cell_type": "markdown",
      "source": [
        "## Bert Expert Model"
      ],
      "metadata": {
        "id": "Fm_thj68F6Vh"
      }
    },
    {
      "cell_type": "code",
      "source": [
        "BERT_EXPERT_MODEL=hub.KerasLayer('https://tfhub.dev/google/experts/bert/wiki_books/2')\n",
        "BERT_EXPERT_PREPROCESS_MODEL=hub.KerasLayer(\"https://tfhub.dev/tensorflow/bert_en_uncased_preprocess/3\")"
      ],
      "metadata": {
        "id": "NLLTIImtF9e4"
      },
      "execution_count": null,
      "outputs": []
    },
    {
      "cell_type": "code",
      "source": [
        "model = get_model(BERT_EXPERT_MODEL, BERT_EXPERT_PREPROCESS_MODEL, True, \"BertExpert.h5\")"
      ],
      "metadata": {
        "id": "tBiLLV6tIjVk",
        "colab": {
          "base_uri": "https://localhost:8080/"
        },
        "outputId": "f333cf4d-4366-4676-95dd-0f930cdb6093"
      },
      "execution_count": null,
      "outputs": [
        {
          "output_type": "stream",
          "name": "stdout",
          "text": [
            "Epoch 1/20\n",
            "259/259 [==============================] - 127s 461ms/step - loss: 2.1546 - accuracy: 0.1741 - val_loss: 1.8250 - val_accuracy: 0.2943\n",
            "Epoch 2/20\n",
            "259/259 [==============================] - 119s 461ms/step - loss: 1.8594 - accuracy: 0.3093 - val_loss: 1.6845 - val_accuracy: 0.3997\n",
            "Epoch 3/20\n",
            "259/259 [==============================] - 119s 460ms/step - loss: 1.7038 - accuracy: 0.3782 - val_loss: 1.5572 - val_accuracy: 0.4820\n",
            "Epoch 4/20\n",
            "259/259 [==============================] - 118s 458ms/step - loss: 1.6293 - accuracy: 0.4127 - val_loss: 1.5263 - val_accuracy: 0.4961\n",
            "Epoch 5/20\n",
            "259/259 [==============================] - 118s 456ms/step - loss: 1.5788 - accuracy: 0.4354 - val_loss: 1.4503 - val_accuracy: 0.5214\n",
            "Epoch 6/20\n",
            "259/259 [==============================] - 118s 457ms/step - loss: 1.5502 - accuracy: 0.4480 - val_loss: 1.4154 - val_accuracy: 0.5485\n",
            "Epoch 7/20\n",
            "259/259 [==============================] - 118s 456ms/step - loss: 1.4986 - accuracy: 0.4614 - val_loss: 1.3895 - val_accuracy: 0.5304\n",
            "Epoch 8/20\n",
            "259/259 [==============================] - 118s 456ms/step - loss: 1.4880 - accuracy: 0.4803 - val_loss: 1.3633 - val_accuracy: 0.5598\n",
            "Epoch 9/20\n",
            "259/259 [==============================] - 118s 457ms/step - loss: 1.4716 - accuracy: 0.4806 - val_loss: 1.3583 - val_accuracy: 0.5462\n",
            "Epoch 10/20\n",
            "259/259 [==============================] - 118s 457ms/step - loss: 1.4753 - accuracy: 0.4877 - val_loss: 1.3474 - val_accuracy: 0.5440\n",
            "Epoch 11/20\n",
            "259/259 [==============================] - 118s 457ms/step - loss: 1.4536 - accuracy: 0.4896 - val_loss: 1.3891 - val_accuracy: 0.5186\n",
            "Epoch 12/20\n",
            "259/259 [==============================] - 118s 455ms/step - loss: 1.4510 - accuracy: 0.4904 - val_loss: 1.3255 - val_accuracy: 0.5654\n",
            "Epoch 13/20\n",
            "259/259 [==============================] - 118s 455ms/step - loss: 1.4483 - accuracy: 0.4909 - val_loss: 1.3065 - val_accuracy: 0.5857\n",
            "Epoch 14/20\n",
            "259/259 [==============================] - 118s 457ms/step - loss: 1.4521 - accuracy: 0.4788 - val_loss: 1.3103 - val_accuracy: 0.5778\n",
            "Epoch 15/20\n",
            "259/259 [==============================] - 118s 455ms/step - loss: 1.4389 - accuracy: 0.4901 - val_loss: 1.2827 - val_accuracy: 0.5846\n",
            "Epoch 16/20\n",
            "259/259 [==============================] - 118s 456ms/step - loss: 1.4059 - accuracy: 0.4998 - val_loss: 1.2823 - val_accuracy: 0.5829\n",
            "Epoch 17/20\n",
            "259/259 [==============================] - 118s 456ms/step - loss: 1.4414 - accuracy: 0.4871 - val_loss: 1.3092 - val_accuracy: 0.5699\n",
            "Epoch 18/20\n",
            "259/259 [==============================] - 118s 456ms/step - loss: 1.4275 - accuracy: 0.5039 - val_loss: 1.2868 - val_accuracy: 0.5840\n"
          ]
        }
      ]
    },
    {
      "cell_type": "code",
      "source": [
        "model.evaluate(X_test.TextPreprocessed,y_test)"
      ],
      "metadata": {
        "id": "ZNyW6_zbF9e4",
        "colab": {
          "base_uri": "https://localhost:8080/"
        },
        "outputId": "42e66f76-7922-4465-fda5-aca54ab172f3"
      },
      "execution_count": null,
      "outputs": [
        {
          "output_type": "stream",
          "name": "stdout",
          "text": [
            "56/56 [==============================] - 22s 378ms/step - loss: 1.2732 - accuracy: 0.5795\n"
          ]
        },
        {
          "output_type": "execute_result",
          "data": {
            "text/plain": [
              "[1.2732239961624146, 0.5794814229011536]"
            ]
          },
          "metadata": {},
          "execution_count": 18
        }
      ]
    },
    {
      "cell_type": "code",
      "source": [
        "pred_lab, gold_lab, inference_time = get_predictions(X_test.TextPreprocessed,y_test,model,True)\n",
        "\n",
        "print(inference_time)\n",
        "\n",
        "fig, ax = plt.subplots(figsize=(6, 6))\n",
        "ConfusionMatrixDisplay.from_predictions(gold_lab, pred_lab, xticks_rotation='vertical', ax=ax)"
      ],
      "metadata": {
        "id": "5NxV79REF9e5",
        "colab": {
          "base_uri": "https://localhost:8080/",
          "height": 442
        },
        "outputId": "7ef82ae4-ec0f-4743-f527-57e51048daef"
      },
      "execution_count": null,
      "outputs": [
        {
          "output_type": "stream",
          "name": "stdout",
          "text": [
            "17.811403036117554\n"
          ]
        },
        {
          "output_type": "execute_result",
          "data": {
            "text/plain": [
              "<sklearn.metrics._plot.confusion_matrix.ConfusionMatrixDisplay at 0x7f8724122450>"
            ]
          },
          "metadata": {},
          "execution_count": 19
        },
        {
          "output_type": "display_data",
          "data": {
            "text/plain": [
              "<Figure size 432x432 with 2 Axes>"
            ],
            "image/png": "[encoded data removed]"
          },
          "metadata": {
            "needs_background": "light"
          }
        }
      ]
    },
    {
      "cell_type": "code",
      "source": [
        "f1_summary = f1_score(gold_lab, pred_lab, average=None)\n",
        "f1_micro = f1_score(gold_lab, pred_lab, average=\"micro\")\n",
        "f1_macro = f1_score(gold_lab, pred_lab, average=\"macro\")\n",
        "print(f1_summary)\n",
        "print(f1_micro)\n",
        "print(f1_macro)"
      ],
      "metadata": {
        "id": "QcFdW3_zF9e5",
        "colab": {
          "base_uri": "https://localhost:8080/"
        },
        "outputId": "926e9033-432b-4e3e-a3f4-8bbbdd9ad904"
      },
      "execution_count": null,
      "outputs": [
        {
          "output_type": "stream",
          "name": "stdout",
          "text": [
            "[0.45563549 0.58158996 0.6039604  0.63700234 0.64210526 0.64102564\n",
            " 0.49658314 0.57943925]\n",
            "0.5794813979706878\n",
            "0.5796676859692058\n"
          ]
        }
      ]
    },
    {
      "cell_type": "markdown",
      "source": [
        "# Keyword extraction and classification with Embeddings"
      ],
      "metadata": {
        "id": "RRGpwMspirhc"
      }
    },
    {
      "cell_type": "code",
      "source": [
        "filtered_df = pd.read_csv(\"/content/gdrive/Shareddrives/HLT-ArticlesTagging/DataframeSampled.csv\")"
      ],
      "metadata": {
        "id": "Pbsu8yb4tUC7"
      },
      "execution_count": null,
      "outputs": []
    },
    {
      "cell_type": "code",
      "source": [
        "X_train, filtered_df = train_test_split(filtered_df, test_size=0.15, random_state=3827)"
      ],
      "metadata": {
        "id": "7Uy83gqhWncx"
      },
      "execution_count": null,
      "outputs": []
    },
    {
      "cell_type": "code",
      "source": [
        "kw_extractor = yake.KeywordExtractor()\n",
        "language = \"en\"\n",
        "max_ngram_size = 1\n",
        "deduplication_threshold = 0.9\n",
        "numOfKeywords = 9\n",
        "custom_kw_extractor = yake.KeywordExtractor(lan=language, n=max_ngram_size, dedupLim=deduplication_threshold, top=numOfKeywords, features=None)\n",
        "\n",
        "keywords_column = []\n",
        "articles = filtered_df.TextPreprocessed\n",
        "\n",
        "for article in tqdm(articles):\n",
        "  keywords = custom_kw_extractor.extract_keywords(article)\n",
        "  keywords_list = []\n",
        "  for kw in keywords:\n",
        "    keywords_list.append(kw[0])\n",
        "  keywords_column.append(keywords_list)\n",
        "\n",
        "filtered_df['Keywords'] = keywords_column\n"
      ],
      "metadata": {
        "colab": {
          "base_uri": "https://localhost:8080/"
        },
        "id": "1pGGFu9Biztx",
        "outputId": "2e36f19b-4a8d-46c1-dc58-7faa74711cdc"
      },
      "execution_count": null,
      "outputs": [
        {
          "output_type": "stream",
          "name": "stderr",
          "text": [
            "100%|██████████| 1774/1774 [01:49<00:00, 16.15it/s]\n"
          ]
        }
      ]
    },
    {
      "cell_type": "code",
      "source": [
        "filtered_df"
      ],
      "metadata": {
        "colab": {
          "base_uri": "https://localhost:8080/",
          "height": 424
        },
        "id": "SyGR520XmcQm",
        "outputId": "1f350cb4-79c0-4698-8535-18b060fe9cd2"
      },
      "execution_count": null,
      "outputs": [
        {
          "output_type": "execute_result",
          "data": {
            "text/plain": [
              "              Tag                                   TextPreprocessed  Num_Tag  \\\n",
              "6192        Music  intro am f c them x2 verse am f c them because...        4   \n",
              "4121       Health  by barbara k rimer drph chair presidents cance...        2   \n",
              "8427       Travel  hotel reservation system hotel apis  native mo...        5   \n",
              "10165     Finance  10 practical steps to becoming debt free in 3 ...        6   \n",
              "7185        Music  outdoor security cameras can be your first lin...        4   \n",
              "...           ...                                                ...      ...   \n",
              "10416     History  the deadliest female sniper in recorded histor...        7   \n",
              "4789    Education  the operationarchitecture model is a coevoluti...        3   \n",
              "929    Technology  samsung galaxy z fold 3 and z flip 3 can now a...        0   \n",
              "4695    Education  image sourcestatecraft  published by coin idol...        3   \n",
              "11432     History  are you ready for the postpandemic wave of hed...        7   \n",
              "\n",
              "                                                Keywords  \n",
              "6192   [sky, full, stars, care, verse, give, tear, in...  \n",
              "4121   [health, cancer, information, care, president,...  \n",
              "8427   [reservation, hotel, system, business, apps, o...  \n",
              "10165  [credit, card, cards, rate, debt, pay, loans, ...  \n",
              "7185   [outdoor, nonproduct, blink, twocamera, link, ...  \n",
              "...                                                  ...  \n",
              "10416  [lyudmila, war, soviet, sniper, pavlichenko, s...  \n",
              "4789   [ship, design, field, architecture, activities...  \n",
              "929    [galaxy, beta, fold, flip, samsung, latest, us...  \n",
              "4695   [digital, cryptocurrency, blockchain, project,...  \n",
              "11432  [people, end, war, world, suddenly, time, hedo...  \n",
              "\n",
              "[1774 rows x 4 columns]"
            ],
            "text/html": [
              "\n",
              "  <div id=\"df-7c10f774-1ff0-421a-b29d-d508eaeb5b24\">\n",
              "    <div class=\"colab-df-container\">\n",
              "      <div>\n",
              "<style scoped>\n",
              "    .dataframe tbody tr th:only-of-type {\n",
              "        vertical-align: middle;\n",
              "    }\n",
              "\n",
              "    .dataframe tbody tr th {\n",
              "        vertical-align: top;\n",
              "    }\n",
              "\n",
              "    .dataframe thead th {\n",
              "        text-align: right;\n",
              "    }\n",
              "</style>\n",
              "<table border=\"1\" class=\"dataframe\">\n",
              "  <thead>\n",
              "    <tr style=\"text-align: right;\">\n",
              "      <th></th>\n",
              "      <th>Tag</th>\n",
              "      <th>TextPreprocessed</th>\n",
              "      <th>Num_Tag</th>\n",
              "      <th>Keywords</th>\n",
              "    </tr>\n",
              "  </thead>\n",
              "  <tbody>\n",
              "    <tr>\n",
              "      <th>6192</th>\n",
              "      <td>Music</td>\n",
              "      <td>intro am f c them x2 verse am f c them because...</td>\n",
              "      <td>4</td>\n",
              "      <td>[sky, full, stars, care, verse, give, tear, in...</td>\n",
              "    </tr>\n",
              "    <tr>\n",
              "      <th>4121</th>\n",
              "      <td>Health</td>\n",
              "      <td>by barbara k rimer drph chair presidents cance...</td>\n",
              "      <td>2</td>\n",
              "      <td>[health, cancer, information, care, president,...</td>\n",
              "    </tr>\n",
              "    <tr>\n",
              "      <th>8427</th>\n",
              "      <td>Travel</td>\n",
              "      <td>hotel reservation system hotel apis  native mo...</td>\n",
              "      <td>5</td>\n",
              "      <td>[reservation, hotel, system, business, apps, o...</td>\n",
              "    </tr>\n",
              "    <tr>\n",
              "      <th>10165</th>\n",
              "      <td>Finance</td>\n",
              "      <td>10 practical steps to becoming debt free in 3 ...</td>\n",
              "      <td>6</td>\n",
              "      <td>[credit, card, cards, rate, debt, pay, loans, ...</td>\n",
              "    </tr>\n",
              "    <tr>\n",
              "      <th>7185</th>\n",
              "      <td>Music</td>\n",
              "      <td>outdoor security cameras can be your first lin...</td>\n",
              "      <td>4</td>\n",
              "      <td>[outdoor, nonproduct, blink, twocamera, link, ...</td>\n",
              "    </tr>\n",
              "    <tr>\n",
              "      <th>...</th>\n",
              "      <td>...</td>\n",
              "      <td>...</td>\n",
              "      <td>...</td>\n",
              "      <td>...</td>\n",
              "    </tr>\n",
              "    <tr>\n",
              "      <th>10416</th>\n",
              "      <td>History</td>\n",
              "      <td>the deadliest female sniper in recorded histor...</td>\n",
              "      <td>7</td>\n",
              "      <td>[lyudmila, war, soviet, sniper, pavlichenko, s...</td>\n",
              "    </tr>\n",
              "    <tr>\n",
              "      <th>4789</th>\n",
              "      <td>Education</td>\n",
              "      <td>the operationarchitecture model is a coevoluti...</td>\n",
              "      <td>3</td>\n",
              "      <td>[ship, design, field, architecture, activities...</td>\n",
              "    </tr>\n",
              "    <tr>\n",
              "      <th>929</th>\n",
              "      <td>Technology</td>\n",
              "      <td>samsung galaxy z fold 3 and z flip 3 can now a...</td>\n",
              "      <td>0</td>\n",
              "      <td>[galaxy, beta, fold, flip, samsung, latest, us...</td>\n",
              "    </tr>\n",
              "    <tr>\n",
              "      <th>4695</th>\n",
              "      <td>Education</td>\n",
              "      <td>image sourcestatecraft  published by coin idol...</td>\n",
              "      <td>3</td>\n",
              "      <td>[digital, cryptocurrency, blockchain, project,...</td>\n",
              "    </tr>\n",
              "    <tr>\n",
              "      <th>11432</th>\n",
              "      <td>History</td>\n",
              "      <td>are you ready for the postpandemic wave of hed...</td>\n",
              "      <td>7</td>\n",
              "      <td>[people, end, war, world, suddenly, time, hedo...</td>\n",
              "    </tr>\n",
              "  </tbody>\n",
              "</table>\n",
              "<p>1774 rows × 4 columns</p>\n",
              "</div>\n",
              "      <button class=\"colab-df-convert\" onclick=\"convertToInteractive('df-7c10f774-1ff0-421a-b29d-d508eaeb5b24')\"\n",
              "              title=\"Convert this dataframe to an interactive table.\"\n",
              "              style=\"display:none;\">\n",
              "        \n",
              "  <svg xmlns=\"http://www.w3.org/2000/svg\" height=\"24px\"viewBox=\"0 0 24 24\"\n",
              "       width=\"24px\">\n",
              "    <path d=\"M0 0h24v24H0V0z\" fill=\"none\"/>\n",
              "    <path d=\"M18.56 5.44l.94 2.06.94-2.06 2.06-.94-2.06-.94-.94-2.06-.94 2.06-2.06.94zm-11 1L8.5 8.5l.94-2.06 2.06-.94-2.06-.94L8.5 2.5l-.94 2.06-2.06.94zm10 10l.94 2.06.94-2.06 2.06-.94-2.06-.94-.94-2.06-.94 2.06-2.06.94z\"/><path d=\"M17.41 7.96l-1.37-1.37c-.4-.4-.92-.59-1.43-.59-.52 0-1.04.2-1.43.59L10.3 9.45l-7.72 7.72c-.78.78-.78 2.05 0 2.83L4 21.41c.39.39.9.59 1.41.59.51 0 1.02-.2 1.41-.59l7.78-7.78 2.81-2.81c.8-.78.8-2.07 0-2.86zM5.41 20L4 18.59l7.72-7.72 1.47 1.35L5.41 20z\"/>\n",
              "  </svg>\n",
              "      </button>\n",
              "      \n",
              "  <style>\n",
              "    .colab-df-container {\n",
              "      display:flex;\n",
              "      flex-wrap:wrap;\n",
              "      gap: 12px;\n",
              "    }\n",
              "\n",
              "    .colab-df-convert {\n",
              "      background-color: #E8F0FE;\n",
              "      border: none;\n",
              "      border-radius: 50%;\n",
              "      cursor: pointer;\n",
              "      display: none;\n",
              "      fill: #1967D2;\n",
              "      height: 32px;\n",
              "      padding: 0 0 0 0;\n",
              "      width: 32px;\n",
              "    }\n",
              "\n",
              "    .colab-df-convert:hover {\n",
              "      background-color: #E2EBFA;\n",
              "      box-shadow: 0px 1px 2px rgba(60, 64, 67, 0.3), 0px 1px 3px 1px rgba(60, 64, 67, 0.15);\n",
              "      fill: #174EA6;\n",
              "    }\n",
              "\n",
              "    [theme=dark] .colab-df-convert {\n",
              "      background-color: #3B4455;\n",
              "      fill: #D2E3FC;\n",
              "    }\n",
              "\n",
              "    [theme=dark] .colab-df-convert:hover {\n",
              "      background-color: #434B5C;\n",
              "      box-shadow: 0px 1px 3px 1px rgba(0, 0, 0, 0.15);\n",
              "      filter: drop-shadow(0px 1px 2px rgba(0, 0, 0, 0.3));\n",
              "      fill: #FFFFFF;\n",
              "    }\n",
              "  </style>\n",
              "\n",
              "      <script>\n",
              "        const buttonEl =\n",
              "          document.querySelector('#df-7c10f774-1ff0-421a-b29d-d508eaeb5b24 button.colab-df-convert');\n",
              "        buttonEl.style.display =\n",
              "          google.colab.kernel.accessAllowed ? 'block' : 'none';\n",
              "\n",
              "        async function convertToInteractive(key) {\n",
              "          const element = document.querySelector('#df-7c10f774-1ff0-421a-b29d-d508eaeb5b24');\n",
              "          const dataTable =\n",
              "            await google.colab.kernel.invokeFunction('convertToInteractive',\n",
              "                                                     [key], {});\n",
              "          if (!dataTable) return;\n",
              "\n",
              "          const docLinkHtml = 'Like what you see? Visit the ' +\n",
              "            '<a target=\"_blank\" href=https://colab.research.google.com/notebooks/data_table.ipynb>data table notebook</a>'\n",
              "            + ' to learn more about interactive tables.';\n",
              "          element.innerHTML = '';\n",
              "          dataTable['output_type'] = 'display_data';\n",
              "          await google.colab.output.renderOutput(dataTable, element);\n",
              "          const docLink = document.createElement('div');\n",
              "          docLink.innerHTML = docLinkHtml;\n",
              "          element.appendChild(docLink);\n",
              "        }\n",
              "      </script>\n",
              "    </div>\n",
              "  </div>\n",
              "  "
            ]
          },
          "metadata": {},
          "execution_count": 93
        }
      ]
    },
    {
      "cell_type": "code",
      "source": [
        "filtered_df.to_csv(\"/content/gdrive/Shareddrives/HLT-ArticlesTagging/dataframeWithKeywords.csv\", index = False)"
      ],
      "metadata": {
        "id": "5DWEL7SxncjN"
      },
      "execution_count": null,
      "outputs": []
    },
    {
      "cell_type": "code",
      "source": [
        "filtered_df = pd.read_csv(\"/content/gdrive/Shareddrives/HLT-ArticlesTagging/dataframeWithKeywords.csv\")"
      ],
      "metadata": {
        "id": "Q-wB28S0xZdZ"
      },
      "execution_count": null,
      "outputs": []
    },
    {
      "cell_type": "markdown",
      "source": [
        "##GLOVE"
      ],
      "metadata": {
        "id": "KJx-zNIL8nJp"
      }
    },
    {
      "cell_type": "code",
      "source": [
        "! kaggle datasets download -d danielwillgeorge/glove6b100dtxt --unzip"
      ],
      "metadata": {
        "colab": {
          "base_uri": "https://localhost:8080/"
        },
        "id": "TTH9Kkpl7USx",
        "outputId": "f85eab53-0b5e-49b2-9851-8b2abec97f4e"
      },
      "execution_count": null,
      "outputs": [
        {
          "output_type": "stream",
          "name": "stdout",
          "text": [
            "Downloading glove6b100dtxt.zip to /content\n",
            " 95% 125M/131M [00:01<00:00, 62.3MB/s]\n",
            "100% 131M/131M [00:01<00:00, 82.7MB/s]\n"
          ]
        }
      ]
    },
    {
      "cell_type": "code",
      "source": [
        "glove_filename='glove.6B.100d.txt'\n",
        "\n",
        "# Variable for data directory\n",
        "glove_path = \"/content/glove.6B.100d.txt\"\n",
        "\n",
        "word2vec_output_file = glove_filename+'.word2vec'\n",
        "# saves the Glove embeddings in the word2vec format that will be loaded later\n",
        "glove2word2vec(glove_path, word2vec_output_file)"
      ],
      "metadata": {
        "colab": {
          "base_uri": "https://localhost:8080/"
        },
        "id": "uGAyFbvU4yLK",
        "outputId": "15ee630e-6569-40eb-a923-f57ecc2a9635"
      },
      "execution_count": null,
      "outputs": [
        {
          "output_type": "execute_result",
          "data": {
            "text/plain": [
              "(400000, 100)"
            ]
          },
          "metadata": {},
          "execution_count": 96
        }
      ]
    },
    {
      "cell_type": "code",
      "source": [
        "# load the Stanford GloVe model\n",
        "model = KeyedVectors.load_word2vec_format(word2vec_output_file, binary=False)"
      ],
      "metadata": {
        "id": "k2SPazEQ9Ham"
      },
      "execution_count": null,
      "outputs": []
    },
    {
      "cell_type": "code",
      "source": [
        "embeddings_column = []\n",
        "keyword_lists = filtered_df.Keywords\n",
        "\n",
        "for keyword_list in tqdm(keyword_lists):\n",
        "  embedding_list = []\n",
        "  for keyword in keyword_list:\n",
        "    try:\n",
        "      embedding_list.append(model.get_vector(keyword))\n",
        "    except KeyError:\n",
        "      continue\n",
        "  embeddings_column.append(embedding_list)\n",
        "\n",
        "filtered_df['KeywordEmbeddings'] = embeddings_column"
      ],
      "metadata": {
        "colab": {
          "base_uri": "https://localhost:8080/"
        },
        "id": "oUcf71W-9tV-",
        "outputId": "445b0593-b221-4870-eee4-33ce2b07a0d6"
      },
      "execution_count": null,
      "outputs": [
        {
          "output_type": "stream",
          "name": "stderr",
          "text": [
            "100%|██████████| 1774/1774 [00:00<00:00, 58321.80it/s]\n"
          ]
        }
      ]
    },
    {
      "cell_type": "code",
      "source": [
        "embeddings_dictionary = {\n",
        "    'Technology':0,\n",
        "    'Politics':0,\n",
        "    'Health':0,\n",
        "    'Education':0,\n",
        "    'Music':0,\n",
        "    'Travel':0,\n",
        "    'Finance':0,\n",
        "    'History':0\n",
        "}"
      ],
      "metadata": {
        "id": "lWtO86fQ_2Bh"
      },
      "execution_count": null,
      "outputs": []
    },
    {
      "cell_type": "markdown",
      "source": [
        "Computing the embeddings for each label."
      ],
      "metadata": {
        "id": "80_eJ6AWx10a"
      }
    },
    {
      "cell_type": "code",
      "source": [
        "LABELS=['Technology','Politics','Health','Education','Music','Travel','Finance','History']\n",
        "for label in LABELS:\n",
        "  embeddings_dictionary[label] = model.get_vector(label.lower())"
      ],
      "metadata": {
        "id": "G6JDkihKAPHB"
      },
      "execution_count": null,
      "outputs": []
    },
    {
      "cell_type": "code",
      "source": [
        "def predict_tags (filtered_df):\n",
        "  keyword_embeddings = filtered_df.KeywordEmbeddings\n",
        "  predicted_tags = []\n",
        "\n",
        "  for embedding_list in tqdm(keyword_embeddings):\n",
        "    tag_list = []\n",
        "    for embedding in embedding_list:\n",
        "      max = 0\n",
        "      tag = ''\n",
        "      for elem in embeddings_dictionary:\n",
        "        result=cosine_similarity(embedding.reshape(1,-1),embeddings_dictionary[elem].reshape(1,-1))\n",
        "        if result > max:\n",
        "          max = result\n",
        "          tag = elem\n",
        "      tag_list.append(tag)\n",
        "    if len(tag_list) > 0:\n",
        "      occurence_count = Counter(tag_list)\n",
        "      most_common_item = occurence_count.most_common(1)[0][0]\n",
        "      predicted_tags.append(most_common_item)\n",
        "    else:\n",
        "      predicted_tags.append(\"unknown\")\n",
        "  filtered_df['PredictedTag'] = predicted_tags\n",
        "  return filtered_df"
      ],
      "metadata": {
        "id": "LEZowBaQAj0G"
      },
      "execution_count": null,
      "outputs": []
    },
    {
      "cell_type": "code",
      "source": [
        "filtered_df = predict_tags(filtered_df)"
      ],
      "metadata": {
        "colab": {
          "base_uri": "https://localhost:8080/"
        },
        "id": "4-wvU1CmSdeq",
        "outputId": "6af04e0f-7e63-4acc-93d4-5b821412923b"
      },
      "execution_count": null,
      "outputs": [
        {
          "output_type": "stream",
          "name": "stderr",
          "text": [
            "100%|██████████| 1774/1774 [00:27<00:00, 64.30it/s]\n"
          ]
        }
      ]
    },
    {
      "cell_type": "code",
      "source": [
        "filtered_df.to_csv('/content/gdrive/Shareddrives/HLT-ArticlesTagging/dataframeWithKeywordsLabeled.csv', index=False)"
      ],
      "metadata": {
        "id": "LE-YvmQtNgwO"
      },
      "execution_count": null,
      "outputs": []
    },
    {
      "cell_type": "code",
      "source": [
        "cleared_df = filtered_df[filtered_df[\"PredictedTag\"] != '']\n",
        "cleared_df = cleared_df[cleared_df[\"PredictedTag\"] != 'unknown']"
      ],
      "metadata": {
        "id": "25xWAdzFQPJR"
      },
      "execution_count": null,
      "outputs": []
    },
    {
      "cell_type": "code",
      "source": [
        "gold_lab = cleared_df.Tag.tolist()\n",
        "pred_lab = cleared_df.PredictedTag.tolist()"
      ],
      "metadata": {
        "id": "OKwC_b0iOlYn"
      },
      "execution_count": null,
      "outputs": []
    },
    {
      "cell_type": "code",
      "source": [
        "fig, ax = plt.subplots(figsize=(6, 6))\n",
        "plt.grid(False)\n",
        "ConfusionMatrixDisplay.from_predictions(gold_lab, pred_lab, xticks_rotation='vertical', ax=ax)"
      ],
      "metadata": {
        "colab": {
          "base_uri": "https://localhost:8080/",
          "height": 437
        },
        "id": "DyShWyTUN7eG",
        "outputId": "3af979e6-d538-41e8-9196-209acb807f90"
      },
      "execution_count": null,
      "outputs": [
        {
          "output_type": "execute_result",
          "data": {
            "text/plain": [
              "<sklearn.metrics._plot.confusion_matrix.ConfusionMatrixDisplay at 0x7f2460edc650>"
            ]
          },
          "metadata": {},
          "execution_count": 111
        },
        {
          "output_type": "display_data",
          "data": {
            "text/plain": [
              "<Figure size 432x432 with 2 Axes>"
            ],
            "image/png": "[encoded data removed]"
          },
          "metadata": {}
        }
      ]
    },
    {
      "cell_type": "code",
      "source": [
        "test = cleared_df[cleared_df['Tag'] == cleared_df['PredictedTag']]\n",
        "accuracy = len(test)/len(cleared_df)\n",
        "accuracy"
      ],
      "metadata": {
        "colab": {
          "base_uri": "https://localhost:8080/"
        },
        "id": "rWRlibP9Gmpm",
        "outputId": "e6217ab9-2043-4dad-a241-0802d2b77754"
      },
      "execution_count": null,
      "outputs": [
        {
          "output_type": "execute_result",
          "data": {
            "text/plain": [
              "0.48328611898017"
            ]
          },
          "metadata": {},
          "execution_count": 112
        }
      ]
    },
    {
      "cell_type": "code",
      "source": [
        "f1_summary = f1_score(gold_lab, pred_lab, average=None)\n",
        "f1_micro = f1_score(gold_lab, pred_lab, average=\"micro\")\n",
        "f1_macro = f1_score(gold_lab, pred_lab, average=\"macro\")\n",
        "print(f1_summary)\n",
        "print(f1_micro)\n",
        "print(f1_macro)"
      ],
      "metadata": {
        "colab": {
          "base_uri": "https://localhost:8080/"
        },
        "id": "TM1TcD4iYQEH",
        "outputId": "dc2c4b63-22a1-42a3-9c2b-fc5721d5b4fa"
      },
      "execution_count": null,
      "outputs": [
        {
          "output_type": "stream",
          "name": "stdout",
          "text": [
            "[0.53061224 0.47204969 0.51376147 0.38961039 0.62360802 0.44648318\n",
            " 0.51089109 0.42637363]\n",
            "0.48328611898017\n",
            "0.48917371319591185\n"
          ]
        }
      ]
    },
    {
      "cell_type": "markdown",
      "source": [
        "# Classification with Bayes"
      ],
      "metadata": {
        "id": "Q9ejpXkfy7Av"
      }
    },
    {
      "cell_type": "code",
      "source": [
        "filtered_df = pd.read_csv(\"/content/gdrive/Shareddrives/HLT-ArticlesTagging/DataframeSampled.csv\")\n",
        "filtered_df"
      ],
      "metadata": {
        "id": "iO-cLQjEy-Tf",
        "colab": {
          "base_uri": "https://localhost:8080/",
          "height": 424
        },
        "outputId": "ee8677bb-ecfb-4f09-9c09-49862f69e2e8"
      },
      "execution_count": null,
      "outputs": [
        {
          "output_type": "execute_result",
          "data": {
            "text/plain": [
              "              Tag                                   TextPreprocessed  Num_Tag\n",
              "0      Technology  when life closes a door you open many zoom win...        0\n",
              "1      Technology  for some 5g is a miracle network that will bri...        0\n",
              "2      Technology  the firstever published website came to the in...        0\n",
              "3      Technology  my reluctant iphone 12 purchase story time whe...        0\n",
              "4      Technology  baseline image on the left and incorrect backg...        0\n",
              "...           ...                                                ...      ...\n",
              "11819     History  steve jobs dark past the time steve jobs cheat...        7\n",
              "11820     History  the san francisco oakland bay bridge had been ...        7\n",
              "11821     History  the skydiver saved by fire ants after plunging...        7\n",
              "11822     History  a collection of open letters to my family and ...        7\n",
              "11823     History  feeling currents wash over me soothing current...        7\n",
              "\n",
              "[11824 rows x 3 columns]"
            ],
            "text/html": [
              "\n",
              "  <div id=\"df-8ced3ee7-a8a0-4121-85d8-614d8a56e4d6\">\n",
              "    <div class=\"colab-df-container\">\n",
              "      <div>\n",
              "<style scoped>\n",
              "    .dataframe tbody tr th:only-of-type {\n",
              "        vertical-align: middle;\n",
              "    }\n",
              "\n",
              "    .dataframe tbody tr th {\n",
              "        vertical-align: top;\n",
              "    }\n",
              "\n",
              "    .dataframe thead th {\n",
              "        text-align: right;\n",
              "    }\n",
              "</style>\n",
              "<table border=\"1\" class=\"dataframe\">\n",
              "  <thead>\n",
              "    <tr style=\"text-align: right;\">\n",
              "      <th></th>\n",
              "      <th>Tag</th>\n",
              "      <th>TextPreprocessed</th>\n",
              "      <th>Num_Tag</th>\n",
              "    </tr>\n",
              "  </thead>\n",
              "  <tbody>\n",
              "    <tr>\n",
              "      <th>0</th>\n",
              "      <td>Technology</td>\n",
              "      <td>when life closes a door you open many zoom win...</td>\n",
              "      <td>0</td>\n",
              "    </tr>\n",
              "    <tr>\n",
              "      <th>1</th>\n",
              "      <td>Technology</td>\n",
              "      <td>for some 5g is a miracle network that will bri...</td>\n",
              "      <td>0</td>\n",
              "    </tr>\n",
              "    <tr>\n",
              "      <th>2</th>\n",
              "      <td>Technology</td>\n",
              "      <td>the firstever published website came to the in...</td>\n",
              "      <td>0</td>\n",
              "    </tr>\n",
              "    <tr>\n",
              "      <th>3</th>\n",
              "      <td>Technology</td>\n",
              "      <td>my reluctant iphone 12 purchase story time whe...</td>\n",
              "      <td>0</td>\n",
              "    </tr>\n",
              "    <tr>\n",
              "      <th>4</th>\n",
              "      <td>Technology</td>\n",
              "      <td>baseline image on the left and incorrect backg...</td>\n",
              "      <td>0</td>\n",
              "    </tr>\n",
              "    <tr>\n",
              "      <th>...</th>\n",
              "      <td>...</td>\n",
              "      <td>...</td>\n",
              "      <td>...</td>\n",
              "    </tr>\n",
              "    <tr>\n",
              "      <th>11819</th>\n",
              "      <td>History</td>\n",
              "      <td>steve jobs dark past the time steve jobs cheat...</td>\n",
              "      <td>7</td>\n",
              "    </tr>\n",
              "    <tr>\n",
              "      <th>11820</th>\n",
              "      <td>History</td>\n",
              "      <td>the san francisco oakland bay bridge had been ...</td>\n",
              "      <td>7</td>\n",
              "    </tr>\n",
              "    <tr>\n",
              "      <th>11821</th>\n",
              "      <td>History</td>\n",
              "      <td>the skydiver saved by fire ants after plunging...</td>\n",
              "      <td>7</td>\n",
              "    </tr>\n",
              "    <tr>\n",
              "      <th>11822</th>\n",
              "      <td>History</td>\n",
              "      <td>a collection of open letters to my family and ...</td>\n",
              "      <td>7</td>\n",
              "    </tr>\n",
              "    <tr>\n",
              "      <th>11823</th>\n",
              "      <td>History</td>\n",
              "      <td>feeling currents wash over me soothing current...</td>\n",
              "      <td>7</td>\n",
              "    </tr>\n",
              "  </tbody>\n",
              "</table>\n",
              "<p>11824 rows × 3 columns</p>\n",
              "</div>\n",
              "      <button class=\"colab-df-convert\" onclick=\"convertToInteractive('df-8ced3ee7-a8a0-4121-85d8-614d8a56e4d6')\"\n",
              "              title=\"Convert this dataframe to an interactive table.\"\n",
              "              style=\"display:none;\">\n",
              "        \n",
              "  <svg xmlns=\"http://www.w3.org/2000/svg\" height=\"24px\"viewBox=\"0 0 24 24\"\n",
              "       width=\"24px\">\n",
              "    <path d=\"M0 0h24v24H0V0z\" fill=\"none\"/>\n",
              "    <path d=\"M18.56 5.44l.94 2.06.94-2.06 2.06-.94-2.06-.94-.94-2.06-.94 2.06-2.06.94zm-11 1L8.5 8.5l.94-2.06 2.06-.94-2.06-.94L8.5 2.5l-.94 2.06-2.06.94zm10 10l.94 2.06.94-2.06 2.06-.94-2.06-.94-.94-2.06-.94 2.06-2.06.94z\"/><path d=\"M17.41 7.96l-1.37-1.37c-.4-.4-.92-.59-1.43-.59-.52 0-1.04.2-1.43.59L10.3 9.45l-7.72 7.72c-.78.78-.78 2.05 0 2.83L4 21.41c.39.39.9.59 1.41.59.51 0 1.02-.2 1.41-.59l7.78-7.78 2.81-2.81c.8-.78.8-2.07 0-2.86zM5.41 20L4 18.59l7.72-7.72 1.47 1.35L5.41 20z\"/>\n",
              "  </svg>\n",
              "      </button>\n",
              "      \n",
              "  <style>\n",
              "    .colab-df-container {\n",
              "      display:flex;\n",
              "      flex-wrap:wrap;\n",
              "      gap: 12px;\n",
              "    }\n",
              "\n",
              "    .colab-df-convert {\n",
              "      background-color: #E8F0FE;\n",
              "      border: none;\n",
              "      border-radius: 50%;\n",
              "      cursor: pointer;\n",
              "      display: none;\n",
              "      fill: #1967D2;\n",
              "      height: 32px;\n",
              "      padding: 0 0 0 0;\n",
              "      width: 32px;\n",
              "    }\n",
              "\n",
              "    .colab-df-convert:hover {\n",
              "      background-color: #E2EBFA;\n",
              "      box-shadow: 0px 1px 2px rgba(60, 64, 67, 0.3), 0px 1px 3px 1px rgba(60, 64, 67, 0.15);\n",
              "      fill: #174EA6;\n",
              "    }\n",
              "\n",
              "    [theme=dark] .colab-df-convert {\n",
              "      background-color: #3B4455;\n",
              "      fill: #D2E3FC;\n",
              "    }\n",
              "\n",
              "    [theme=dark] .colab-df-convert:hover {\n",
              "      background-color: #434B5C;\n",
              "      box-shadow: 0px 1px 3px 1px rgba(0, 0, 0, 0.15);\n",
              "      filter: drop-shadow(0px 1px 2px rgba(0, 0, 0, 0.3));\n",
              "      fill: #FFFFFF;\n",
              "    }\n",
              "  </style>\n",
              "\n",
              "      <script>\n",
              "        const buttonEl =\n",
              "          document.querySelector('#df-8ced3ee7-a8a0-4121-85d8-614d8a56e4d6 button.colab-df-convert');\n",
              "        buttonEl.style.display =\n",
              "          google.colab.kernel.accessAllowed ? 'block' : 'none';\n",
              "\n",
              "        async function convertToInteractive(key) {\n",
              "          const element = document.querySelector('#df-8ced3ee7-a8a0-4121-85d8-614d8a56e4d6');\n",
              "          const dataTable =\n",
              "            await google.colab.kernel.invokeFunction('convertToInteractive',\n",
              "                                                     [key], {});\n",
              "          if (!dataTable) return;\n",
              "\n",
              "          const docLinkHtml = 'Like what you see? Visit the ' +\n",
              "            '<a target=\"_blank\" href=https://colab.research.google.com/notebooks/data_table.ipynb>data table notebook</a>'\n",
              "            + ' to learn more about interactive tables.';\n",
              "          element.innerHTML = '';\n",
              "          dataTable['output_type'] = 'display_data';\n",
              "          await google.colab.output.renderOutput(dataTable, element);\n",
              "          const docLink = document.createElement('div');\n",
              "          docLink.innerHTML = docLinkHtml;\n",
              "          element.appendChild(docLink);\n",
              "        }\n",
              "      </script>\n",
              "    </div>\n",
              "  </div>\n",
              "  "
            ]
          },
          "metadata": {},
          "execution_count": 4
        }
      ]
    },
    {
      "cell_type": "code",
      "source": [
        "# y contains the Category of the article\n",
        "y = filtered_df.pop('Tag').to_frame()\n",
        "# x contains the Title and Text of the article\n",
        "x = filtered_df\n",
        "\n",
        "X_train, X_test, y_train, y_test = train_test_split(\n",
        "        x, y,stratify=y, test_size=0.3, random_state=3827)\n",
        "\n",
        "X_test, X_val, y_test, y_val = train_test_split(\n",
        "        X_test, y_test, stratify=y_test, test_size=0.5, random_state=3827)"
      ],
      "metadata": {
        "id": "unTaILsZ1o_z"
      },
      "execution_count": null,
      "outputs": []
    },
    {
      "cell_type": "code",
      "source": [
        "# Build the model\n",
        "model = make_pipeline(TfidfVectorizer(), MultinomialNB())\n",
        "# Train the model using the training data\n",
        "start_time = time.time()\n",
        "model.fit(X_train.TextPreprocessed, y_train.Tag)\n",
        "training_time = time.time() - start_time\n",
        "\n",
        "print(\"Training Time: \" + str(training_time))"
      ],
      "metadata": {
        "colab": {
          "base_uri": "https://localhost:8080/"
        },
        "id": "g6N8wdWm2hGo",
        "outputId": "3e6ab61e-8587-4ca2-b367-266abea423e9"
      },
      "execution_count": null,
      "outputs": [
        {
          "output_type": "stream",
          "name": "stdout",
          "text": [
            "Training Time: 6.823042392730713\n"
          ]
        }
      ]
    },
    {
      "cell_type": "code",
      "source": [
        "start_time = time.time()\n",
        "predicted_categories = model.predict(X_test.TextPreprocessed)\n",
        "inference_time = time.time() - start_time\n",
        "print(\"Inference Time: \" + str(inference_time))"
      ],
      "metadata": {
        "id": "KbUZT4q82zuv",
        "colab": {
          "base_uri": "https://localhost:8080/"
        },
        "outputId": "7d7bbaa9-2957-4c0a-dbd7-bf621a654c52"
      },
      "execution_count": null,
      "outputs": [
        {
          "output_type": "stream",
          "name": "stdout",
          "text": [
            "Inference Time: 2.429478645324707\n"
          ]
        }
      ]
    },
    {
      "cell_type": "code",
      "source": [
        "fig, ax = plt.subplots(figsize=(6, 6))\n",
        "ConfusionMatrixDisplay.from_predictions(y_test.Tag.tolist(), predicted_categories.tolist(), xticks_rotation='vertical', ax=ax)"
      ],
      "metadata": {
        "colab": {
          "base_uri": "https://localhost:8080/",
          "height": 422
        },
        "id": "k_CYDder2_Bx",
        "outputId": "cdd5ebed-3314-4485-b4e3-f1e5a965df77"
      },
      "execution_count": null,
      "outputs": [
        {
          "output_type": "execute_result",
          "data": {
            "text/plain": [
              "<sklearn.metrics._plot.confusion_matrix.ConfusionMatrixDisplay at 0x7fe68bd88350>"
            ]
          },
          "metadata": {},
          "execution_count": 8
        },
        {
          "output_type": "display_data",
          "data": {
            "text/plain": [
              "<Figure size 432x432 with 2 Axes>"
            ],
            "image/png": "[encoded data removed]"
          },
          "metadata": {
            "needs_background": "light"
          }
        }
      ]
    },
    {
      "cell_type": "code",
      "source": [
        "print(\"The accuracy is {}\".format(accuracy_score(y_test.Tag, predicted_categories)))"
      ],
      "metadata": {
        "colab": {
          "base_uri": "https://localhost:8080/"
        },
        "id": "WD0zeQNlTNAo",
        "outputId": "9c702ee9-6983-4be7-80e8-63d6b614d90c"
      },
      "execution_count": null,
      "outputs": [
        {
          "output_type": "stream",
          "name": "stdout",
          "text": [
            "The accuracy is 0.7609921082299888\n"
          ]
        }
      ]
    },
    {
      "cell_type": "code",
      "source": [
        "f1_summary = f1_score(y_test.Tag.tolist(), predicted_categories.tolist(), average=None)\n",
        "f1_micro = f1_score(y_test.Tag.tolist(), predicted_categories.tolist(), average=\"micro\")\n",
        "f1_macro = f1_score(y_test.Tag.tolist(), predicted_categories.tolist(), average=\"macro\")\n",
        "print(f1_summary)\n",
        "print(f1_micro)\n",
        "print(f1_macro)"
      ],
      "metadata": {
        "colab": {
          "base_uri": "https://localhost:8080/"
        },
        "id": "MeU_KAxBZjOi",
        "outputId": "c26f5828-1986-4c47-aa0a-b29ec1a5a3df"
      },
      "execution_count": null,
      "outputs": [
        {
          "output_type": "stream",
          "name": "stdout",
          "text": [
            "[0.69565217 0.81798715 0.81355932 0.70254958 0.85784314 0.75272727\n",
            " 0.64251208 0.8       ]\n",
            "0.7609921082299888\n",
            "0.7603538387911106\n"
          ]
        }
      ]
    },
    {
      "cell_type": "markdown",
      "source": [
        "# CNN "
      ],
      "metadata": {
        "id": "aFNw8L6c-JRW"
      }
    },
    {
      "cell_type": "code",
      "source": [
        "#the path for Glove embeddings\n",
        "GLOVE_PATH = \"/content/glove.6B.100d.txt\"\n",
        "# make the max word length to be constant\n",
        "MAX_WORDS = 2000\n",
        "MAX_SEQUENCE_LENGTH = 1000\n",
        "# the dimension of vectors to be used\n",
        "EMBEDDING_DIM = 100\n",
        "# filter sizes of the different conv layers \n",
        "filter_sizes = [3,4,5]\n",
        "num_filters = 512\n",
        "embedding_dim = 100\n",
        "# dropout probability\n",
        "drop = 0.5\n",
        "batch_size = 30\n",
        "epochs = 20"
      ],
      "metadata": {
        "id": "uCXNC4KcG4aN"
      },
      "execution_count": null,
      "outputs": []
    },
    {
      "cell_type": "code",
      "source": [
        "! kaggle datasets download -d danielwillgeorge/glove6b100dtxt --unzip"
      ],
      "metadata": {
        "colab": {
          "base_uri": "https://localhost:8080/"
        },
        "id": "3Y3SGPQrrxXE",
        "outputId": "28d89df2-4e15-4062-ed98-b19df0ef6ec1"
      },
      "execution_count": null,
      "outputs": [
        {
          "output_type": "stream",
          "name": "stdout",
          "text": [
            "Downloading glove6b100dtxt.zip to /content\n",
            " 96% 126M/131M [00:01<00:00, 85.2MB/s]\n",
            "100% 131M/131M [00:01<00:00, 84.2MB/s]\n"
          ]
        }
      ]
    },
    {
      "cell_type": "code",
      "source": [
        "filtered_df = pd.read_csv(\"/content/gdrive/Shareddrives/HLT-ArticlesTagging/DataframeSampled.csv\").dropna()\n",
        "filtered_df"
      ],
      "metadata": {
        "id": "sJradNu2MEHi",
        "colab": {
          "base_uri": "https://localhost:8080/",
          "height": 424
        },
        "outputId": "730ecf03-93c9-4d34-defc-7d39d9570b9e"
      },
      "execution_count": null,
      "outputs": [
        {
          "output_type": "execute_result",
          "data": {
            "text/plain": [
              "              Tag                                   TextPreprocessed  Num_Tag\n",
              "0      Technology  when life closes a door you open many zoom win...        0\n",
              "1      Technology  for some 5g is a miracle network that will bri...        0\n",
              "2      Technology  the firstever published website came to the in...        0\n",
              "3      Technology  my reluctant iphone 12 purchase story time whe...        0\n",
              "4      Technology  baseline image on the left and incorrect backg...        0\n",
              "...           ...                                                ...      ...\n",
              "11819     History  steve jobs dark past the time steve jobs cheat...        7\n",
              "11820     History  the san francisco oakland bay bridge had been ...        7\n",
              "11821     History  the skydiver saved by fire ants after plunging...        7\n",
              "11822     History  a collection of open letters to my family and ...        7\n",
              "11823     History  feeling currents wash over me soothing current...        7\n",
              "\n",
              "[11824 rows x 3 columns]"
            ],
            "text/html": [
              "\n",
              "  <div id=\"df-93a43330-beba-42bd-b547-4b56de9b7ddb\">\n",
              "    <div class=\"colab-df-container\">\n",
              "      <div>\n",
              "<style scoped>\n",
              "    .dataframe tbody tr th:only-of-type {\n",
              "        vertical-align: middle;\n",
              "    }\n",
              "\n",
              "    .dataframe tbody tr th {\n",
              "        vertical-align: top;\n",
              "    }\n",
              "\n",
              "    .dataframe thead th {\n",
              "        text-align: right;\n",
              "    }\n",
              "</style>\n",
              "<table border=\"1\" class=\"dataframe\">\n",
              "  <thead>\n",
              "    <tr style=\"text-align: right;\">\n",
              "      <th></th>\n",
              "      <th>Tag</th>\n",
              "      <th>TextPreprocessed</th>\n",
              "      <th>Num_Tag</th>\n",
              "    </tr>\n",
              "  </thead>\n",
              "  <tbody>\n",
              "    <tr>\n",
              "      <th>0</th>\n",
              "      <td>Technology</td>\n",
              "      <td>when life closes a door you open many zoom win...</td>\n",
              "      <td>0</td>\n",
              "    </tr>\n",
              "    <tr>\n",
              "      <th>1</th>\n",
              "      <td>Technology</td>\n",
              "      <td>for some 5g is a miracle network that will bri...</td>\n",
              "      <td>0</td>\n",
              "    </tr>\n",
              "    <tr>\n",
              "      <th>2</th>\n",
              "      <td>Technology</td>\n",
              "      <td>the firstever published website came to the in...</td>\n",
              "      <td>0</td>\n",
              "    </tr>\n",
              "    <tr>\n",
              "      <th>3</th>\n",
              "      <td>Technology</td>\n",
              "      <td>my reluctant iphone 12 purchase story time whe...</td>\n",
              "      <td>0</td>\n",
              "    </tr>\n",
              "    <tr>\n",
              "      <th>4</th>\n",
              "      <td>Technology</td>\n",
              "      <td>baseline image on the left and incorrect backg...</td>\n",
              "      <td>0</td>\n",
              "    </tr>\n",
              "    <tr>\n",
              "      <th>...</th>\n",
              "      <td>...</td>\n",
              "      <td>...</td>\n",
              "      <td>...</td>\n",
              "    </tr>\n",
              "    <tr>\n",
              "      <th>11819</th>\n",
              "      <td>History</td>\n",
              "      <td>steve jobs dark past the time steve jobs cheat...</td>\n",
              "      <td>7</td>\n",
              "    </tr>\n",
              "    <tr>\n",
              "      <th>11820</th>\n",
              "      <td>History</td>\n",
              "      <td>the san francisco oakland bay bridge had been ...</td>\n",
              "      <td>7</td>\n",
              "    </tr>\n",
              "    <tr>\n",
              "      <th>11821</th>\n",
              "      <td>History</td>\n",
              "      <td>the skydiver saved by fire ants after plunging...</td>\n",
              "      <td>7</td>\n",
              "    </tr>\n",
              "    <tr>\n",
              "      <th>11822</th>\n",
              "      <td>History</td>\n",
              "      <td>a collection of open letters to my family and ...</td>\n",
              "      <td>7</td>\n",
              "    </tr>\n",
              "    <tr>\n",
              "      <th>11823</th>\n",
              "      <td>History</td>\n",
              "      <td>feeling currents wash over me soothing current...</td>\n",
              "      <td>7</td>\n",
              "    </tr>\n",
              "  </tbody>\n",
              "</table>\n",
              "<p>11824 rows × 3 columns</p>\n",
              "</div>\n",
              "      <button class=\"colab-df-convert\" onclick=\"convertToInteractive('df-93a43330-beba-42bd-b547-4b56de9b7ddb')\"\n",
              "              title=\"Convert this dataframe to an interactive table.\"\n",
              "              style=\"display:none;\">\n",
              "        \n",
              "  <svg xmlns=\"http://www.w3.org/2000/svg\" height=\"24px\"viewBox=\"0 0 24 24\"\n",
              "       width=\"24px\">\n",
              "    <path d=\"M0 0h24v24H0V0z\" fill=\"none\"/>\n",
              "    <path d=\"M18.56 5.44l.94 2.06.94-2.06 2.06-.94-2.06-.94-.94-2.06-.94 2.06-2.06.94zm-11 1L8.5 8.5l.94-2.06 2.06-.94-2.06-.94L8.5 2.5l-.94 2.06-2.06.94zm10 10l.94 2.06.94-2.06 2.06-.94-2.06-.94-.94-2.06-.94 2.06-2.06.94z\"/><path d=\"M17.41 7.96l-1.37-1.37c-.4-.4-.92-.59-1.43-.59-.52 0-1.04.2-1.43.59L10.3 9.45l-7.72 7.72c-.78.78-.78 2.05 0 2.83L4 21.41c.39.39.9.59 1.41.59.51 0 1.02-.2 1.41-.59l7.78-7.78 2.81-2.81c.8-.78.8-2.07 0-2.86zM5.41 20L4 18.59l7.72-7.72 1.47 1.35L5.41 20z\"/>\n",
              "  </svg>\n",
              "      </button>\n",
              "      \n",
              "  <style>\n",
              "    .colab-df-container {\n",
              "      display:flex;\n",
              "      flex-wrap:wrap;\n",
              "      gap: 12px;\n",
              "    }\n",
              "\n",
              "    .colab-df-convert {\n",
              "      background-color: #E8F0FE;\n",
              "      border: none;\n",
              "      border-radius: 50%;\n",
              "      cursor: pointer;\n",
              "      display: none;\n",
              "      fill: #1967D2;\n",
              "      height: 32px;\n",
              "      padding: 0 0 0 0;\n",
              "      width: 32px;\n",
              "    }\n",
              "\n",
              "    .colab-df-convert:hover {\n",
              "      background-color: #E2EBFA;\n",
              "      box-shadow: 0px 1px 2px rgba(60, 64, 67, 0.3), 0px 1px 3px 1px rgba(60, 64, 67, 0.15);\n",
              "      fill: #174EA6;\n",
              "    }\n",
              "\n",
              "    [theme=dark] .colab-df-convert {\n",
              "      background-color: #3B4455;\n",
              "      fill: #D2E3FC;\n",
              "    }\n",
              "\n",
              "    [theme=dark] .colab-df-convert:hover {\n",
              "      background-color: #434B5C;\n",
              "      box-shadow: 0px 1px 3px 1px rgba(0, 0, 0, 0.15);\n",
              "      filter: drop-shadow(0px 1px 2px rgba(0, 0, 0, 0.3));\n",
              "      fill: #FFFFFF;\n",
              "    }\n",
              "  </style>\n",
              "\n",
              "      <script>\n",
              "        const buttonEl =\n",
              "          document.querySelector('#df-93a43330-beba-42bd-b547-4b56de9b7ddb button.colab-df-convert');\n",
              "        buttonEl.style.display =\n",
              "          google.colab.kernel.accessAllowed ? 'block' : 'none';\n",
              "\n",
              "        async function convertToInteractive(key) {\n",
              "          const element = document.querySelector('#df-93a43330-beba-42bd-b547-4b56de9b7ddb');\n",
              "          const dataTable =\n",
              "            await google.colab.kernel.invokeFunction('convertToInteractive',\n",
              "                                                     [key], {});\n",
              "          if (!dataTable) return;\n",
              "\n",
              "          const docLinkHtml = 'Like what you see? Visit the ' +\n",
              "            '<a target=\"_blank\" href=https://colab.research.google.com/notebooks/data_table.ipynb>data table notebook</a>'\n",
              "            + ' to learn more about interactive tables.';\n",
              "          element.innerHTML = '';\n",
              "          dataTable['output_type'] = 'display_data';\n",
              "          await google.colab.output.renderOutput(dataTable, element);\n",
              "          const docLink = document.createElement('div');\n",
              "          docLink.innerHTML = docLinkHtml;\n",
              "          element.appendChild(docLink);\n",
              "        }\n",
              "      </script>\n",
              "    </div>\n",
              "  </div>\n",
              "  "
            ]
          },
          "metadata": {},
          "execution_count": 8
        }
      ]
    },
    {
      "cell_type": "code",
      "source": [
        "# y contains the Category of the article\n",
        "y = filtered_df.pop('Num_Tag').to_frame()\n",
        "# x contains the Title and Text of the article\n",
        "x = filtered_df"
      ],
      "metadata": {
        "id": "f4G8tRVX-Mqj"
      },
      "execution_count": null,
      "outputs": []
    },
    {
      "cell_type": "code",
      "source": [
        "tokenizer  = Tokenizer(num_words = MAX_WORDS)\n",
        "# updates internal vocabulary based on a list of texts. This method creates the vocabulary index based on word frequency\n",
        "tokenizer.fit_on_texts(filtered_df.TextPreprocessed)\n",
        "#Transforms each text in texts to a sequence of integers. So it basically takes each word in the text and replaces it with its corresponding integer value from the word_index dictionary.\n",
        "sequences =  tokenizer.texts_to_sequences(filtered_df.TextPreprocessed)\n",
        "\n",
        "word_index = tokenizer.word_index\n",
        "print(\"unique words : {}\".format(len(word_index)))\n",
        "\n",
        "data = pad_sequences(sequences, maxlen=MAX_SEQUENCE_LENGTH)\n",
        "\n",
        "labels = to_categorical(np.asarray(y.Num_Tag))\n",
        "print('Shape of data tensor:', data.shape)\n",
        "print('Shape of label tensor:', labels.shape)\n",
        "print(labels)"
      ],
      "metadata": {
        "id": "-770tgcYGxCS",
        "colab": {
          "base_uri": "https://localhost:8080/"
        },
        "outputId": "efd97f24-0fcf-4ee6-b14a-a90a295efd24"
      },
      "execution_count": null,
      "outputs": [
        {
          "output_type": "stream",
          "name": "stdout",
          "text": [
            "unique words : 196460\n",
            "Shape of data tensor: (11824, 1000)\n",
            "Shape of label tensor: (11824, 8)\n",
            "[[1. 0. 0. ... 0. 0. 0.]\n",
            " [1. 0. 0. ... 0. 0. 0.]\n",
            " [1. 0. 0. ... 0. 0. 0.]\n",
            " ...\n",
            " [0. 0. 0. ... 0. 0. 1.]\n",
            " [0. 0. 0. ... 0. 0. 1.]\n",
            " [0. 0. 0. ... 0. 0. 1.]]\n"
          ]
        }
      ]
    },
    {
      "cell_type": "code",
      "source": [
        "list(word_index)[:20]"
      ],
      "metadata": {
        "colab": {
          "base_uri": "https://localhost:8080/"
        },
        "id": "TvXV8DFBDFOY",
        "outputId": "ccdbebdd-4d8a-410a-a10f-86b3f4aa9adf"
      },
      "execution_count": null,
      "outputs": [
        {
          "output_type": "execute_result",
          "data": {
            "text/plain": [
              "['the',\n",
              " 'to',\n",
              " 'and',\n",
              " 'of',\n",
              " 'a',\n",
              " 'in',\n",
              " 'is',\n",
              " 'that',\n",
              " 'it',\n",
              " 'for',\n",
              " 'i',\n",
              " 'you',\n",
              " 'not',\n",
              " 'are',\n",
              " 'with',\n",
              " 'on',\n",
              " 'as',\n",
              " 'this',\n",
              " 'was',\n",
              " 'we']"
            ]
          },
          "metadata": {},
          "execution_count": 16
        }
      ]
    },
    {
      "cell_type": "code",
      "source": [
        "X_train, X_test, y_train, y_test = train_test_split(\n",
        "        data, labels,stratify=y, test_size=0.3, random_state=3827)\n",
        "\n",
        "X_test, X_val, y_test, y_val = train_test_split(\n",
        "        X_test, y_test, stratify=y_test, test_size=0.5, random_state=3827)"
      ],
      "metadata": {
        "id": "25Wx8eAHMsLX"
      },
      "execution_count": null,
      "outputs": []
    },
    {
      "cell_type": "code",
      "source": [
        "embeddings_index = {}\n",
        "f = open(GLOVE_PATH)\n",
        "for line in f:\n",
        "    values = line.split()\n",
        "    word = values[0]\n",
        "    coefs = np.asarray(values[1:], dtype='float32')\n",
        "    embeddings_index[word] = coefs\n",
        "f.close()\n",
        "\n",
        "print('Found %s word vectors.' % len(embeddings_index))"
      ],
      "metadata": {
        "colab": {
          "base_uri": "https://localhost:8080/"
        },
        "id": "btq60JO3OSnG",
        "outputId": "d7fa0826-1bb4-4df7-f59b-d4cefe2c980c"
      },
      "execution_count": null,
      "outputs": [
        {
          "output_type": "stream",
          "name": "stdout",
          "text": [
            "Found 400000 word vectors.\n"
          ]
        }
      ]
    },
    {
      "cell_type": "code",
      "source": [
        "embedding_matrix = np.zeros((len(word_index) + 1, EMBEDDING_DIM))\n",
        "for word, i in word_index.items():\n",
        "    embedding_vector = embeddings_index.get(word)\n",
        "    if embedding_vector is not None:\n",
        "        # words not found in embedding index will be all-zeros.\n",
        "        embedding_matrix[i] = embedding_vector"
      ],
      "metadata": {
        "id": "_hXYPqfwNpyt"
      },
      "execution_count": null,
      "outputs": []
    },
    {
      "cell_type": "code",
      "source": [
        "embedding_layer = Embedding(len(word_index) + 1,\n",
        "                            EMBEDDING_DIM,\n",
        "                            weights=[embedding_matrix],\n",
        "                            input_length=MAX_SEQUENCE_LENGTH,\n",
        "                            trainable=False)"
      ],
      "metadata": {
        "id": "zcXw0jMHOF9N"
      },
      "execution_count": null,
      "outputs": []
    },
    {
      "cell_type": "code",
      "source": [
        "from tensorflow.keras.callbacks import EarlyStopping\n",
        "\n",
        "inputs = Input(shape=(MAX_SEQUENCE_LENGTH,), dtype='int32')\n",
        "embedding = embedding_layer(inputs)\n",
        "\n",
        "print(embedding.shape)\n",
        "reshape = Reshape((MAX_SEQUENCE_LENGTH,EMBEDDING_DIM,1))(embedding)\n",
        "print(reshape.shape)\n",
        "\n",
        "conv_0 = Conv2D(num_filters, kernel_size=(filter_sizes[0], embedding_dim), padding='valid', kernel_initializer='normal', activation='relu')(reshape)\n",
        "conv_1 = Conv2D(num_filters, kernel_size=(filter_sizes[1], embedding_dim), padding='valid', kernel_initializer='normal', activation='relu')(reshape)\n",
        "conv_2 = Conv2D(num_filters, kernel_size=(filter_sizes[2], embedding_dim), padding='valid', kernel_initializer='normal', activation='relu')(reshape)\n",
        "\n",
        "maxpool_0 = MaxPool2D(pool_size=(MAX_SEQUENCE_LENGTH - filter_sizes[0] + 1, 1), strides=(1,1), padding='valid')(conv_0)\n",
        "maxpool_1 = MaxPool2D(pool_size=(MAX_SEQUENCE_LENGTH - filter_sizes[1] + 1, 1), strides=(1,1), padding='valid')(conv_1)\n",
        "maxpool_2 = MaxPool2D(pool_size=(MAX_SEQUENCE_LENGTH - filter_sizes[2] + 1, 1), strides=(1,1), padding='valid')(conv_2)\n",
        "\n",
        "concatenated_tensor = Concatenate(axis=1)([maxpool_0, maxpool_1, maxpool_2])\n",
        "flatten = Flatten()(concatenated_tensor)\n",
        "dropout = Dropout(drop)(flatten)\n",
        "output = Dense(units=8, activation='softmax')(dropout)\n",
        "\n",
        "# this creates a model that includes\n",
        "model = tf.keras.Model(inputs=inputs, outputs=output)\n",
        "\n",
        "\n",
        "callback = EarlyStopping(monitor='val_loss', min_delta=0, patience=2, verbose=0, mode='auto', baseline=None, restore_best_weights=True)\n",
        "\n",
        "adam = tf.keras.optimizers.Adam(lr=1e-4, beta_1=0.9, beta_2=0.999, epsilon=1e-08, decay=0.0)\n",
        "\n",
        "model.compile(optimizer=adam, loss='categorical_crossentropy', metrics=['accuracy'])\n",
        "model.summary()"
      ],
      "metadata": {
        "colab": {
          "base_uri": "https://localhost:8080/"
        },
        "id": "y0xGczW0O4T8",
        "outputId": "2d6ccd00-b70a-4d29-f0d1-4c2ac2ecb346"
      },
      "execution_count": null,
      "outputs": [
        {
          "output_type": "stream",
          "name": "stdout",
          "text": [
            "(None, 1000, 100)\n",
            "(None, 1000, 100, 1)\n",
            "Model: \"model\"\n",
            "__________________________________________________________________________________________________\n",
            "Layer (type)                    Output Shape         Param #     Connected to                     \n",
            "==================================================================================================\n",
            "input_1 (InputLayer)            [(None, 1000)]       0                                            \n",
            "__________________________________________________________________________________________________\n",
            "embedding (Embedding)           (None, 1000, 100)    19646100    input_1[0][0]                    \n",
            "__________________________________________________________________________________________________\n",
            "reshape (Reshape)               (None, 1000, 100, 1) 0           embedding[0][0]                  \n",
            "__________________________________________________________________________________________________\n",
            "conv2d (Conv2D)                 (None, 998, 1, 512)  154112      reshape[0][0]                    \n",
            "__________________________________________________________________________________________________\n",
            "conv2d_1 (Conv2D)               (None, 997, 1, 512)  205312      reshape[0][0]                    \n",
            "__________________________________________________________________________________________________\n",
            "conv2d_2 (Conv2D)               (None, 996, 1, 512)  256512      reshape[0][0]                    \n",
            "__________________________________________________________________________________________________\n",
            "max_pooling2d (MaxPooling2D)    (None, 1, 1, 512)    0           conv2d[0][0]                     \n",
            "__________________________________________________________________________________________________\n",
            "max_pooling2d_1 (MaxPooling2D)  (None, 1, 1, 512)    0           conv2d_1[0][0]                   \n",
            "__________________________________________________________________________________________________\n",
            "max_pooling2d_2 (MaxPooling2D)  (None, 1, 1, 512)    0           conv2d_2[0][0]                   \n",
            "__________________________________________________________________________________________________\n",
            "concatenate (Concatenate)       (None, 3, 1, 512)    0           max_pooling2d[0][0]              \n",
            "                                                                 max_pooling2d_1[0][0]            \n",
            "                                                                 max_pooling2d_2[0][0]            \n",
            "__________________________________________________________________________________________________\n",
            "flatten (Flatten)               (None, 1536)         0           concatenate[0][0]                \n",
            "__________________________________________________________________________________________________\n",
            "dropout (Dropout)               (None, 1536)         0           flatten[0][0]                    \n",
            "__________________________________________________________________________________________________\n",
            "dense (Dense)                   (None, 8)            12296       dropout[0][0]                    \n",
            "==================================================================================================\n",
            "Total params: 20,274,332\n",
            "Trainable params: 628,232\n",
            "Non-trainable params: 19,646,100\n",
            "__________________________________________________________________________________________________\n"
          ]
        }
      ]
    },
    {
      "cell_type": "code",
      "source": [
        "model.fit(X_train, y_train, batch_size=batch_size, epochs=epochs, verbose=1, callbacks=callback, validation_data=(X_val, y_val))"
      ],
      "metadata": {
        "colab": {
          "base_uri": "https://localhost:8080/"
        },
        "id": "ZXD4_OZaSPYf",
        "outputId": "bf8f671d-b8e8-40f8-fab7-447687b40847"
      },
      "execution_count": null,
      "outputs": [
        {
          "output_type": "stream",
          "name": "stdout",
          "text": [
            "Epoch 1/20\n",
            "276/276 [==============================] - 32s 74ms/step - loss: 3.0139 - accuracy: 0.1594 - val_loss: 1.3972 - val_accuracy: 0.6291\n",
            "Epoch 2/20\n",
            "276/276 [==============================] - 20s 73ms/step - loss: 1.9255 - accuracy: 0.3469 - val_loss: 1.0649 - val_accuracy: 0.7001\n",
            "Epoch 3/20\n",
            "276/276 [==============================] - 21s 78ms/step - loss: 1.4012 - accuracy: 0.5116 - val_loss: 0.9295 - val_accuracy: 0.7097\n",
            "Epoch 4/20\n",
            "276/276 [==============================] - 21s 77ms/step - loss: 1.1195 - accuracy: 0.6203 - val_loss: 0.8684 - val_accuracy: 0.7300\n",
            "Epoch 5/20\n",
            "276/276 [==============================] - 21s 76ms/step - loss: 0.9656 - accuracy: 0.6676 - val_loss: 0.8227 - val_accuracy: 0.7475\n",
            "Epoch 6/20\n",
            "276/276 [==============================] - 21s 76ms/step - loss: 0.8439 - accuracy: 0.7248 - val_loss: 0.7963 - val_accuracy: 0.7514\n",
            "Epoch 7/20\n",
            "276/276 [==============================] - 21s 77ms/step - loss: 0.7827 - accuracy: 0.7421 - val_loss: 0.7680 - val_accuracy: 0.7599\n",
            "Epoch 8/20\n",
            "276/276 [==============================] - 21s 77ms/step - loss: 0.7112 - accuracy: 0.7708 - val_loss: 0.7497 - val_accuracy: 0.7689\n",
            "Epoch 9/20\n",
            "276/276 [==============================] - 21s 76ms/step - loss: 0.6506 - accuracy: 0.7928 - val_loss: 0.7470 - val_accuracy: 0.7683\n",
            "Epoch 10/20\n",
            "276/276 [==============================] - 21s 77ms/step - loss: 0.6125 - accuracy: 0.8049 - val_loss: 0.7248 - val_accuracy: 0.7706\n",
            "Epoch 11/20\n",
            "276/276 [==============================] - 22s 79ms/step - loss: 0.5841 - accuracy: 0.8138 - val_loss: 0.7125 - val_accuracy: 0.7728\n",
            "Epoch 12/20\n",
            "276/276 [==============================] - 21s 76ms/step - loss: 0.5410 - accuracy: 0.8285 - val_loss: 0.7077 - val_accuracy: 0.7694\n",
            "Epoch 13/20\n",
            "276/276 [==============================] - 21s 76ms/step - loss: 0.5157 - accuracy: 0.8333 - val_loss: 0.6993 - val_accuracy: 0.7717\n",
            "Epoch 14/20\n",
            "276/276 [==============================] - 22s 80ms/step - loss: 0.4928 - accuracy: 0.8508 - val_loss: 0.6976 - val_accuracy: 0.7751\n",
            "Epoch 15/20\n",
            "276/276 [==============================] - 22s 79ms/step - loss: 0.4604 - accuracy: 0.8585 - val_loss: 0.6929 - val_accuracy: 0.7768\n",
            "Epoch 16/20\n",
            "276/276 [==============================] - 21s 77ms/step - loss: 0.4454 - accuracy: 0.8689 - val_loss: 0.6926 - val_accuracy: 0.7734\n",
            "Epoch 17/20\n",
            "276/276 [==============================] - 21s 76ms/step - loss: 0.4183 - accuracy: 0.8793 - val_loss: 0.6820 - val_accuracy: 0.7734\n",
            "Epoch 18/20\n",
            "276/276 [==============================] - 22s 78ms/step - loss: 0.3964 - accuracy: 0.8841 - val_loss: 0.6863 - val_accuracy: 0.7841\n",
            "Epoch 19/20\n",
            "276/276 [==============================] - 23s 82ms/step - loss: 0.3724 - accuracy: 0.8919 - val_loss: 0.6731 - val_accuracy: 0.7869\n",
            "Epoch 20/20\n",
            "276/276 [==============================] - 21s 78ms/step - loss: 0.3456 - accuracy: 0.9035 - val_loss: 0.6747 - val_accuracy: 0.7847\n"
          ]
        },
        {
          "output_type": "execute_result",
          "data": {
            "text/plain": [
              "<tensorflow.python.keras.callbacks.History at 0x7f371e698c10>"
            ]
          },
          "metadata": {},
          "execution_count": 49
        }
      ]
    },
    {
      "cell_type": "code",
      "source": [
        "model.save(\"/content/gdrive/Shareddrives/HLT-ArticlesTagging/model/CNNWordEmbGlove.h5\", include_optimizer=False)"
      ],
      "metadata": {
        "id": "BwD01nRxa7dZ"
      },
      "execution_count": null,
      "outputs": []
    },
    {
      "cell_type": "code",
      "source": [
        "model.evaluate(X_test,y_test)"
      ],
      "metadata": {
        "colab": {
          "base_uri": "https://localhost:8080/"
        },
        "id": "ioaR9HjdWVYl",
        "outputId": "88f90728-f8fa-4999-f204-3893aec28a14"
      },
      "execution_count": null,
      "outputs": [
        {
          "output_type": "stream",
          "name": "stdout",
          "text": [
            "56/56 [==============================] - 2s 32ms/step - loss: 0.6439 - accuracy: 0.7982\n"
          ]
        },
        {
          "output_type": "execute_result",
          "data": {
            "text/plain": [
              "[0.6439020037651062, 0.7981961965560913]"
            ]
          },
          "metadata": {},
          "execution_count": 51
        }
      ]
    },
    {
      "cell_type": "code",
      "source": [
        "start_time = time.time()\n",
        "pred_labels = model.predict(X_test)\n",
        "inference_time = time.time() - start_time\n",
        "print(inference_time)"
      ],
      "metadata": {
        "id": "FE1DtiPdXBp5",
        "colab": {
          "base_uri": "https://localhost:8080/"
        },
        "outputId": "963a5f37-0efd-460b-e650-86c8ccd0746f"
      },
      "execution_count": null,
      "outputs": [
        {
          "output_type": "stream",
          "name": "stdout",
          "text": [
            "1.5485806465148926\n"
          ]
        }
      ]
    },
    {
      "cell_type": "code",
      "source": [
        "LABELS=['Technology','Politics','Health','Education','Music','Travel','Finance','History']\n",
        "labels_list = []\n",
        "for pred_label in pred_labels:\n",
        "  label = LABELS[np.argmax(pred_label)]\n",
        "  labels_list.append(label)\n",
        "\n",
        "gold_lab = []\n",
        "for true_lab in y_test:\n",
        "  label = LABELS[np.argmax(true_lab)]\n",
        "  gold_lab.append(label)"
      ],
      "metadata": {
        "id": "GybIJpXMXKs5"
      },
      "execution_count": null,
      "outputs": []
    },
    {
      "cell_type": "code",
      "source": [
        "fig, ax = plt.subplots(figsize=(6, 6))\n",
        "ConfusionMatrixDisplay.from_predictions(gold_lab, labels_list, xticks_rotation='vertical', ax=ax)"
      ],
      "metadata": {
        "colab": {
          "base_uri": "https://localhost:8080/",
          "height": 423
        },
        "id": "CEuE-daGWsmm",
        "outputId": "7e0f545f-8770-49d6-85b2-cbc655ef4b7c"
      },
      "execution_count": null,
      "outputs": [
        {
          "output_type": "execute_result",
          "data": {
            "text/plain": [
              "<sklearn.metrics._plot.confusion_matrix.ConfusionMatrixDisplay at 0x7f3726032ed0>"
            ]
          },
          "metadata": {},
          "execution_count": 55
        },
        {
          "output_type": "display_data",
          "data": {
            "text/plain": [
              "<Figure size 432x432 with 2 Axes>"
            ],
            "image/png": "[encoded data removed]"
          },
          "metadata": {
            "needs_background": "light"
          }
        }
      ]
    },
    {
      "cell_type": "code",
      "source": [
        "f1_summary = f1_score(gold_lab, labels_list, average=None)\n",
        "f1_micro = f1_score(gold_lab, labels_list, average=\"micro\")\n",
        "f1_macro = f1_score(gold_lab, labels_list, average=\"macro\")\n",
        "print(f1_summary)\n",
        "print(f1_micro)\n",
        "print(f1_macro)"
      ],
      "metadata": {
        "id": "b6kQ5flXbTLg",
        "outputId": "edf76cb2-5ec2-45ff-9048-46072274c571",
        "colab": {
          "base_uri": "https://localhost:8080/"
        }
      },
      "execution_count": null,
      "outputs": [
        {
          "output_type": "stream",
          "name": "stdout",
          "text": [
            "[0.75779376 0.81304348 0.81531532 0.7804878  0.86547085 0.81018519\n",
            " 0.75750577 0.7827957 ]\n",
            "0.798196166854566\n",
            "0.7978247341552691\n"
          ]
        }
      ]
    },
    {
      "cell_type": "markdown",
      "source": [
        "# Graphs"
      ],
      "metadata": {
        "id": "GJ1UVqhgYZRE"
      }
    },
    {
      "cell_type": "code",
      "source": [
        "import matplotlib.pyplot as plt\n",
        "from matplotlib.colors import ListedColormap\n",
        "\n",
        "inference_time = [7.3, 1.54, 2.3, 136.7] # COMPLETO\n",
        "training_time = [650, 440 ,10.9, 0]      # COMPLETO\n",
        "f1_micro_list = [0.688, 0.79819, 0.7602, 0.4832]   # INCOMPLETO\n",
        "f1_macro_list = [0.6865, 0.7978, 0.7590, 0.4891]   # INCOMPLETO\n",
        "\n",
        "Accuracy = [0.6883, 0.7981, 0.7602, 0.4832]\n",
        "\n",
        "label = (\"smallBERT\",\"CNN\",\"Bayes\",\"Keyword\")\n",
        "\n",
        "classes = ['A', 'B', 'C']\n",
        "#values = [0, 1, 2, 4]\n",
        "colors = ['#1f77b4', '#ff7f0e', '#2ca02c', '#d62728']\n",
        "#colors = ListedColormap(['r','b','g'])\n",
        "scatter = plt.scatter(inference_time, Accuracy, c=colors)\n",
        "\n",
        "plt.xlabel(\"Inference Time (s)\")\n",
        "plt.ylabel(\"Accuracy\")\n",
        "plt.grid(True)\n",
        "\n",
        "handlelist = [plt.plot([], marker=\"o\", ls=\"\", color=color)[0] for color in colors]\n",
        "\n",
        "plt.legend(handles=handlelist, labels=label, title=\"Methods\", loc = \"lower right\", bbox_to_anchor = (1.35,0.5))"
      ],
      "metadata": {
        "colab": {
          "base_uri": "https://localhost:8080/",
          "height": 296
        },
        "id": "VmD2rjbPWKMQ",
        "outputId": "011bace8-29c6-4605-8d31-7cddcc73a386"
      },
      "execution_count": null,
      "outputs": [
        {
          "output_type": "execute_result",
          "data": {
            "text/plain": [
              "<matplotlib.legend.Legend at 0x7f9ab8770390>"
            ]
          },
          "metadata": {},
          "execution_count": 6
        },
        {
          "output_type": "display_data",
          "data": {
            "text/plain": [
              "<Figure size 432x288 with 1 Axes>"
            ],
            "image/png": "[encoded data removed]"
          },
          "metadata": {
            "needs_background": "light"
          }
        }
      ]
    },
    {
      "cell_type": "code",
      "source": [
        "inference_time = [7.3, 1.54, 2.3, 136.7] # COMPLETO\n",
        "training_time = [650, 440 ,10.9, 0]      # COMPLETO\n",
        "f1_micro_list = [0.688, 0.79819, 0.7602, 0.4832]   # INCOMPLETO\n",
        "f1_macro_list = [0.6865, 0.7978, 0.7590, 0.4891]   # INCOMPLETO\n",
        "Accuracy = [0.6883, 0.7981, 0.7602, 0.4832]\n",
        "\n",
        "label = (\"smallBERT\",\"CNN\",\"Bayes\",\"Keyword\")\n",
        "\n",
        "classes = ['A', 'B', 'C']\n",
        "colors = ['#1f77b4', '#ff7f0e', '#2ca02c', '#d62728']\n",
        "scatter = plt.scatter(training_time, Accuracy, c=colors)\n",
        "\n",
        "plt.xlabel(\"Training Time (s)\")\n",
        "plt.ylabel(\"Accuracy\")\n",
        "plt.grid(True)\n",
        "\n",
        "handlelist = [plt.plot([], marker=\"o\", ls=\"\", color=color)[0] for color in colors]\n",
        "\n",
        "plt.legend(handles=handlelist, labels=label, title=\"Methods\", loc = \"lower right\", bbox_to_anchor = (1.35,0.5))"
      ],
      "metadata": {
        "colab": {
          "base_uri": "https://localhost:8080/",
          "height": 296
        },
        "id": "zCrZG-X6cCPb",
        "outputId": "de86d02f-709a-4517-81be-b23899dea96a"
      },
      "execution_count": null,
      "outputs": [
        {
          "output_type": "execute_result",
          "data": {
            "text/plain": [
              "<matplotlib.legend.Legend at 0x7f9ab8195050>"
            ]
          },
          "metadata": {},
          "execution_count": 7
        },
        {
          "output_type": "display_data",
          "data": {
            "text/plain": [
              "<Figure size 432x288 with 1 Axes>"
            ],
            "image/png": "[encoded data removed]"
          },
          "metadata": {
            "needs_background": "light"
          }
        }
      ]
    },
    {
      "cell_type": "code",
      "source": [
        "inference_time = [7.3, 18.5, 7.7, 17.9, 17.8] # COMPLETO\n",
        "training_time = [650, 872 ,1048, 1203, 2124]      # COMPLETO\n",
        "Accuracy = [0.6883, 0.3951, 0.4177, 0.6246, 0.5795]   # INCOMPLETO\n",
        "\n",
        "\n",
        "label = (\"smallBERT\",\"Albert\",\"Electra\",\"BertBase\", \"BertExpert\")\n",
        "\n",
        "classes = ['A', 'B', 'C']\n",
        "colors = ['#1f77b4', '#ff7f0e', '#2ca02c', '#d62728', '#9467bd']\n",
        "scatter = plt.scatter(Accuracy, training_time, c=colors)\n",
        "\n",
        "plt.xlabel(\"Accuracy\")\n",
        "plt.ylabel(\"Training time (S)\")\n",
        "plt.grid(True)\n",
        "\n",
        "handlelist = [plt.plot([], marker=\"o\", ls=\"\", color=color)[0] for color in colors]\n",
        "\n",
        "plt.legend(handles=handlelist, labels=label, title=\"Methods\", loc = \"lower right\", bbox_to_anchor = (1.35,0.5))"
      ],
      "metadata": {
        "colab": {
          "base_uri": "https://localhost:8080/",
          "height": 296
        },
        "id": "Zu9aZCNPbSKl",
        "outputId": "28ef3624-c925-40bf-92f2-d4aa53a739b7"
      },
      "execution_count": null,
      "outputs": [
        {
          "output_type": "execute_result",
          "data": {
            "text/plain": [
              "<matplotlib.legend.Legend at 0x7f60b6392b90>"
            ]
          },
          "metadata": {},
          "execution_count": 6
        },
        {
          "output_type": "display_data",
          "data": {
            "text/plain": [
              "<Figure size 432x288 with 1 Axes>"
            ],
            "image/png": "[encoded data removed]"
          },
          "metadata": {
            "needs_background": "light"
          }
        }
      ]
    },
    {
      "cell_type": "code",
      "source": [
        "inference_time = [7.3, 18.5, 7.7, 17.9, 17.8] # COMPLETO\n",
        "training_time = [650, 872 ,1048, 1203, 2124]      # COMPLETO\n",
        "Accuracy = [0.6883, 0.3951, 0.4177, 0.6246, 0.5795]   # INCOMPLETO\n",
        "\n",
        "\n",
        "label = (\"smallBERT\",\"Albert\",\"Electra\",\"BertBase\", \"BertExpert\")\n",
        "\n",
        "classes = ['A', 'B', 'C']\n",
        "colors = ['#1f77b4', '#ff7f0e', '#2ca02c', '#d62728', '#9467bd']\n",
        "scatter = plt.scatter(Accuracy, inference_time, c=colors)\n",
        "\n",
        "plt.xlabel(\"Accuracy\")\n",
        "plt.ylabel(\"Inference time (S)\")\n",
        "plt.grid(True)\n",
        "\n",
        "handlelist = [plt.plot([], marker=\"o\", ls=\"\", color=color)[0] for color in colors]\n",
        "\n",
        "plt.legend(handles=handlelist, labels=label, title=\"Methods\", loc = \"lower right\", bbox_to_anchor = (1.35,0.5))"
      ],
      "metadata": {
        "colab": {
          "base_uri": "https://localhost:8080/",
          "height": 296
        },
        "id": "sM9PByMFeyyq",
        "outputId": "3f3e27f6-40fe-4cea-df70-a665fedeeff9"
      },
      "execution_count": null,
      "outputs": [
        {
          "output_type": "execute_result",
          "data": {
            "text/plain": [
              "<matplotlib.legend.Legend at 0x7f60b62c5b90>"
            ]
          },
          "metadata": {},
          "execution_count": 7
        },
        {
          "output_type": "display_data",
          "data": {
            "text/plain": [
              "<Figure size 432x288 with 1 Axes>"
            ],
            "image/png": "[encoded data removed]"
          },
          "metadata": {
            "needs_background": "light"
          }
        }
      ]
    }
  ]
}